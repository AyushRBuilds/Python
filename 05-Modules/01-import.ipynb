{
 "cells": [
  {
   "cell_type": "markdown",
   "id": "ffc99833",
   "metadata": {},
   "source": [
    "\n",
    "**Importing Modules in Python: Modules and Packages**\n",
    "\n",
    "In Python, modules and packages help organize and reuse code. Here's a comprehensive guide on how to import them."
   ]
  },
  {
   "cell_type": "code",
   "execution_count": null,
   "id": "722012ff",
   "metadata": {},
   "outputs": [
    {
     "data": {
      "text/plain": [
       "4.0"
      ]
     },
     "execution_count": 1,
     "metadata": {},
     "output_type": "execute_result"
    }
   ],
   "source": [
    "import math\n",
    "math.sqrt(16) ## here after importing the maths we access its methods using maths.<method>"
   ]
  },
  {
   "cell_type": "code",
   "execution_count": 8,
   "id": "17fbf979",
   "metadata": {},
   "outputs": [
    {
     "name": "stdout",
     "output_type": "stream",
     "text": [
      "10.0\n",
      "8.0\n",
      "3.141592653589793\n"
     ]
    },
    {
     "data": {
      "text/plain": [
       "0.9999996829318346"
      ]
     },
     "execution_count": 8,
     "metadata": {},
     "output_type": "execute_result"
    }
   ],
   "source": [
    "from math import sqrt,pi # but here we are import maths with specific functions/constants. Thus we don't use math.<> any more .\n",
    "print(sqrt(100))\n",
    "print(sqrt(64))\n",
    "print(pi)\n",
    "\n",
    "math.sin(1.57)"
   ]
  },
  {
   "cell_type": "code",
   "execution_count": null,
   "id": "5eb24262",
   "metadata": {},
   "outputs": [
    {
     "data": {
      "text/plain": [
       "array([1, 2, 3, 4])"
      ]
     },
     "execution_count": 9,
     "metadata": {},
     "output_type": "execute_result"
    }
   ],
   "source": [
    "import numpy as np\n",
    "np.array([1,2,3,4])\n",
    "\n",
    "# What is np?\n",
    "# - np is just a nickname or  standard alias for the numpy library.\n",
    "#     - you're telling Python:\n",
    "# - “I want to use the numpy library, but I’ll refer to it as np from now on.”\n",
    "\n",
    "# what NumPy does under the hood:\n",
    "# - It takes the list [1, 2, 3, 4] and converts it into a homogeneous array (all elements of the same type).\n",
    "# - The result is a 1-dimensional array with 4 elements.\n",
    "\n"
   ]
  },
  {
   "cell_type": "code",
   "execution_count": null,
   "id": "ba74fdef",
   "metadata": {},
   "outputs": [
    {
     "name": "stdout",
     "output_type": "stream",
     "text": [
      "5.0\n",
      "3.141592653589793\n"
     ]
    }
   ],
   "source": [
    "from math import *  # - from math import * imports all functions and constants from the math module.\n",
    "print(sqrt(25))\n",
    "print(pi)"
   ]
  },
  {
   "cell_type": "code",
   "execution_count": null,
   "id": "8c4850f0",
   "metadata": {},
   "outputs": [
    {
     "name": "stdout",
     "output_type": "stream",
     "text": [
      "5\n",
      "7\n"
     ]
    },
    {
     "ename": "",
     "evalue": "",
     "output_type": "error",
     "traceback": [
      "\u001b[1;31mThe Kernel crashed while executing code in the current cell or a previous cell. \n",
      "\u001b[1;31mPlease review the code in the cell(s) to identify a possible cause of the failure. \n",
      "\u001b[1;31mClick <a href='https://aka.ms/vscodeJupyterKernelCrash'>here</a> for more info. \n",
      "\u001b[1;31mView Jupyter <a href='command:jupyter.viewOutput'>log</a> for further details."
     ]
    }
   ],
   "source": [
    "from Packages.maths import addition ## This is One method of accesing the customised packages.\n",
    "addition(2,3)\n",
    "\n",
    "\n",
    "# **Role of '_init_.py'**\n",
    "\n",
    "# -  '_init_.py' is a special file that tells Python: “Hey, this folder is a package!”\n",
    "# -  Without it, Python won’t treat the folder as a package, and you can’t import from it.\n",
    "# -  It can be empty, or you can use it to expose specific functions/classes when the package is imported.\n",
    "# Example for Packages/__init__.py\n",
    "\n",
    "## Another method of accessing the customized packages is:\n",
    "\n",
    "\n",
    "from Packages import maths\n",
    "print(maths.addition(2,3)),\n",
    "print(maths.substraction(12,5))"
   ]
  },
  {
   "cell_type": "markdown",
   "id": "28e96bb6",
   "metadata": {},
   "source": [
    " **Key Rules to Remember**\n",
    "\n",
    " \n",
    "| Concept         | Why It Matters                                         |\n",
    "|-----------------|-------------------------------------------------------|\n",
    "| `__init__.py`   | Required to mark folders as packages                   |\n",
    "| Same directory  | All files must be in the correct structure             |\n",
    "| Import paths    | Follow the hierarchy: Packages.maths.addition          |\n",
    "| Reusability     | You can use this structure across projects             |\n",
    "\n",
    "\n",
    "\n",
    "\n",
    "\n",
    "\n",
    "\n",
    "\n",
    "\n"
   ]
  },
  {
   "cell_type": "markdown",
   "id": "a03d9789",
   "metadata": {},
   "source": []
  },
  {
   "cell_type": "markdown",
   "id": "bad6f057",
   "metadata": {},
   "source": [
    "\n",
    "**Conclusion :**\n",
    "\n",
    "Importing modules and packages in Python allows you to organize your code, reuse functionalities, and keep your projects clean and manageable. By understanding how to import modules, specific functions, and use relative imports within packages, you can structure your Python applications more effectively."
   ]
  },
  {
   "cell_type": "code",
   "execution_count": null,
   "id": "c50d28a1",
   "metadata": {},
   "outputs": [
    {
     "data": {
      "text/plain": [
       "6"
      ]
     },
     "execution_count": 2,
     "metadata": {},
     "output_type": "execute_result"
    }
   ],
   "source": [
    "from Packages.subpackages.multiply import Multiplication\n",
    "Multiplication(2,3)\n",
    "  # What is Happenning in here !\n",
    "#   - Packages.subpackages.multiply\n",
    "# This is a module path. It means:\n",
    "# - Packages is the top-level package.\n",
    "# - Inside it, there's a subpackage called subpackages.\n",
    "# - Inside that, there's a module named multiply.py.\n",
    "# - from Packages.subpackages.multiply import Multiplication\n",
    "# This line imports the Multiplication object (likely a class or function) from the multiply module so you can use it directly.\n"
   ]
  },
  {
   "cell_type": "code",
   "execution_count": null,
   "id": "152b4d66",
   "metadata": {},
   "outputs": [],
   "source": [
    "## handling Import errors\n",
    "try:\n",
    "    import non_existent_module\n",
    "except ImportError as e:\n",
    "    print(f\"Error Importing Module:{e}\")"
   ]
  },
  {
   "cell_type": "markdown",
   "id": "f52b0bf1",
   "metadata": {},
   "source": [
    "**Line-by-Line Breakdown**\n",
    "\n",
    "🔹 try:\n",
    "- Purpose: Begins a block of code that Python will attempt to run.\n",
    "- Why use it?: You're telling Python: “Try this, but if it fails, I’ll handle the error myself.”\n",
    "- Use case: Useful when you're not sure if something will succeed—like importing a module that might not be installed.\n",
    "🔹 import non_existent_module\n",
    "- Purpose: Attempts to import a module named non_existent_module.\n",
    "- Why use it?: This is where the potential error could occur. If the module doesn’t exist, Python will raise an ImportError.\n",
    "- Note: This is a placeholder name. In real scenarios, you'd use actual module names like numpy, pandas, etc.\n",
    "\n",
    "\n",
    "except ImportError as e:\n",
    "    print(f\"Error Importing Module:{e}\")\n",
    "\n",
    "\n",
    "🔹 except ImportError as e:\n",
    "- Purpose: Catches the specific error type ImportError that occurs when a module fails to import.\n",
    "- Why use ImportError?: It’s the built-in exception Python raises when it can’t find or load a module.\n",
    "- Why as e?: This assigns the error object to the variable e, so you can access its message or details.\n",
    "🔹 print(f\"Error Importing Module:{e}\")\n",
    "- Purpose: Displays a user-friendly error message.\n",
    "- Why use f\"\"?: This is an f-string, a modern and readable way to format strings in Python.\n",
    "- What {e} does: Inserts the actual error message (e.g., No module named 'non_existent_module') into the strin\n",
    " --- \n",
    "\n",
    "Default Syntax Summary\n",
    "Here’s the general syntax pattern you're using:\n",
    "\n",
    "\n",
    "``` PYTHON\n",
    "try:\n",
    "    import non_existent_module\n",
    "except ImportError as e:\n",
    "    print(f\"Error Importing Module:{e}\")"
   ]
  },
  {
   "cell_type": "markdown",
   "id": "a07a811c",
   "metadata": {},
   "source": []
  }
 ],
 "metadata": {
  "kernelspec": {
   "display_name": "Python 3",
   "language": "python",
   "name": "python3"
  },
  "language_info": {
   "codemirror_mode": {
    "name": "ipython",
    "version": 3
   },
   "file_extension": ".py",
   "mimetype": "text/x-python",
   "name": "python",
   "nbconvert_exporter": "python",
   "pygments_lexer": "ipython3",
   "version": "3.12.0"
  }
 },
 "nbformat": 4,
 "nbformat_minor": 5
}
