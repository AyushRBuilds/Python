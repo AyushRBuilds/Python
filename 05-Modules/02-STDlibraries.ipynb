{
 "cells": [
  {
   "cell_type": "markdown",
   "id": "13c17752",
   "metadata": {},
   "source": [
    "\n",
    "**Standard Library Overview**\n",
    "\n",
    "Python's Standard Library is a vast collection of modules and packages that come bundled with Python, providing a wide range of functionalities out of the box. Here's an overview of some of the most commonly used modules and packages in the Python Standard Library."
   ]
  },
  {
   "cell_type": "code",
   "execution_count": null,
   "id": "13d86028",
   "metadata": {},
   "outputs": [
    {
     "name": "stdout",
     "output_type": "stream",
     "text": [
      "array('i', [1, 2, 3, 4])\n"
     ]
    }
   ],
   "source": [
    "import array\n",
    "arr=array.array('i',[1,2,3,4])\n",
    "# - arr = array.array('i', [1, 2, 3, 4]): This creates an array named arr. The 'i' specifies the type of elements in the array—here, 'i' stands for signed integers. The list [1, 2, 3, 4] provides the initial values for the array.\n",
    "print(arr)\n",
    "\n",
    "# - print(arr): This prints the array object. However, instead of printing the elements directly, it shows something like array('i', [1, 2, 3, 4]), which includes the type code and the list of elements.\n"
   ]
  },
  {
   "cell_type": "code",
   "execution_count": 2,
   "id": "7ea605ce",
   "metadata": {},
   "outputs": [
    {
     "name": "stdout",
     "output_type": "stream",
     "text": [
      "4.0\n",
      "3.141592653589793\n"
     ]
    }
   ],
   "source": [
    "import math\n",
    "print(math.sqrt(16))\n",
    "print(math.pi)"
   ]
  },
  {
   "cell_type": "code",
   "execution_count": null,
   "id": "deb16c96",
   "metadata": {},
   "outputs": [
    {
     "name": "stdout",
     "output_type": "stream",
     "text": [
      "c:\\Users\\ACER NITRO V 15\\OneDrive\\Desktop\\CODING\\Python\\05-Modules\n"
     ]
    }
   ],
   "source": [
    "\n",
    "### File And Directory Access\n",
    "\n",
    "import os\n",
    "print(os.getcwd())\n",
    "\n",
    "\n",
    "# 1. import os\n",
    "# -  Purpose: This line imports Python’s built-in os module, which provides a way to interact with the operating system.\n",
    "# -  Why it's useful: It lets you work with file paths, directories, environment variables, and more—essential for tasks like file access, navigation, and automation.\n",
    "# 2. print(os.getcwd())\n",
    "# -  os.getcwd() stands for \"get current working directory\".\n",
    "# -  It returns the absolute path of the directory where your Python script is currently running.\n",
    "# -  print(...) simply displays that path in the console\n"
   ]
  },
  {
   "cell_type": "code",
   "execution_count": null,
   "id": "12283f4e",
   "metadata": {},
   "outputs": [],
   "source": [
    "os.mkdir('test_dir')\n",
    "\n",
    "# - os is Python’s built-in Operating System interface module.\n",
    "# - mkdir() stands for make directory.\n",
    "# - 'test_dir' is the name of the directory you want to create.\n",
    "# So, os.mkdir('test_dir') tells Python to create a folder named test_dir in the current working directory.\n"
   ]
  },
  {
   "cell_type": "code",
   "execution_count": null,
   "id": "fed15567",
   "metadata": {},
   "outputs": [
    {
     "name": "stdout",
     "output_type": "stream",
     "text": [
      "2\n",
      "cherry\n"
     ]
    }
   ],
   "source": [
    "# Random\n",
    "\n",
    "import random\n",
    "print(random.randint(1,10))\n",
    "print(random.choice(['apple','banana','cherry']))\n",
    "\n",
    "# - import random :\n",
    "# This line brings in Python’s built-in random module, which provides functions to generate random numbers and make random selections. Without importing it, you can't access its features.\n",
    "# - print(random.randint(1,10)) :\n",
    "# This line prints a random integer between 1 and 10, inclusive.\n",
    "# - random.randint(a, b) returns a whole number n such that a ≤ n ≤ b.\n",
    "# - So, every time you run this, you might get a different number like 3, 7, or 10.\n",
    "# - print(random.choice(['apple','banana','cherry'])) :\n",
    "# This line randomly selects and prints one item from the list ['apple', 'banana', 'cherry'].\n",
    "# - random.choice(sequence) picks one element from any non-empty sequence (like a list, tuple, or string).\n",
    "# - Each item has an equal chance of being chosen.\n"
   ]
  },
  {
   "cell_type": "code",
   "execution_count": null,
   "id": "d89e2bb1",
   "metadata": {},
   "outputs": [
    {
     "data": {
      "text/plain": [
       "'destination.txt'"
      ]
     },
     "execution_count": 8,
     "metadata": {},
     "output_type": "execute_result"
    }
   ],
   "source": [
    "# High Level operations on files and collection of files\n",
    "import shutil\n",
    "shutil.copyfile('source.txt','destination.txt')\n",
    "\n",
    "# What Does shutil.copyfile('source.txt', 'destination.txt') Do?\n",
    "# This line copies the contents of 'source.txt' into 'destination.txt'.\n",
    "# - It overwrites 'destination.txt' if it already exists.\n",
    "# - It does not copy metadata like file permissions or timestamps—just the raw content.\n",
    "# - It requires both paths to be file paths, not directories\n",
    "\n",
    "\n",
    "# What Is shutil?\n",
    "# shutil stands for shell utilities. It's a Python module used for high-level file operations, especially when you're dealing with copying, moving, archiving, or deleting files and directories\n"
   ]
  },
  {
   "cell_type": "markdown",
   "id": "be2bb9ba",
   "metadata": {},
   "source": [
    "| Function             | Purpose                      | Example Code Snippet                                   | Real-World Use Case                                 |\n",
    "|----------------------|-----------------------------|--------------------------------------------------------|-----------------------------------------------------|\n",
    "| shutil.copy()        | Copy file with permissions   | `shutil.copy('template.ini', 'user.ini')`              | Creating a user config from a base template         |\n",
    "| shutil.copy2()       | Copy file with full metadata | `shutil.copy2('data.csv', 'backup/data_backup.csv')`   | Backing up data while preserving timestamps         |\n",
    "| shutil.move()        | Move file or directory       | `shutil.move('report.txt', 'archive/2025/report.txt')` | Archiving processed reports                         |\n",
    "| shutil.rmtree()      | Delete directory recursively | `shutil.rmtree('temp_build/')`                         | Cleaning up temporary build folders                 |\n",
    "| shutil.make_archive()| Create compressed archive    | `shutil.make_archive('project_backup', 'zip', 'project_data/')` | Exporting project data as a .zip for sharing or storage |\n",
    "\n",
    "\n",
    "\n",
    "\n"
   ]
  },
  {
   "cell_type": "code",
   "execution_count": null,
   "id": "872f9ef9",
   "metadata": {},
   "outputs": [
    {
     "name": "stdout",
     "output_type": "stream",
     "text": [
      "{\"name\": \"krish\", \"age\": 25}\n",
      "<class 'str'>\n",
      "{'name': 'krish', 'age': 25}\n",
      "<class 'dict'>\n"
     ]
    }
   ],
   "source": [
    "# Data Serialization\n",
    "import json\n",
    "data={'name':'krish','age':25}\n",
    "\n",
    "json_str=json.dumps(data)\n",
    "print(json_str)\n",
    "print(type(json_str))\n",
    "\n",
    "parsed_data = json.loads(json_str)\n",
    "print(parsed_data)\n",
    "print(type(parsed_data))\n",
    "\n",
    "\n",
    "# What is happening in here ?\n",
    "# - import json\n",
    "# This line imports Python's built-in json module, which provides functions to work with JSON data—allowing you to convert between Python objects and JSON strings.\n",
    "# - data = {'name': 'krish', 'age': 25}\n",
    "# Here, you're creating a Python dictionary named data with two key-value pairs: one for the name \"krish\" and one for the age 25.\n",
    "# - json_str = json.dumps(data)\n",
    "# This line converts the Python dictionary data into a JSON-formatted string using json.dumps(). The result is stored in the variable json_str.\n",
    "# - print(json_str)\n",
    "# This prints the JSON string to the console. It will look like: {\"name\": \"krish\", \"age\": 25}.\n",
    "# - print(type(json_str))\n",
    "# This prints the type of json_str, which will be <class 'str'>, confirming that it's a string.\n",
    "# - parsed_data = json.loads(json_str)\n",
    "# Now you're converting the JSON string back into a Python dictionary using json.loads(). The result is stored in parsed_data.\n",
    "# - print(parsed_data)\n",
    "# This prints the parsed dictionary, which will look like: {'name': 'krish', 'age': 25}.\n",
    "# - print(type(parsed_data))\n",
    "# This prints the type of parsed_data, which will be <class 'dict'>, confirming that it's a dictionary again\n",
    "\n"
   ]
  },
  {
   "cell_type": "code",
   "execution_count": null,
   "id": "fc79ed70",
   "metadata": {},
   "outputs": [
    {
     "name": "stdout",
     "output_type": "stream",
     "text": [
      "['name', 'age']\n",
      "['Avi', '20']\n"
     ]
    }
   ],
   "source": [
    "## CSV\n",
    "import csv\n",
    "\n",
    "with open('example.csv', mode='w', newline='') as file:\n",
    "    writer = csv.writer(file)\n",
    "    writer.writerow(['name', 'age'])\n",
    "    writer.writerow(['Avi', 20])\n",
    "\n",
    "# Reading must be done in a separate 'with' block after writing is complete\n",
    "with open('example.csv', mode='r') as file:\n",
    "    reader = csv.reader(file)\n",
    "    for row in reader:\n",
    "        print(row)\n"
   ]
  },
  {
   "cell_type": "markdown",
   "id": "fe8fba70",
   "metadata": {},
   "source": [
    "# CSV in Python – Full Breakdown with Syntax & Meaning\n",
    "\n",
    "## 1. Importing the CSV Module\n",
    "\n",
    "**🔹 `import csv`**  \n",
    "*What it does:*  \n",
    "Imports Python’s built-in `csv` module, which provides tools to read from and write to CSV files.\n",
    "\n",
    "*Why it’s needed:*  \n",
    "Without importing `csv`, you can’t use `csv.writer()` or `csv.reader()`—they’re part of this module.\n",
    "\n",
    "---\n",
    "\n",
    "## 2. Opening a CSV File for Writing\n",
    "\n",
    "**🔹 `with open('example.csv', mode='w', newline='') as file:`**  \n",
    "**Syntax:**  \n",
    "`open(filename, mode, newline)`\n",
    "\n",
    "- **filename:** Name of the file to open or create (e.g., `'example.csv'`)\n",
    "- **mode:** `'w'` means write mode (creates new or overwrites existing file)\n",
    "- **newline='':** Prevents extra blank lines when writing rows (especially on Windows)\n",
    "\n",
    "*What it does:*  \n",
    "Opens the file named `example.csv` for writing. The `with` statement ensures the file is automatically closed after the block finishes.\n",
    "\n",
    "*Why it’s used:*  \n",
    "Using `with open(...)` is safer and cleaner than manually opening and closing files. It handles file closing even if errors occur.\n",
    "\n",
    "---\n",
    "\n",
    "## 3. Creating a CSV Writer Object\n",
    "\n",
    "**🔹 `writer = csv.writer(file)`**  \n",
    "**Syntax:**  \n",
    "`csv.writer(file_object)`\n",
    "\n",
    "- **file_object:** The file you opened using `open()`\n",
    "\n",
    "*What it does:*  \n",
    "Creates a writer object that lets you write rows to the CSV file.\n",
    "\n",
    "*Why it’s used:*  \n",
    "This object has methods like `writerow()` that make writing structured data easy.\n",
    "\n",
    "---\n",
    "\n",
    "## 4. Writing Rows to the CSV File\n",
    "\n",
    "**🔹 `writer.writerow(['name', 'age'])`**  \n",
    "**Syntax:**  \n",
    "`writer.writerow(list_of_values)`\n",
    "\n",
    "- **list_of_values:** A list where each item becomes a column in the CSV row\n",
    "\n",
    "*What it does:*  \n",
    "Writes a single row to the CSV file. In this case, it writes the header row with column names: `name` and `age`.\n",
    "\n",
    "*Why it’s used:*  \n",
    "CSV files are structured like tables. The header row defines what each column represents.\n",
    "\n",
    "**🔹 `writer.writerow(['Avi', 20])`**  \n",
    "*What it does:*  \n",
    "Writes another row with actual data: the name `'Avi'` and age `20`.\n",
    "\n",
    "*Why it’s used:*  \n",
    "This is how you add data to your CSV file—one row at a time.\n",
    "\n",
    "---\n",
    "\n",
    "## 5. Opening a CSV File for Reading\n",
    "\n",
    "**🔹 `with open('example.csv', mode='r') as file:`**  \n",
    "**Syntax:**  \n",
    "Same as before, but `mode='r'` means read mode.\n",
    "\n",
    "*What it does:*  \n",
    "Opens the file for reading. Again, the `with` block ensures safe file handling.\n",
    "\n",
    "*Why it’s used:*  \n",
    "You can’t read from a file unless it’s opened in read mode.\n",
    "\n",
    "---\n",
    "\n",
    "## 6. Creating a CSV Reader Object\n",
    "\n",
    "**🔹 `reader = csv.reader(file)`**  \n",
    "**Syntax:**  \n",
    "`csv.reader(file_object)`\n",
    "\n",
    "*What it does:*  \n",
    "Creates a reader object that lets you loop through each row in the CSV file.\n",
    "\n",
    "*Why it’s used:*  \n",
    "This object breaks each line into a list of values, making it easy to process row-by-row.\n",
    "\n",
    "---\n",
    "\n",
    "## 7. Looping Through Rows in the CSV File\n",
    "\n",
    "**🔹 `for row in reader:`**  \n",
    "**Syntax:**  \n",
    "`for variable in iterable:`\n",
    "\n",
    "*What it does:*  \n",
    "Loops through each row returned by the reader object.\n",
    "\n",
    "*Why it’s used:*  \n",
    "This is how you access each row in the CSV file one at a time.\n",
    "\n",
    "---\n",
    "\n",
    "## 8. Printing Each Row\n",
    "\n",
    "**🔹 `print(row)`**  \n",
    "*What it does:*  \n",
    "Prints the current row to the console. Each row is a list, like `['name', 'age']` or `['Avi', '20']`.\n"
   ]
  },
  {
   "cell_type": "code",
   "execution_count": null,
   "id": "4b2d88f6",
   "metadata": {},
   "outputs": [
    {
     "name": "stdout",
     "output_type": "stream",
     "text": [
      "2025-08-08 20:40:14.853852\n",
      "2025-08-07 20:40:14.853852\n",
      "2025-08-06 20:40:14.853852\n"
     ]
    },
    {
     "ename": "",
     "evalue": "",
     "output_type": "error",
     "traceback": [
      "\u001b[1;31mThe Kernel crashed while executing code in the current cell or a previous cell. \n",
      "\u001b[1;31mPlease review the code in the cell(s) to identify a possible cause of the failure. \n",
      "\u001b[1;31mClick <a href='https://aka.ms/vscodeJupyterKernelCrash'>here</a> for more info. \n",
      "\u001b[1;31mView Jupyter <a href='command:jupyter.viewOutput'>log</a> for further details."
     ]
    }
   ],
   "source": [
    "\n",
    "## datetime\n",
    "from datetime import datetime,timedelta\n",
    "\n",
    "now=datetime.now()\n",
    "print(now)\n",
    "yesterday=now-timedelta(days=1)\n",
    "\n",
    "print(yesterday)\n",
    "\n",
    "\n",
    "day_before_yesterday=now-timedelta(days=2)\n",
    "\n",
    "print(day_before_yesterday)\n",
    "\n",
    "\n",
    "\n",
    "# What is happening in here ?\n",
    "# 1. Importing Required Classes\n",
    "# It starts by importing datetime and timedelta from the datetime module.\n",
    "# - datetime helps you work with dates and times.\n",
    "# - timedelta represents a time duration (like 1 day or 2 hours) that you can add or subtract from a date.\n",
    "# 2. Getting the Current Date and Time\n",
    "# now = datetime.now() stores the current local date and time in the variable now.\n",
    "# When printed, it might look like: 2025-08-08 20:40:00.123456.\n",
    "# 3. Calculating Yesterday\n",
    "# yesterday = now - timedelta(days=1) subtracts one day from now, giving you the date and time for yesterday.\n",
    "# If today is August 8, then yesterday would be August 7.\n",
    "# 4. Calculating Day Before Yesterday\n",
    "# day_before_yesterday = now - timedelta(days=2) subtracts two days from now, giving you the date and time for the day before yesterday.\n",
    "# If today is August 8, then this would be August 6.\n"
   ]
  },
  {
   "cell_type": "code",
   "execution_count": null,
   "id": "8fded4fb",
   "metadata": {},
   "outputs": [],
   "source": [
    "## time\n",
    "import time\n",
    "print(time.time())\n",
    "time.sleep(2)\n",
    "print(time.time())"
   ]
  },
  {
   "cell_type": "code",
   "execution_count": null,
   "id": "93e966b5",
   "metadata": {},
   "outputs": [],
   "source": [
    "\n",
    "## Regular expresiion\n",
    "import re\n",
    "\n",
    "pattern=r'\\d+'\n",
    "text='There are 123 apples 456'\n",
    "match=re.search(pattern,text)\n",
    "print(match.group())\n",
    "\n",
    "# What is happening in here ?\n",
    "# 1. Importing the re Module\n",
    "# import re brings in Python’s built-in regular expression module.\n",
    "# This module helps you search, match, and manipulate strings using patterns.\n",
    "# 2. Defining the Pattern\n",
    "# pattern = r'\\d+' sets up a regular expression pattern.\n",
    "# Here’s what it means:\n",
    "# - r'...' is a raw string, which tells Python not to treat backslashes as escape characters.\n",
    "# - \\d matches any digit (0–9).\n",
    "# - + means “one or more” of the preceding character.\n",
    "# So \\d+ matches one or more digits in a row—like 123, 456, or 2025.\n",
    "# 3. Defining the Text to Search\n",
    "# text = 'There are 123 apples 456' is the string we want to search through.\n",
    "# 4. Searching for the Pattern\n",
    "# match = re.search(pattern, text) looks for the first occurrence of the pattern in the text.\n",
    "# It returns a match object if found, or None if not.\n",
    "# 5. Printing the Match\n",
    "# print(match.group()) prints the actual matched text.\n",
    "# In this case, it prints 123, because that’s the first group of digits found in the string.\n"
   ]
  },
  {
   "cell_type": "markdown",
   "id": "59809c72",
   "metadata": {},
   "source": [
    "| **Pattern**         | **Meaning**                                | **Example Text**             | **What It Matches**         | **Explanation**                                      |\n",
    "|---------------------|---------------------------------------------|------------------------------|------------------------------|------------------------------------------------------|\n",
    "| **`\\d`**            | A single digit                             | `\"Room 5\"`                   | `5`                          | Matches one digit anywhere in the text              |\n",
    "| **`\\d+`**           | One or more digits                         | `\"There are 123 apples\"`     | `123`                        | Matches a full number (not just one digit)          |\n",
    "| `\\d{3}`             | Exactly 3 digits                           | `\"Code: 456\"`                | `456`                        | Matches a 3-digit number                            |\n",
    "| `\\d{2,4}`           | Between 2 and 4 digits                     | `\"Year: 2025\"`               | `2025`                       | Matches numbers like `20`, `202`, or `2025`         |\n",
    "| **`\\w`**            | A single word character                    | `\"A1\"`                       | `A`                          | Matches one letter, digit, or underscore            |\n",
    "| **`\\w+`**           | One or more word characters                | `\"Username: Ayush123\"`       | `Ayush123`                   | Matches full words or usernames                     |\n",
    "| **`\\s`**            | A single whitespace                        | `\"Hello World\"`              | (space between words)        | Matches one space, tab, or newline                  |\n",
    "| **`\\s+`**           | One or more whitespace characters          | `\"Hello   World\"`            | (all spaces between words)   | Matches multiple spaces together                    |\n",
    "| `.`                 | Any single character (except newline)      | `\"A!\"`                       | `A`, `!`                     | Matches any character individually                  |\n",
    "| `.+`                | One or more of any character               | `\"abc!@#\"`                   | `abc!@#`                     | Matches full sequence of characters                 |\n",
    "| `\\d*`               | Zero or more digits                        | `\"Age: \"` or `\"Age: 25\"`     | `\"\"` or `25`                 | Matches nothing or any number                       |\n",
    "| `\\d?`               | Zero or one digit                          | `\"ID: 7\"` or `\"ID: \"`        | `7` or `\"\"`                  | Matches one digit or nothing                        |\n",
    "| `[aeiou]`           | Any one vowel                              | `\"Input\"`                    | `I`, `u`                     | Matches any vowel character                         |\n",
    "| `[^0-9]`            | Any character except digits                | `\"A!\"`                       | `A`, `!`                     | Matches non-digit characters                        |\n",
    "| **`^Hello`**        | Starts with \"Hello\"                        | `\"Hello world\"`              | `Hello`                      | Matches only if text starts with `Hello`            |\n",
    "| **`world$`**        | Ends with \"world\"                          | `\"Hello world\"`              | `world`                      | Matches only if text ends with `world`              |\n",
    "| `(\\d{3})-(\\d{2})`   | Grouped digits with dash                  | `\"123-45\"`                   | `123-45`                     | Matches structured number like a code or ID         |\n",
    "| `cat|dog`           | Either \"cat\" or \"dog\"                      | `\"I love dogs\"`              | `dog`                        | Matches either word                                 |\n",
    "| `\\bword\\b`          | Exact word \"word\"                          | `\"wordplay word\"`            | `word`                       | Matches only the standalone word                    |\n",
    "| `\\Bword\\B`          | \"word\" inside another word                 | `\"swordfish\"`                | `word`                       | Matches only if part of a larger word               |\n",
    "| `\\d(?=px)`          | Digit followed by \"px\" (lookahead)         | `\"5px\"`                      | `5`                          | Matches `5` only if followed by `px`                |\n",
    "| `\\d(?!px)`          | Digit not followed by \"px\" (negative lookahead)| `\"5em\"`                  | `5`                          | Matches `5` only if not followed by `px`            |"
   ]
  },
  {
   "cell_type": "markdown",
   "id": "b8f827c0",
   "metadata": {},
   "source": [
    "\n",
    "**Conclusion**\n",
    "\n",
    "Python's Standard Library is extensive and provides tools for almost any task you can think of, from file handling to web services, from data serialization to concurrent execution. Familiarizing yourself with the modules and packages available in the Standard Library can significantly enhance your ability to write efficient and effective Python programs."
   ]
  }
 ],
 "metadata": {
  "kernelspec": {
   "display_name": "Python 3",
   "language": "python",
   "name": "python3"
  },
  "language_info": {
   "codemirror_mode": {
    "name": "ipython",
    "version": 3
   },
   "file_extension": ".py",
   "mimetype": "text/x-python",
   "name": "python",
   "nbconvert_exporter": "python",
   "pygments_lexer": "ipython3",
   "version": "3.12.0"
  }
 },
 "nbformat": 4,
 "nbformat_minor": 5
}
