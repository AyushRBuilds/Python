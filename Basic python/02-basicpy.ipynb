{
 "cells": [
  {
   "cell_type": "markdown",
   "id": "d74f43d3",
   "metadata": {},
   "source": [
    "**Declaring Aand Assigining Variables.**"
   ]
  },
  {
   "cell_type": "code",
   "execution_count": 1,
   "id": "f26f35f0",
   "metadata": {},
   "outputs": [
    {
     "name": "stdout",
     "output_type": "stream",
     "text": [
      "age: 32\n",
      "Height: 6.1\n",
      "Name: krish\n",
      "Is Student: True\n"
     ]
    }
   ],
   "source": [
    "# Assigning variables .\n",
    "age =32;\n",
    "height =6.1;\n",
    "Name=\"krish\";\n",
    "is_Student = True\n",
    "\n",
    "# Printing variables .\n",
    "print(\"age:\", age)\n",
    "print(\"Height:\",height)\n",
    "print(\"Name:\",Name)\n",
    "print(\"Is Student:\",is_Student)\n"
   ]
  },
  {
   "cell_type": "markdown",
   "id": "bf04e6a0",
   "metadata": {},
   "source": [
    "**Naming Covention**\n",
    "\n",
    "--Variables names should be descriptive.\n",
    "\n",
    "--They Must start with a letter or an '_' &contains letters,Numbers & Underscores .\n",
    "\n",
    "--Variables names are Case Sensitive.\n"
   ]
  },
  {
   "cell_type": "code",
   "execution_count": 2,
   "id": "cca65c92",
   "metadata": {},
   "outputs": [
    {
     "ename": "SyntaxError",
     "evalue": "invalid decimal literal (246312959.py, line 2)",
     "output_type": "error",
     "traceback": [
      "  \u001b[36mCell\u001b[39m\u001b[36m \u001b[39m\u001b[32mIn[2]\u001b[39m\u001b[32m, line 2\u001b[39m\n\u001b[31m    \u001b[39m\u001b[31m2age=30\u001b[39m\n    ^\n\u001b[31mSyntaxError\u001b[39m\u001b[31m:\u001b[39m invalid decimal literal\n"
     ]
    }
   ],
   "source": [
    "# Invalid variables.\n",
    "2age=30\n",
    "first-Name=\"Ayush\"\n",
    "@name=\"redekar\""
   ]
  },
  {
   "cell_type": "markdown",
   "id": "c9da7d8a",
   "metadata": {},
   "source": [
    "**Understanding Variable Types**\n",
    "\n",
    "--Python is Dynamically typed;type of variables is determined at runtime.\n",
    "\n",
    "**NOTE** => Python Allows the type of a variable to change as the program executes.This is what we calls **DYNAMIC TYPING**."
   ]
  },
  {
   "cell_type": "code",
   "execution_count": null,
   "id": "7f6d3b66",
   "metadata": {},
   "outputs": [
    {
     "name": "stdout",
     "output_type": "stream",
     "text": [
      "<class 'str'> Hello\n",
      "<class 'int'> 32\n"
     ]
    }
   ],
   "source": [
    "var =\"Hello\";\n",
    "print(type(var),var)\n",
    "# here the typecasting/cascading takes place .\n",
    "\n",
    "var=32;\n",
    "print(type(var),var)"
   ]
  },
  {
   "cell_type": "markdown",
   "id": "fee0bd7b",
   "metadata": {},
   "source": [
    "**Datatype & There Conversions.**"
   ]
  },
  {
   "cell_type": "code",
   "execution_count": null,
   "id": "9b88cdef",
   "metadata": {},
   "outputs": [
    {
     "name": "stdout",
     "output_type": "stream",
     "text": [
      "<class 'int'> 25\n",
      "<class 'str'> 25\n"
     ]
    }
   ],
   "source": [
    "age1 = 25;\n",
    "print(type(age1),age1);#Int\n",
    "# Now  we will coveert it to the string datatype.\n",
    "age_str = str(age1);\n",
    "print(type(age_str),age_str);#Now datatype  will be string but the value assign to variable remains same."
   ]
  },
  {
   "cell_type": "code",
   "execution_count": null,
   "id": "4a4deb7c",
   "metadata": {},
   "outputs": [
    {
     "ename": "ValueError",
     "evalue": "invalid literal for int() with base 10: 'ayush'",
     "output_type": "error",
     "traceback": [
      "\u001b[31m---------------------------------------------------------------------------\u001b[39m",
      "\u001b[31mValueError\u001b[39m                                Traceback (most recent call last)",
      "\u001b[36mCell\u001b[39m\u001b[36m \u001b[39m\u001b[32mIn[9]\u001b[39m\u001b[32m, line 3\u001b[39m\n\u001b[32m      1\u001b[39m \u001b[38;5;66;03m# Examples of datatype conversion which we can or cannot.\u001b[39;00m\n\u001b[32m      2\u001b[39m name=\u001b[33m\"\u001b[39m\u001b[33mayush\u001b[39m\u001b[33m\"\u001b[39m\n\u001b[32m----> \u001b[39m\u001b[32m3\u001b[39m \u001b[38;5;28;43mint\u001b[39;49m\u001b[43m(\u001b[49m\u001b[43mname\u001b[49m\u001b[43m)\u001b[49m\n",
      "\u001b[31mValueError\u001b[39m: invalid literal for int() with base 10: 'ayush'"
     ]
    }
   ],
   "source": [
    "# Examples of datatype conversion which we can or cannot.\n",
    "name=\"ayush\"\n",
    "int(name)#this conversion is not possible coz , str here is in letters and words ."
   ]
  },
  {
   "cell_type": "code",
   "execution_count": null,
   "id": "da469a0f",
   "metadata": {},
   "outputs": [
    {
     "data": {
      "text/plain": [
       "23"
      ]
     },
     "execution_count": 10,
     "metadata": {},
     "output_type": "execute_result"
    }
   ],
   "source": [
    "# But here \n",
    "age2=\"23\";\n",
    "int(age2)#here it converted becoz,the str itself is an integer.\n"
   ]
  },
  {
   "cell_type": "code",
   "execution_count": null,
   "id": "514c4dda",
   "metadata": {},
   "outputs": [
    {
     "name": "stdout",
     "output_type": "stream",
     "text": [
      "23 <class 'str'>\n"
     ]
    }
   ],
   "source": [
    "#  TYPE CASTING while taking INPUT.\n",
    "\n",
    "age3 =input(\"enter your age:\")\n",
    "print(age3 , type(age3)) # Here by default the input is considered in string datatype."
   ]
  },
  {
   "cell_type": "code",
   "execution_count": null,
   "id": "d1c41ada",
   "metadata": {},
   "outputs": [
    {
     "name": "stdout",
     "output_type": "stream",
     "text": [
      "23 <class 'int'>\n"
     ]
    }
   ],
   "source": [
    "age4 = int(input(\"enter your age:\")); # But in here we typecaste the input telling it that the input is an integer .thus its shoeing that the input is in integer.\n",
    "print(age4 ,type(age4))"
   ]
  },
  {
   "cell_type": "code",
   "execution_count": null,
   "id": "9b94c222",
   "metadata": {},
   "outputs": [],
   "source": []
  }
 ],
 "metadata": {
  "kernelspec": {
   "display_name": "Python 3",
   "language": "python",
   "name": "python3"
  },
  "language_info": {
   "codemirror_mode": {
    "name": "ipython",
    "version": 3
   },
   "file_extension": ".py",
   "mimetype": "text/x-python",
   "name": "python",
   "nbconvert_exporter": "python",
   "pygments_lexer": "ipython3",
   "version": "3.12.0"
  }
 },
 "nbformat": 4,
 "nbformat_minor": 5
}
