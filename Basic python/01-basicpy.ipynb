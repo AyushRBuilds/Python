{
 "cells": [
  {
   "cell_type": "markdown",
   "id": "58ecaedc",
   "metadata": {},
   "source": [
    "\n",
    "**Python Syntax/Semantics/comments** \n",
    "\n",
    "Syntax refers to the set of rules that defines the Combinations of symbols that are considered to be correctly structured programs in a language .In simpler terms ,syntax is about the correct arrangement of words and symbols in a code .\n",
    "\n",
    "Semantics refers to the meaning or the interpretation of the symbols,characters, and commands in alanguage .it is about What the code is supposed to do when it runs.\n",
    "\n",
    "--for Single line comment in python ctrl+/  (applicable in both jupyter and python)\n",
    "\n",
    "--for Multi line comment in python '''   '''  (applicable only in python not jupyter )"
   ]
  },
  {
   "cell_type": "code",
   "execution_count": null,
   "id": "33bf9574",
   "metadata": {},
   "outputs": [
    {
     "name": "stdout",
     "output_type": "stream",
     "text": [
      "32\n",
      "32\n"
     ]
    }
   ],
   "source": [
    "## Basic syntax rules in Python.\n",
    "## Case-Sensitivity-Python is Case sensitive.\n",
    "## Indentation => Python Uses Indentation to define blocks of code.consistent use of spaces (commonly 4 or a tab is required).\n",
    "# Note: Indentation is required at required place .\n",
    "# Note: If we don't use Indentation ; it will give us the error of indentation block.\n",
    "\n",
    "age =32\n",
    "if age>30:\n",
    "     print(age)#//here it automatically  creates the declaraction block for if ocondition unlike Js there are no use of brackets/braces.\n",
    "\n",
    "print(age)# But this is outside the declaration block we can see it right ."
   ]
  },
  {
   "cell_type": "code",
   "execution_count": null,
   "id": "0ca17893",
   "metadata": {},
   "outputs": [
    {
     "name": "stdout",
     "output_type": "stream",
     "text": [
      "28\n"
     ]
    }
   ],
   "source": [
    "# Line COntinuation Using '\\'\n",
    "var = 1+2+3+4+\\\n",
    "5+6+7\n",
    "print(var)"
   ]
  },
  {
   "cell_type": "code",
   "execution_count": null,
   "id": "cc6c190d",
   "metadata": {},
   "outputs": [
    {
     "name": "stdout",
     "output_type": "stream",
     "text": [
      "15\n"
     ]
    }
   ],
   "source": [
    "# Multiple Statemnets on single Line .\n",
    "x=5 ; y=10 ; z=x+y\n",
    "print(z)"
   ]
  },
  {
   "cell_type": "code",
   "execution_count": null,
   "id": "e597b562",
   "metadata": {},
   "outputs": [
    {
     "name": "stdout",
     "output_type": "stream",
     "text": [
      "<class 'int'>\n",
      "<class 'str'> Ayush\n"
     ]
    }
   ],
   "source": [
    "# Type Inference .\n",
    "# Cascading/Typecasting the variable.we can cascade from up to down not vice versa.\n",
    "var=10;\n",
    "print(type(var));\n",
    "var=\"Ayush\"\n",
    "print(type(var),var)"
   ]
  },
  {
   "cell_type": "code",
   "execution_count": null,
   "id": "f763d18d",
   "metadata": {},
   "outputs": [
    {
     "ename": "NameError",
     "evalue": "name 'b' is not defined",
     "output_type": "error",
     "traceback": [
      "\u001b[31m---------------------------------------------------------------------------\u001b[39m",
      "\u001b[31mNameError\u001b[39m                                 Traceback (most recent call last)",
      "\u001b[36mCell\u001b[39m\u001b[36m \u001b[39m\u001b[32mIn[4]\u001b[39m\u001b[32m, line 2\u001b[39m\n\u001b[32m      1\u001b[39m \u001b[38;5;66;03m# NAME ERROR.\u001b[39;00m\n\u001b[32m----> \u001b[39m\u001b[32m2\u001b[39m a=\u001b[43mb\u001b[49m\n\u001b[32m      3\u001b[39m \u001b[38;5;28mprint\u001b[39m(a)\n",
      "\u001b[31mNameError\u001b[39m: name 'b' is not defined"
     ]
    }
   ],
   "source": [
    "# NAME ERROR.basically we called them as Undefined Variables.\n",
    "a=b # type: ignore\n",
    "print(a)\n"
   ]
  },
  {
   "cell_type": "code",
   "execution_count": null,
   "id": "ddde8cdd",
   "metadata": {},
   "outputs": [],
   "source": []
  }
 ],
 "metadata": {
  "kernelspec": {
   "display_name": "Python 3",
   "language": "python",
   "name": "python3"
  },
  "language_info": {
   "codemirror_mode": {
    "name": "ipython",
    "version": 3
   },
   "file_extension": ".py",
   "mimetype": "text/x-python",
   "name": "python",
   "nbconvert_exporter": "python",
   "pygments_lexer": "ipython3",
   "version": "3.12.0"
  }
 },
 "nbformat": 4,
 "nbformat_minor": 5
}
