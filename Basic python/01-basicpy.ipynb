{
 "cells": [
  {
   "cell_type": "markdown",
   "id": "58ecaedc",
   "metadata": {},
   "source": [
    "\n",
    "**Python Syntax/Semantics/comments** \n",
    "\n",
    "Syntax refers to the set of rules that defines the Combinations of symbols that are considered to be correctly structured programs in a language .In simpler terms ,syntax is about the correct arrangement of words and symbols in a code .\n",
    "\n",
    "Semantics refers to the meaning or the interpretation of the symbols,characters, and commands in alanguage .it is about What the code is supposed to do when it runs.\n",
    "\n",
    "--for Single line comment in python ctrl+/  (applicable in both jupyter and python)\n",
    "\n",
    "--for Multi line comment in python '''   '''  (applicable only in python not jupyter )"
   ]
  },
  {
   "cell_type": "code",
   "execution_count": null,
   "id": "33bf9574",
   "metadata": {},
   "outputs": [
    {
     "name": "stdout",
     "output_type": "stream",
     "text": [
      "32\n",
      "32\n"
     ]
    }
   ],
   "source": [
    "## Basic syntax rules in Python.\n",
    "## Case-Sensitivity-Python is Case sensitive.\n",
    "## Indentation => Python Uses Indentation to define blocks of code.consistent use of spaces (commonly 4 or a tab is required).\n",
    "\n",
    "age =32\n",
    "if age>30:\n",
    "     print(age)#//here it automatically  creates the declaraction block for if ocondition unlike Js there are no use of brackets/braces.\n",
    "\n",
    "print(age)# But this is outside the declaration block we can see it right ."
   ]
  },
  {
   "cell_type": "code",
   "execution_count": null,
   "id": "0ca17893",
   "metadata": {},
   "outputs": [],
   "source": []
  }
 ],
 "metadata": {
  "kernelspec": {
   "display_name": "Python 3",
   "language": "python",
   "name": "python3"
  },
  "language_info": {
   "codemirror_mode": {
    "name": "ipython",
    "version": 3
   },
   "file_extension": ".py",
   "mimetype": "text/x-python",
   "name": "python",
   "nbconvert_exporter": "python",
   "pygments_lexer": "ipython3",
   "version": "3.12.0"
  }
 },
 "nbformat": 4,
 "nbformat_minor": 5
}
