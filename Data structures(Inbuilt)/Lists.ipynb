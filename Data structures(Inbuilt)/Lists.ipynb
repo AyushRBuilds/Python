{
 "cells": [
  {
   "cell_type": "markdown",
   "id": "c8879021",
   "metadata": {},
   "source": [
    "\n",
    "**Introduction To Lists**\n",
    "  - Lists are ordered, mutable collections of items.\n",
    "  - They can contain items of different data types.\n",
    "**AGENDA:**\n",
    "\n",
    "1. Introduction to Lists\n",
    "2. Creating Lists\n",
    "3. Accessing List Elements\n",
    "4. Modifying List Elements\n",
    "5. List Methods\n",
    "6. Slicing Lists\n",
    "7. Iterating Over Lists\n",
    "8.List Comprehensions\n",
    "9. Nested Lists\n",
    "10. Practical Examples and Common Errors"
   ]
  },
  {
   "cell_type": "code",
   "execution_count": null,
   "metadata": {},
   "outputs": [
    {
     "name": "stdout",
     "output_type": "stream",
     "text": [
      "<class 'list'>\n",
      "<class 'list'>\n"
     ]
    }
   ],
   "source": [
    "# Creating the list.\n",
    "lst=[]\n",
    "print(type(lst))# This is one way of creating the List \n",
    "lst1 = list()# this another way of creating it using the class directly \n",
    "print(type(lst1))"
   ]
  },
  {
   "cell_type": "markdown",
   "id": "18bd74ab",
   "metadata": {},
   "source": [
    "🧠 **Why Two Ways?**\n",
    "- Using [ ] is faster and popular for making lists quickly.\n",
    "- Using list() is more like a tool from the Python toolbox — it’s useful if you’re turning other stuff (like a string or a set) into a list.\n"
   ]
  },
  {
   "cell_type": "code",
   "execution_count": 4,
   "metadata": {},
   "outputs": [
    {
     "name": "stdout",
     "output_type": "stream",
     "text": [
      "['Ayush', 'Jack', 'Joshua']\n"
     ]
    }
   ],
   "source": [
    "# Examples .\n",
    "names =[\"Ayush\",\"Jack\",\"Joshua\"]\n",
    "print(names)"
   ]
  },
  {
   "cell_type": "code",
   "execution_count": null,
   "metadata": {},
   "outputs": [
    {
     "name": "stdout",
     "output_type": "stream",
     "text": [
      "[1, 'Hello', 3.14, True]\n"
     ]
    }
   ],
   "source": [
    "# - Python lists can hold any type of data — numbers, words, True/False values — even all mixed together in one list.\n",
    "\n",
    "mixed_list =[1,\"Hello\",3.14,True]\n",
    "print(mixed_list)"
   ]
  },
  {
   "cell_type": "code",
   "execution_count": null,
   "metadata": {},
   "outputs": [
    {
     "name": "stdout",
     "output_type": "stream",
     "text": [
      "apple\n",
      "banana\n",
      "cherry\n",
      "kiwi\n",
      "guava\n",
      "kiwi\n"
     ]
    }
   ],
   "source": [
    "# ACCESSING List Elements.\n",
    "\n",
    "fruits = [\"apple\",\"banana\",\"cherry\",\"kiwi\",\"guava\"]\n",
    "print(fruits[0])\n",
    "print(fruits[1])\n",
    "print(fruits[2])\n",
    "print(fruits[3])\n",
    "print(fruits[-1])# acces the last element on the list.\n",
    "print(fruits[-2])# access the second last on the list .\n",
    "\n",
    "# - Lists are ordered — each item has a position.\n",
    "# - Positions start at 0, not 1.\n",
    "# - You can use positive numbers to go from front to back.\n",
    "# - You can use negative numbers to go from back to front.\n"
   ]
  },
  {
   "cell_type": "code",
   "execution_count": null,
   "metadata": {},
   "outputs": [
    {
     "name": "stdout",
     "output_type": "stream",
     "text": [
      "['banana', 'cherry', 'kiwi', 'guava']\n",
      "['banana', 'cherry']\n"
     ]
    }
   ],
   "source": [
    "print(fruits[1:])\n",
    "print(fruits[1:3])# not inclusing the element on the 3rd index position.\n",
    "\n",
    "# - In slicing: list[start:end]\n",
    "# - You start at the first index you write.\n",
    "# - You end just before the second index.\n",
    "# - If you leave out the end (like list[1:]), Python goes all the way to the last item.\n"
   ]
  },
  {
   "cell_type": "code",
   "execution_count": 10,
   "metadata": {},
   "outputs": [
    {
     "data": {
      "text/plain": [
       "['apple', 'banana', 'cherry', 'kiwi', 'guava']"
      ]
     },
     "execution_count": 10,
     "metadata": {},
     "output_type": "execute_result"
    }
   ],
   "source": [
    "## Modifying The List elements.\n",
    "fruits"
   ]
  },
  {
   "cell_type": "code",
   "execution_count": 72,
   "metadata": {},
   "outputs": [
    {
     "name": "stdout",
     "output_type": "stream",
     "text": [
      "['apple', 'Watermelon', 'watermelon', 'cherry', 'banana', 'gauva', 'kiwi', 'watermelon', 'Orange', 'Orange']\n"
     ]
    }
   ],
   "source": [
    "fruits[1]=\"Watermelon\"\n",
    "print(fruits)\n",
    "\n",
    "# - This is replacing the value at position 1 in the fruits list.\n",
    "# - Since lists in Python are mutable, you can change their contents — unlike strings or tuples.\n",
    "# - In a list like fruits = [\"apple\", \"banana\", \"cherry\", \"kiwi\", \"guava\"], index 1 is \"banana\".\n",
    "# - So you're swapping \"banana\" with \"Watermelon\".\n"
   ]
  },
  {
   "cell_type": "code",
   "execution_count": null,
   "id": "cbafe1d0",
   "metadata": {},
   "outputs": [
    {
     "data": {
      "text/plain": [
       "['apple', 'watermelon']"
      ]
     },
     "execution_count": 17,
     "metadata": {},
     "output_type": "execute_result"
    }
   ],
   "source": [
    "fruits[1:]= \"watermelon\"\n",
    "fruits\n",
    "\n",
    "# - This tells Python: \"Replace everything from index 1 to the end of the list with \"watermelon\".\"\n",
    "# - But here's the catch: \"watermelon\" is a string, not a list.\n",
    "# - So Python treats \"watermelon\" like a sequence of characters:\n",
    "#  ['w', 'a', 't', 'e', 'r', 'm', 'e', 'l', 'o', 'n']\n",
    "\n",
    "# ⚠️ Why This Happens\n",
    "# - When assigning to a slice, Python expects an iterable — and strings are iterable.\n",
    "# - So instead of putting \"watermelon\" in one slot, it unpacks it letter-by-letter into the sliced positions.\n",
    "\n",
    "# If you want \"watermelon\" to stay as a single fruit in the list, wrap it in square brackets like this:\n",
    "\n",
    "fruits[1:]=[\"watermelon\"]# but then here the length of the list obv will get reduced .\n",
    "fruits\n",
    "\n"
   ]
  },
  {
   "cell_type": "code",
   "execution_count": 19,
   "id": "706f5978",
   "metadata": {},
   "outputs": [
    {
     "data": {
      "text/plain": [
       "['apple', 'banana', 'cherry', 'kiwi', 'gauva']"
      ]
     },
     "execution_count": 19,
     "metadata": {},
     "output_type": "execute_result"
    }
   ],
   "source": [
    "\n",
    "\n",
    "fruits=[\"apple\",\"banana\",\"cherry\",\"kiwi\",\"gauva\"]\n",
    "fruits"
   ]
  },
  {
   "cell_type": "code",
   "execution_count": 81,
   "id": "5011d610",
   "metadata": {},
   "outputs": [
    {
     "name": "stdout",
     "output_type": "stream",
     "text": [
      "['apple', 'Watermelon', 'cherry', 'banana', 'gauva', 'kiwi', 'Orange']\n"
     ]
    }
   ],
   "source": [
    "## LIST METHODS\n",
    "# while \"watermelon\" in fruits:\n",
    "#     fruits.remove(\"watermelon\")\n",
    "# while \"Orange\" in fruits:\n",
    "#     fruits.remove(\"Orange\")\n",
    "\n",
    "# fruits\n",
    "\n",
    "\n",
    "fruits.append(\"Orange\") ## Add an item to the end of the list.\n",
    "print(fruits)"
   ]
  },
  {
   "cell_type": "code",
   "execution_count": 82,
   "id": "22f1604b",
   "metadata": {},
   "outputs": [
    {
     "name": "stdout",
     "output_type": "stream",
     "text": [
      "['apple', 'watermelon', 'Watermelon', 'cherry', 'banana', 'gauva', 'kiwi', 'Orange']\n"
     ]
    }
   ],
   "source": [
    "fruits.insert(1,\"watermelon\")# insert(index, item) adds the given item at the specified index in a list, shifting existing elements to the right.\n",
    "print(fruits)\n",
    "\n",
    "## BTW just u might have noticed that well we inserted the watermelon once only then why its showing us the 3 times well that's coz of me  I run the same code block three time"
   ]
  },
  {
   "cell_type": "code",
   "execution_count": 83,
   "id": "1d9efeae",
   "metadata": {},
   "outputs": [
    {
     "name": "stdout",
     "output_type": "stream",
     "text": [
      "['apple', 'Watermelon', 'cherry', 'banana', 'gauva', 'kiwi', 'Orange']\n"
     ]
    }
   ],
   "source": [
    "fruits.remove(\"watermelon\")# REMOVING THE FIRST OCCURENCE OF AN ITEM WRITTEN IN THE ()\n",
    "print(fruits)\n",
    "\n",
    "# remove(item) deletes the first occurrence of the specified item from the list. If item doesn’t exist, Python raises a ValueError.\n"
   ]
  },
  {
   "cell_type": "code",
   "execution_count": 84,
   "id": "a9e5c80c",
   "metadata": {},
   "outputs": [
    {
     "name": "stdout",
     "output_type": "stream",
     "text": [
      "Orange\n",
      "['apple', 'Watermelon', 'cherry', 'banana', 'gauva', 'kiwi']\n"
     ]
    }
   ],
   "source": [
    "## removes and return the Last Element of list.\n",
    "popped_fruits = fruits.pop()\n",
    "print(popped_fruits)\n",
    "print(fruits)\n",
    "# pop() removes and returns the last item from the list. It’s useful when you want to extract and use the final element while updating the list\n",
    "# - fruits list gets updated with that item removed.\n",
    "# - popped_fruit becomes a new variable that holds the single item returned — not a list, just the raw value like \"Orange\".\n"
   ]
  },
  {
   "cell_type": "code",
   "execution_count": 85,
   "id": "c41df1f3",
   "metadata": {},
   "outputs": [
    {
     "name": "stdout",
     "output_type": "stream",
     "text": [
      "2\n"
     ]
    }
   ],
   "source": [
    "index = fruits.index(\"cherry\")\n",
    "print(index)\n",
    "\n",
    "# - The .index(item) method searches the list fruits and returns the lowest index\n",
    "#  (i.e., first occurrence) where \"cherry\" is found.\n",
    "# - It performs a linear scan from left to right.\n"
   ]
  },
  {
   "cell_type": "code",
   "execution_count": 86,
   "id": "4218fa3d",
   "metadata": {},
   "outputs": [
    {
     "data": {
      "text/plain": [
       "['apple', 'Watermelon', 'banana', 'cherry', 'banana', 'gauva', 'kiwi']"
      ]
     },
     "execution_count": 86,
     "metadata": {},
     "output_type": "execute_result"
    }
   ],
   "source": [
    "fruits.insert(2,\"banana\")\n",
    "fruits"
   ]
  },
  {
   "cell_type": "code",
   "execution_count": 87,
   "id": "7cbefd3f",
   "metadata": {},
   "outputs": [
    {
     "name": "stdout",
     "output_type": "stream",
     "text": [
      "2\n",
      "1\n"
     ]
    }
   ],
   "source": [
    "print(fruits.count(\"banana\"))\n",
    "print(fruits.count(\"Watermelon\"))\n",
    "\n",
    "# - .count(item) returns the total number of times the specified item appears in the list.\n",
    "# - It performs a full linear scan through the list to tally matches.\n",
    "# - If the item doesn’t exist, it returns 0 — no error is raised.\n"
   ]
  },
  {
   "cell_type": "code",
   "execution_count": 88,
   "id": "43868d8e",
   "metadata": {},
   "outputs": [
    {
     "data": {
      "text/plain": [
       "['apple', 'Watermelon', 'banana', 'cherry', 'banana', 'gauva', 'kiwi']"
      ]
     },
     "execution_count": 88,
     "metadata": {},
     "output_type": "execute_result"
    }
   ],
   "source": [
    "fruits"
   ]
  },
  {
   "cell_type": "code",
   "execution_count": null,
   "id": "884df5bf",
   "metadata": {},
   "outputs": [
    {
     "data": {
      "text/plain": [
       "['Watermelon', 'apple', 'banana', 'banana', 'cherry', 'gauva', 'kiwi']"
      ]
     },
     "execution_count": 89,
     "metadata": {},
     "output_type": "execute_result"
    }
   ],
   "source": [
    "fruits.sort()## Sorts the list in ascending Order of the ASCII values of the alphabets not the alpabetrs itself .\n",
    "fruits\n",
    "# thus Notice how \"Watermelon\" comes first even though 'w' comes later in the alphabet — that’s because uppercase letters have lower ASCII values than lowercase letters\n"
   ]
  },
  {
   "cell_type": "code",
   "execution_count": null,
   "id": "ad93b41b",
   "metadata": {},
   "outputs": [
    {
     "data": {
      "text/plain": [
       "['kiwi', 'gauva', 'cherry', 'banana', 'banana', 'apple', 'Watermelon']"
      ]
     },
     "execution_count": 92,
     "metadata": {},
     "output_type": "execute_result"
    }
   ],
   "source": [
    "fruits.reverse()# Reverse the list \n",
    "fruits\n",
    "\n",
    "# - This reverses the order of elements in your list fruits.\n",
    "# - It works in-place, meaning it changes the original list itself and does not return a new list.\n",
    "# - You don’t need to assign it to a variable — it modifies the list directly.\n"
   ]
  },
  {
   "cell_type": "code",
   "execution_count": null,
   "id": "a1e742ff",
   "metadata": {},
   "outputs": [
    {
     "name": "stdout",
     "output_type": "stream",
     "text": [
      "[3, 4, 5]\n",
      "[1, 2, 3, 4, 5]\n",
      "[6, 7, 8, 9, 10]\n",
      "[1, 3, 5, 7, 9]\n",
      "[10, 9, 8, 7, 6, 5, 4, 3, 2, 1]\n"
     ]
    }
   ],
   "source": [
    "## SLICING List.\n",
    "\n",
    "numbers =[1,2,3,4,5,6,7,8,9,10];\n",
    "print(numbers[2:5]) # Starts from index 2 (value 3), goes up to but doesn't include\n",
    "# index 5 (value 6), step is 1 → [3, 4, 5]\n",
    "print(numbers[:5]) # Starts from beginning (index 0, value 1), stops before index 5 (value 6), step is 1 → [1, 2, 3, 4, 5]\n",
    "print(numbers[5:])# Starts from index 5 (value 6), goes till the end, step is 1 → [6, 7, 8, 9, 10]\n",
    "print(numbers[::2])  # Starts from beginning, goes till end, step is 2 (selects every 2nd element) → [1, 3, 5, 7, 9]\n",
    "print(numbers[::-1])# Starts from end (index -1), moves backward with step -1 (reverses the list) → [10, 9, 8, 7, 6, 5, 4, 3, 2, 1]\n",
    "\n",
    "# list[start:stop:step]\n",
    "# - start → index to begin from (inclusive)\n",
    "# - stop → index to stop before (exclusive)\n",
    "# - step → how many indices to move each time\n",
    "\n",
    "\n"
   ]
  },
  {
   "cell_type": "code",
   "execution_count": null,
   "id": "5c8655d0",
   "metadata": {},
   "outputs": [
    {
     "data": {
      "text/plain": [
       "[1, 4, 7, 10]"
      ]
     },
     "execution_count": 94,
     "metadata": {},
     "output_type": "execute_result"
    }
   ],
   "source": [
    "numbers[::3]# - Skips every 3 steps — like hopping over 2 numbers each time\n",
    "numbers[::-2]# - skip every 2 steps behind - like hopping behind by  1 numbers each time."
   ]
  },
  {
   "cell_type": "code",
   "execution_count": 95,
   "id": "0cee5f17",
   "metadata": {},
   "outputs": [
    {
     "name": "stdout",
     "output_type": "stream",
     "text": [
      "1\n",
      "2\n",
      "3\n",
      "4\n",
      "5\n",
      "6\n",
      "7\n",
      "8\n",
      "9\n",
      "10\n"
     ]
    }
   ],
   "source": [
    "# Iterating Over List.\n",
    "\n",
    "for number in numbers :\n",
    "    print(number)"
   ]
  },
  {
   "cell_type": "code",
   "execution_count": null,
   "id": "86b0a783",
   "metadata": {},
   "outputs": [
    {
     "name": "stdout",
     "output_type": "stream",
     "text": [
      "0 1\n",
      "1 2\n",
      "2 3\n",
      "3 4\n",
      "4 5\n",
      "5 6\n",
      "6 7\n",
      "7 8\n",
      "8 9\n",
      "9 10\n"
     ]
    }
   ],
   "source": [
    "# Iterating with Index \n",
    "\n",
    "for index,number in enumerate(numbers):\n",
    "    print(index,number)\n",
    "\n",
    "# - The code – for index, number in enumerate(numbers):\n",
    "# This line starts a loop using enumerate(), which helps us work with both the position (index) and the value (number) of each item inside the list named numbers.\n",
    "# - Inside the loop – print(index, number).\n",
    "# Each time the loop runs, it prints the position and the value of that item side by side.\n"
   ]
  },
  {
   "cell_type": "code",
   "execution_count": null,
   "id": "9ba4e33e",
   "metadata": {},
   "outputs": [
    {
     "name": "stdout",
     "output_type": "stream",
     "text": [
      "[0, 1, 4, 9, 16, 25, 36, 49, 64, 81]\n"
     ]
    }
   ],
   "source": [
    "## List comprehension.\n",
    "lst=[]\n",
    "for x in range(10):\n",
    "    lst.append(x**2)\n",
    "\n",
    "print(lst)\n",
    "\n",
    "# here we firstly define the Empty List and then using for loop from 0 to 10(excluding) :\n",
    "# we append the list i.e we keep adding the element in list at the end with squares of the numbers in the range .then at last print the whole Lst.\n",
    "# So the result is below as u can see:\n",
    " "
   ]
  },
  {
   "cell_type": "code",
   "execution_count": null,
   "id": "54117fad",
   "metadata": {},
   "outputs": [
    {
     "data": {
      "text/plain": [
       "[0, 1, 4, 9, 16, 25, 36, 49, 64, 81]"
      ]
     },
     "execution_count": 98,
     "metadata": {},
     "output_type": "execute_result"
    }
   ],
   "source": [
    "# But there is One more method via which we can do this .\n",
    "[x**2 for x in range(10)]# This here is the smarter way/method ."
   ]
  },
  {
   "cell_type": "markdown",
   "id": "da30495e",
   "metadata": {},
   "source": [
    "**List Comprehension**\n",
    "\n",
    "- Basics Syantax [expression for item in iterable].\n",
    "\n",
    "- with conditional logic [expression for item in iterable if condition].\n",
    "\n",
    "- Nested List Comprehension [expression for item1 in iterable1 for item2 in iterable2]."
   ]
  },
  {
   "cell_type": "code",
   "execution_count": null,
   "id": "e28df851",
   "metadata": {},
   "outputs": [
    {
     "name": "stdout",
     "output_type": "stream",
     "text": [
      "[0, 1, 4, 9, 16, 25, 36, 49, 64, 81]\n"
     ]
    }
   ],
   "source": [
    "\n",
    "### Basic List Comphrension\n",
    "\n",
    "sqaure=[num**2 for num in range(10)]\n",
    "print(sqaure)\n",
    "\n",
    "# - range(10) → Generates numbers 0 through 9.\n",
    "# - for num in range(10) → Loops through those numbers.\n",
    "# - num**2 → Squares each number.\n",
    "# - [num**2 for num in range(10)] → Builds a list of squares.\n",
    "# - square = [...] → Stores that list in the variable square.\n",
    "# - print(square) → Prints the final list: [0, 1, 4, 9, 16, 25, 36, 49, 64, 81]\n",
    "\n",
    "\n"
   ]
  },
  {
   "cell_type": "code",
   "execution_count": null,
   "id": "ca9379be",
   "metadata": {},
   "outputs": [],
   "source": [
    "\n",
    "### List Comprehension with Condition but by normal method .\n",
    "lst=[]\n",
    "for i in range(10):\n",
    "    if i%2==0:\n",
    "        lst.append(i)\n",
    "\n",
    "print(lst)\n",
    "\n",
    "# - lst = [] — Start with an empty list.\n",
    "# - for i in range(10) — Loop from 0 to 9.\n",
    "# - if i % 2 == 0 — Check if the number is even.\n",
    "# - lst.append(i) — Add it to the list if it's even.\n",
    "# - print(lst) — Show the final list: [0, 2, 4, 6, 8]\n",
    "\n",
    "\n",
    "\n"
   ]
  },
  {
   "cell_type": "code",
   "execution_count": null,
   "id": "196089f7",
   "metadata": {},
   "outputs": [
    {
     "name": "stdout",
     "output_type": "stream",
     "text": [
      "[0, 2, 4, 6, 8]\n"
     ]
    }
   ],
   "source": [
    "# This is the smarter method.acc to the syntax of list comprehension.\n",
    "even_numbers = [num for num in range(10) if num%2==0]\n",
    "print(even_numbers)"
   ]
  },
  {
   "cell_type": "code",
   "execution_count": 101,
   "id": "2306cce5",
   "metadata": {},
   "outputs": [
    {
     "name": "stdout",
     "output_type": "stream",
     "text": [
      "[[1, 'a'], [1, 'b'], [1, 'c'], [1, 'd'], [2, 'a'], [2, 'b'], [2, 'c'], [2, 'd'], [3, 'a'], [3, 'b'], [3, 'c'], [3, 'd'], [4, 'a'], [4, 'b'], [4, 'c'], [4, 'd']]\n"
     ]
    }
   ],
   "source": [
    "## Nested List Comprehension\n",
    "\n",
    "lst1=[1,2,3,4]  # Creates a list of numbers\n",
    "lst2=['a','b','c','d'] # Creates a list of letters\n",
    "\n",
    "pair=[[i,j] for i in lst1 for j in lst2]\n",
    "# - This is a nested list comprehension.\n",
    "# - The outer for i in lst1 loops over every number.\n",
    "# - For each i, the inner for j in lst2 loops over every letter.\n",
    "# - For each combination, it creates a sublist [i, j].\n",
    "# - This results in a Cartesian product — all i matched with all j.\n",
    "\n",
    "\n",
    "print(pair)"
   ]
  },
  {
   "cell_type": "code",
   "execution_count": null,
   "id": "c617acf9",
   "metadata": {},
   "outputs": [
    {
     "name": "stdout",
     "output_type": "stream",
     "text": [
      "[5, 5, 6, 4, 13]\n"
     ]
    },
    {
     "ename": "",
     "evalue": "",
     "output_type": "error",
     "traceback": [
      "\u001b[1;31mThe Kernel crashed while executing code in the current cell or a previous cell. \n",
      "\u001b[1;31mPlease review the code in the cell(s) to identify a possible cause of the failure. \n",
      "\u001b[1;31mClick <a href='https://aka.ms/vscodeJupyterKernelCrash'>here</a> for more info. \n",
      "\u001b[1;31mView Jupyter <a href='command:jupyter.viewOutput'>log</a> for further details."
     ]
    }
   ],
   "source": [
    "\n",
    "## List Comprehension with function calls\n",
    "words = [\"hello\", \"world\", \"python\", \"list\", \"comprehension\"]\n",
    "lengths = [len(word) for word in words]\n",
    "print(lengths)  # Output: [5, 5, 6, 4, 13]"
   ]
  },
  {
   "cell_type": "markdown",
   "id": "9e1e2761",
   "metadata": {},
   "source": [
    "\n",
    "**Conclusion**:\n",
    "\n",
    "List comprehensions are a powerful and concise way to create lists in Python. They are syntactically compact and can replace more verbose looping constructs. Understanding the syntax of list comprehensions will help you write cleaner and more efficient Python code."
   ]
  }
 ],
 "metadata": {
  "kernelspec": {
   "display_name": "Python 3",
   "language": "python",
   "name": "python3"
  },
  "language_info": {
   "codemirror_mode": {
    "name": "ipython",
    "version": 3
   },
   "file_extension": ".py",
   "mimetype": "text/x-python",
   "name": "python",
   "nbconvert_exporter": "python",
   "pygments_lexer": "ipython3",
   "version": "3.12.0"
  }
 },
 "nbformat": 4,
 "nbformat_minor": 5
}
