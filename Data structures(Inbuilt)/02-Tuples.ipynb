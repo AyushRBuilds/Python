{
 "cells": [
  {
   "cell_type": "markdown",
   "id": "a20a9003",
   "metadata": {},
   "source": [
    "**TUPLES**\n",
    "\n",
    "Agenda:\n",
    "\n",
    "- Introduction to Tuples\n",
    "- Creating Tuples\n",
    "- Accessing Tuple Elements\n",
    "- Tuple Operations\n",
    "- Immutable Nature of Tuples\n",
    "- Tuple Methods\n",
    "- Packing and Unpacking Tuples\n",
    "- Nested Tuples\n",
    "- Practical Examples and Common Errors\n",
    "\n",
    "\n",
    "**Introduction to Tuples**\n",
    "\n",
    "Explanation:\n",
    "\n",
    "Tuples are ordered collections of items that are immutable. They are similar to lists, but their immutability makes them different.\n",
    "\n"
   ]
  },
  {
   "cell_type": "code",
   "execution_count": null,
   "metadata": {},
   "outputs": [
    {
     "name": "stdout",
     "output_type": "stream",
     "text": [
      "()\n",
      "<class 'tuple'>\n"
     ]
    }
   ],
   "source": [
    "## Creating a Tuple.Like List here as well there are two methods .\n",
    "empty_tuple = ();## we called  this as \"literal Syntax\"\n",
    "print(empty_tuple)\n",
    "print(type(empty_tuple))"
   ]
  },
  {
   "cell_type": "code",
   "execution_count": null,
   "metadata": {},
   "outputs": [
    {
     "name": "stdout",
     "output_type": "stream",
     "text": [
      "<class 'list'>\n",
      "<class 'tuple'>\n"
     ]
    }
   ],
   "source": [
    "# We called this as Constructor Syntax.\n",
    "lst = list()\n",
    "print(type(lst))# these was the second method we studied for list.\n",
    "tpl=tuple()\n",
    "print(type(tpl))## Similarly here as well we have same defining methods.\n",
    "\n",
    "\n",
    "#  Why Python Offers Both\n",
    "# - Literal Syntax is cleaner and preferred for static data.\n",
    "# - Constructor Syntax shines when converting other types dynamically — for example, building a tuple from API data or inside loops.\n"
   ]
  },
  {
   "cell_type": "code",
   "execution_count": null,
   "metadata": {},
   "outputs": [
    {
     "name": "stdout",
     "output_type": "stream",
     "text": [
      "<class 'tuple'>\n"
     ]
    }
   ],
   "source": [
    "numbers = tuple([1,2,3,4,5,6])\n",
    "numbers \n",
    "print(type(numbers))\n",
    "\n",
    "# - [1, 2, 3, 4, 5, 6] is a list — mutable, ordered.\n",
    "# - tuple([...]) takes that list and converts it into an immutable tuple.\n",
    "# - The result stored in numbers is:actually is tuple not list .\n"
   ]
  },
  {
   "cell_type": "code",
   "execution_count": null,
   "metadata": {},
   "outputs": [
    {
     "name": "stdout",
     "output_type": "stream",
     "text": [
      "[1, 2, 3, 4, 5, 6]\n",
      "<class 'list'>\n"
     ]
    }
   ],
   "source": [
    "lst1 =list((1,2,3,4,5,6))\n",
    "print(lst1)\n",
    "print(type(lst1))\n",
    "\n",
    "# - (1, 2, 3, 4, 5, 6) is a tuple — an immutable sequence type.\n",
    "# - list() is a built-in Python function that converts an iterable (like a tuple, set, string, etc.) into a list.\n",
    "# - When you pass the tuple into list(), Python:\n",
    "# - Iterates through each item in the tuple.\n",
    "# - Places each item into a new list.\n",
    "# - The result is assigned to lst1, which becomes a list object.\n",
    "\n",
    "#  Why Do This?\n",
    "# - It’s useful if you want to convert data from one format to another. For example, if a function returns a tuple but you want to modify the elements, lists are mutable and ideal for this.\n"
   ]
  },
  {
   "cell_type": "code",
   "execution_count": 12,
   "metadata": {},
   "outputs": [
    {
     "name": "stdout",
     "output_type": "stream",
     "text": [
      "(1, 'Hello World', 3.14, True)\n"
     ]
    }
   ],
   "source": [
    "# Similarly like List tuples also supporst mixed data types , which is exactly what's happening here .\n",
    "\n",
    "mixed_tuple=(1,\"Hello World\",3.14, True)\n",
    "print(mixed_tuple)"
   ]
  },
  {
   "cell_type": "code",
   "execution_count": null,
   "metadata": {},
   "outputs": [
    {
     "data": {
      "text/plain": [
       "(1, 2, 3, 4, 5, 6)"
      ]
     },
     "execution_count": 13,
     "metadata": {},
     "output_type": "execute_result"
    }
   ],
   "source": [
    "# Accessing Tuple Elements.\n",
    "numbers"
   ]
  },
  {
   "cell_type": "code",
   "execution_count": 14,
   "metadata": {},
   "outputs": [
    {
     "name": "stdout",
     "output_type": "stream",
     "text": [
      "3\n",
      "6\n"
     ]
    }
   ],
   "source": [
    "print(numbers[2])\n",
    "print(numbers[-1])"
   ]
  },
  {
   "cell_type": "code",
   "execution_count": null,
   "metadata": {},
   "outputs": [
    {
     "data": {
      "text/plain": [
       "(1, 2, 3, 4)"
      ]
     },
     "execution_count": 15,
     "metadata": {},
     "output_type": "execute_result"
    }
   ],
   "source": [
    "numbers[0:4]# excluding the element on the 4th Index Position."
   ]
  },
  {
   "cell_type": "code",
   "execution_count": null,
   "metadata": {},
   "outputs": [
    {
     "data": {
      "text/plain": [
       "(6, 5, 4, 3, 2, 1)"
      ]
     },
     "execution_count": 16,
     "metadata": {},
     "output_type": "execute_result"
    }
   ],
   "source": [
    "\n",
    "numbers[::-1] # slice notation [::-1] in Python is a nifty way to reverse sequences like lists, strings, or tuples.\n"
   ]
  },
  {
   "cell_type": "code",
   "execution_count": 18,
   "metadata": {},
   "outputs": [
    {
     "name": "stdout",
     "output_type": "stream",
     "text": [
      "(1, 2, 3, 4, 5, 6, 1, 'Hello World', 3.14, True)\n"
     ]
    }
   ],
   "source": [
    "\n",
    "## Tuple Operations\n",
    "## Note : we can't Concatenate the two mixed types like (List + tuple) : This will give You TypeError.\n",
    "# Both The concatenating Elements should of same type like (list +List)/(tuple+tuple)\n",
    "concatenation_tuple=numbers + mixed_tuple\n",
    "print(concatenation_tuple)"
   ]
  },
  {
   "cell_type": "code",
   "execution_count": null,
   "metadata": {},
   "outputs": [
    {
     "data": {
      "text/plain": [
       "(1,\n",
       " 'Hello World',\n",
       " 3.14,\n",
       " True,\n",
       " 1,\n",
       " 'Hello World',\n",
       " 3.14,\n",
       " True,\n",
       " 1,\n",
       " 'Hello World',\n",
       " 3.14,\n",
       " True)"
      ]
     },
     "execution_count": 19,
     "metadata": {},
     "output_type": "execute_result"
    }
   ],
   "source": [
    "mixed_tuple * 3\n",
    "\n",
    "# - Tuple: A fixed collection of items.\n",
    "# - * (Multiplication Operator): In this case, it repeats the whole tuple.\n",
    "# - * 3: Means “repeat everything inside this tuple three times.”\n"
   ]
  },
  {
   "cell_type": "code",
   "execution_count": 20,
   "id": "c6e7c05b",
   "metadata": {},
   "outputs": [
    {
     "name": "stdout",
     "output_type": "stream",
     "text": [
      "[1, 2, 3, 4, 5]\n",
      "[1, 'Krish', 3, 4, 5]\n"
     ]
    }
   ],
   "source": [
    "\n",
    "## Immutable Nature Of Tuples\n",
    "## Tuples are immutable, meaning their elements cannot be changed once assigned.\n",
    "\n",
    "lst3=[1,2,3,4,5]\n",
    "print(lst3)\n",
    "\n",
    "lst3[1]=\"Krish\"\n",
    "print(lst3)"
   ]
  },
  {
   "cell_type": "code",
   "execution_count": null,
   "id": "f70b1ea1",
   "metadata": {},
   "outputs": [
    {
     "ename": "TypeError",
     "evalue": "'tuple' object does not support item assignment",
     "output_type": "error",
     "traceback": [
      "\u001b[31m---------------------------------------------------------------------------\u001b[39m",
      "\u001b[31mTypeError\u001b[39m                                 Traceback (most recent call last)",
      "\u001b[36mCell\u001b[39m\u001b[36m \u001b[39m\u001b[32mIn[21]\u001b[39m\u001b[32m, line 1\u001b[39m\n\u001b[32m----> \u001b[39m\u001b[32m1\u001b[39m \u001b[43mnumbers\u001b[49m\u001b[43m[\u001b[49m\u001b[32;43m1\u001b[39;49m\u001b[43m]\u001b[49m=\u001b[33m\"\u001b[39m\u001b[33mKrish\u001b[39m\u001b[33m\"\u001b[39m\n",
      "\u001b[31mTypeError\u001b[39m: 'tuple' object does not support item assignment"
     ]
    }
   ],
   "source": [
    "\n",
    "numbers[1]=\"Krish\"\n",
    "\n",
    "# - Tuples are immutable — once created, they can’t be changed.\n",
    "# - You’d need to use a list instead if you want to update values.\n"
   ]
  },
  {
   "cell_type": "code",
   "execution_count": 22,
   "id": "d2c66a31",
   "metadata": {},
   "outputs": [
    {
     "data": {
      "text/plain": [
       "(1, 2, 3, 4, 5, 6)"
      ]
     },
     "execution_count": 22,
     "metadata": {},
     "output_type": "execute_result"
    }
   ],
   "source": [
    "\n",
    "numbers"
   ]
  },
  {
   "cell_type": "code",
   "execution_count": 23,
   "id": "f11c2bc9",
   "metadata": {},
   "outputs": [
    {
     "name": "stdout",
     "output_type": "stream",
     "text": [
      "1\n",
      "2\n"
     ]
    }
   ],
   "source": [
    "\n",
    "## Tuple Methods\n",
    "print(numbers.count(1))\n",
    "print(numbers.index(3))"
   ]
  },
  {
   "cell_type": "code",
   "execution_count": null,
   "id": "6f3cb7fb",
   "metadata": {},
   "outputs": [
    {
     "name": "stdout",
     "output_type": "stream",
     "text": [
      "(1, 'Hello', 3.14)\n"
     ]
    }
   ],
   "source": [
    "## Packing and Unpacking tuple\n",
    "## packing\n",
    "packed_tuple=1,\"Hello\",3.14\n",
    "print(packed_tuple)\n",
    "\n",
    "# You're creating a tuple without using parentheses—this is called tuple packing.\n",
    "# - Python sees the commas and automatically packs the values into a tuple.\n",
    "# - Even though it looks like three separate values, Python treats it as one grouped object: a tuple.\n"
   ]
  },
  {
   "cell_type": "code",
   "execution_count": null,
   "id": "afca9e4d",
   "metadata": {},
   "outputs": [
    {
     "name": "stdout",
     "output_type": "stream",
     "text": [
      "1\n",
      "Hello\n",
      "3.14\n"
     ]
    }
   ],
   "source": [
    "\n",
    "##unpacking a tuple\n",
    "a,b,c=packed_tuple\n",
    "\n",
    "print(a)\n",
    "print(b)\n",
    "print(c)\n",
    "\n",
    "#  This is called tuple unpacking — a way to break the tuple into individual variables.\n",
    "# - a receives the first item → 1\n",
    "# - b receives the second item → \"Hello\"\n",
    "# - c receives the third item → 3.14\n",
    "\n",
    "\n",
    "# NOTE: While tuples are the most common data type used for packing and unpacking, Python also supports this feature with lists, sets, and even function arguments.\n",
    "\n",
    "\n",
    "\n"
   ]
  },
  {
   "cell_type": "code",
   "execution_count": null,
   "id": "d2ff746e",
   "metadata": {},
   "outputs": [
    {
     "name": "stdout",
     "output_type": "stream",
     "text": [
      "1\n",
      "[2, 3, 4, 5]\n",
      "6\n"
     ]
    }
   ],
   "source": [
    "## Unpacking with *\n",
    "numbers=(1,2,3,4,5,6)\n",
    "first,*middle,last=numbers\n",
    "print(first)\n",
    "print(middle)\n",
    "print(last)\n",
    "\n",
    "# - first → gets the first item → 1\n",
    "# - last → gets the last item → 6\n",
    "# - *middle → collects everything in between as a list → [2, 3, 4, 5]\n",
    "# The * symbol tells Python:\n",
    "# “Grab the remaining items and store them in this variable as a list.”\n",
    "# - Works with lists, tuples, and even function arguments!\n",
    " "
   ]
  },
  {
   "cell_type": "code",
   "execution_count": null,
   "id": "6d1b0645",
   "metadata": {},
   "outputs": [
    {
     "data": {
      "text/plain": [
       "[1, 2, 3]"
      ]
     },
     "execution_count": 27,
     "metadata": {},
     "output_type": "execute_result"
    }
   ],
   "source": [
    "## Nested Tuple\n",
    "## Nested List\n",
    "lst=[[1,2,3,4],[6,7,8,9],[1,\"Hello\",3.14,\"c\"]]\n",
    "lst[0][0:3]\n",
    "\n",
    "# Expression: lst[0][0:3]\n",
    "# Step 1: lst[0]\n",
    "# - This accesses the first inner list → [1, 2, 3, 4]\n",
    "# Step 2: [0:3]\n",
    "# - This slices that list from index 0 up to (but not including) index 3.\n",
    "# - So you get the first three elements:\n",
    "# → [1, 2, 3]\n",
    "\n",
    "\n"
   ]
  },
  {
   "cell_type": "code",
   "execution_count": null,
   "id": "9208b47e",
   "metadata": {},
   "outputs": [
    {
     "data": {
      "text/plain": [
       "(1, 'Hello', 3.14)"
      ]
     },
     "execution_count": 28,
     "metadata": {},
     "output_type": "execute_result"
    }
   ],
   "source": [
    "lst=[[1,2,3,4],[6,7,8,9],(1,\"Hello\",3.14,\"c\")]\n",
    "lst[2][0:3]\n",
    "\n",
    "# Same Goes here as well .Even for Tuples nested in List."
   ]
  },
  {
   "cell_type": "code",
   "execution_count": null,
   "id": "d4b4a61b",
   "metadata": {},
   "outputs": [],
   "source": [
    "\n",
    "Nested_tuple = ((1, 2, 3), (\"a\", \"b\", \"c\"), (True, False))\n",
    "\n",
    "## access the elements inside a tuple\n",
    "print(Nested_tuple[0])\n",
    "print(Nested_tuple[1][2])\n"
   ]
  },
  {
   "cell_type": "code",
   "execution_count": null,
   "id": "bd91c0c1",
   "metadata": {},
   "outputs": [
    {
     "name": "stdout",
     "output_type": "stream",
     "text": [
      "1 2 3 \n",
      "a b c \n",
      "True False \n"
     ]
    },
    {
     "ename": "",
     "evalue": "",
     "output_type": "error",
     "traceback": [
      "\u001b[1;31mThe Kernel crashed while executing code in the current cell or a previous cell. \n",
      "\u001b[1;31mPlease review the code in the cell(s) to identify a possible cause of the failure. \n",
      "\u001b[1;31mClick <a href='https://aka.ms/vscodeJupyterKernelCrash'>here</a> for more info. \n",
      "\u001b[1;31mView Jupyter <a href='command:jupyter.viewOutput'>log</a> for further details."
     ]
    }
   ],
   "source": [
    "\n",
    "## iterating over nested tuples\n",
    "Nested_tuple = ((1, 2, 3), (\"a\", \"b\", \"c\"), (True, False))\n",
    "\n",
    "for sub_tuple in Nested_tuple :\n",
    "    for item in sub_tuple:\n",
    "        print(item,end=\" \")\n",
    "    print()\n",
    "\n",
    "# You're creating a big container called a nested tuple that holds three smaller groups: one group of numbers, one of letters, and one of True/False values. The outer loop walks through each of those smaller groups one at a time. For every group it visits, it runs an inner loop that picks each item in that group and prints it out on the same line, leaving a space between each item. After finishing all items in a group, the code tells Python to print a blank line, which neatly separates each group in the final output"
   ]
  },
  {
   "cell_type": "markdown",
   "id": "d29dcec2",
   "metadata": {},
   "source": [
    "**Conclusion**:\n",
    "Tuples are versatile and useful in many real-world scenarios where an immutable and ordered collection of items is required. They are commonly used in data structures, function arguments and return values, and as dictionary keys. Understanding how to leverage tuples effectively can improve the efficiency and readability of your Python"
   ]
  }
 ],
 "metadata": {
  "kernelspec": {
   "display_name": "Python 3",
   "language": "python",
   "name": "python3"
  },
  "language_info": {
   "codemirror_mode": {
    "name": "ipython",
    "version": 3
   },
   "file_extension": ".py",
   "mimetype": "text/x-python",
   "name": "python",
   "nbconvert_exporter": "python",
   "pygments_lexer": "ipython3",
   "version": "3.12.0"
  }
 },
 "nbformat": 4,
 "nbformat_minor": 5
}
