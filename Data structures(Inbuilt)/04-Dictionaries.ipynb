{
 "cells": [
  {
   "cell_type": "markdown",
   "id": "282f717d",
   "metadata": {},
   "source": [
    "\n",
    "**Dictionaries**\n",
    "\n",
    "Agenda:\n",
    "\n",
    "1. Introduction to Dictionaries\n",
    "2. Creating Dictionaries\n",
    "3. Accessing Dictionary Elements\n",
    "4. Modifying Dictionary Elements\n",
    "5. Dictionary Methods\n",
    "6. Iterating Over Dictionaries\n",
    "7. Nested Dictionaries\n",
    "8. Dictionary Comprehensions\n",
    "9. Practical Examples and Common Errors\n",
    "\n",
    "\n",
    " **Introduction to Dictionaries**\n",
    "\n",
    " Dictionaries are unordered collections of items. They store data in key-value pairs. Keys must be unique and immutable (e.g., strings, numbers, or tuples), while values can be of any type.\n",
    " -  Dictionaries are mutable, meaning you can change them after creation.\n",
    "- They are unordered (until Python 3.7+ where insertion order is preserved).\n"
   ]
  },
  {
   "cell_type": "code",
   "execution_count": null,
   "id": "ce58ae32",
   "metadata": {},
   "outputs": [
    {
     "name": "stdout",
     "output_type": "stream",
     "text": [
      "<class 'dict'>\n"
     ]
    }
   ],
   "source": [
    "# Creating Dictionaries .here as well there are two ways.\n",
    "empty_dict = {} # First Method (using dictionary Literal)\n",
    "print(type(empty_dict))"
   ]
  },
  {
   "cell_type": "code",
   "execution_count": null,
   "id": "ca5e0556",
   "metadata": {},
   "outputs": [
    {
     "name": "stdout",
     "output_type": "stream",
     "text": [
      "<class 'dict'>\n"
     ]
    },
    {
     "data": {
      "text/plain": [
       "{}"
      ]
     },
     "execution_count": 2,
     "metadata": {},
     "output_type": "execute_result"
    }
   ],
   "source": [
    "empty_dict = dict()## Second Method (constructor method)\n",
    "print(type(empty_dict))\n",
    "empty_dict "
   ]
  },
  {
   "cell_type": "code",
   "execution_count": null,
   "id": "c2100506",
   "metadata": {},
   "outputs": [
    {
     "name": "stdout",
     "output_type": "stream",
     "text": [
      "{'name': 'krish', 'age': 32, 'grade': 12}\n",
      "<class 'dict'>\n"
     ]
    }
   ],
   "source": [
    "student = { \"name\":\"Ayush\" , \"age\":32 , \"grade\":12}\n",
    "print(student);\n",
    "print(type(student))"
   ]
  },
  {
   "cell_type": "code",
   "execution_count": null,
   "id": "0e64e22e",
   "metadata": {},
   "outputs": [
    {
     "name": "stdout",
     "output_type": "stream",
     "text": [
      "{'name': 24, 'age': 32}\n"
     ]
    }
   ],
   "source": [
    "# Single Key is used always \n",
    "student = {\"name\":\"Ayush\" ,\"age\":32 ,\"name\":12};\n",
    "print(student)\n",
    "\n",
    "# Key Rule in Dictionaries.\n",
    "# - In a Python dictionary, each key must be unique.\n",
    "# - If you use the same key more than once, Python will keep only the last value assigned to that key.\n"
   ]
  },
  {
   "cell_type": "code",
   "execution_count": 8,
   "id": "f1fa7138",
   "metadata": {},
   "outputs": [
    {
     "name": "stdout",
     "output_type": "stream",
     "text": [
      "{'name': 'Ayush', 'age': 32, 'grade': 'A'}\n"
     ]
    }
   ],
   "source": [
    "# Accessing Dictionary Elements.\n",
    "student ={\"name\":\"Ayush\",\"age\":32 , \"grade\":'A'}\n",
    "print(student)"
   ]
  },
  {
   "cell_type": "code",
   "execution_count": null,
   "id": "5fe1c699",
   "metadata": {},
   "outputs": [
    {
     "name": "stdout",
     "output_type": "stream",
     "text": [
      "A\n",
      "32\n",
      "A\n",
      "None\n",
      "Not Available\n"
     ]
    }
   ],
   "source": [
    "# Accessing Dictionary Elements\n",
    "print(student['grade'])\n",
    "print(student['age'])\n",
    "\n",
    "# What’s Happening:\n",
    "# - You use square brackets [] to access a value by its key.\n",
    "# - If the key exists, Python returns the value.\n",
    "# - If the key does not exist, Python throws an error (KeyError).\n",
    "\n",
    "\n",
    "# Accessing Using get() Method.\n",
    "print(student.get('grade'))\n",
    "print(student.get('last_name'))\n",
    "print(student.get('last_name',\"Not Available\")) # student.get('key', default) \n",
    "\n",
    "\n",
    "# - get() is a safe method to access dictionary values.\n",
    "# - If the key exists → returns the value.\n",
    "# - If the key doesn’t exist:\n",
    "# - Returns None by default.\n",
    "# - Or returns a custom default value if you provide one (like \"Not Available\").\n",
    "\n",
    "\n"
   ]
  },
  {
   "cell_type": "code",
   "execution_count": 10,
   "id": "4713b50b",
   "metadata": {},
   "outputs": [
    {
     "name": "stdout",
     "output_type": "stream",
     "text": [
      "{'name': 'Ayush', 'age': 32, 'grade': 'A'}\n"
     ]
    }
   ],
   "source": [
    "# Modifying Dictionary elements.\n",
    "# Dictionary are Mutable,so you can add , update or delete elements.\n",
    "print(student)"
   ]
  },
  {
   "cell_type": "code",
   "execution_count": 11,
   "id": "ba1ca11d",
   "metadata": {},
   "outputs": [
    {
     "name": "stdout",
     "output_type": "stream",
     "text": [
      "{'name': 'Ayush', 'age': 33, 'grade': 'A'}\n",
      "{'name': 'Ayush', 'age': 33, 'grade': 'A', 'address': 'India'}\n"
     ]
    }
   ],
   "source": [
    "student[\"age\"]= 33;   ## Update Value For the Key.\n",
    "print(student);\n",
    "student[\"address\"] = 'India' ## Added a New Key and Value.\n",
    "print(student);"
   ]
  },
  {
   "cell_type": "code",
   "execution_count": null,
   "id": "843005a7",
   "metadata": {},
   "outputs": [
    {
     "name": "stdout",
     "output_type": "stream",
     "text": [
      "{'name': 'Ayush', 'age': 33, 'address': 'India'}\n"
     ]
    }
   ],
   "source": [
    "del student[\"grade\"] ## Delete key and Value Pair.\n",
    "\n",
    "print(student)\n",
    "\n",
    "# What’s Happening:\n",
    "# - del is a Python keyword used to delete things — in this case, a key-value pair from a dictionary.\n",
    "# - \"grade\" is the key you want to remove.\n",
    "# - Python removes both the key and its associated value from the dictionary.\n",
    "\n",
    "# What If the Key Doesn’t Exist?\n",
    "# del student[\"xyz\"]\n",
    "# Python will raise a KeyError because \"xyz\" is not in the dictionary.\n",
    "\n"
   ]
  },
  {
   "cell_type": "code",
   "execution_count": null,
   "id": "5168a31a",
   "metadata": {},
   "outputs": [
    {
     "name": "stdout",
     "output_type": "stream",
     "text": [
      "dict_keys(['name', 'age', 'address'])\n",
      "dict_values(['Ayush', 33, 'India'])\n",
      "dict_items([('name', 'Ayush'), ('age', 33), ('address', 'India')])\n"
     ]
    }
   ],
   "source": [
    "# Dictionary Methods\n",
    "\n",
    "keys = student.keys() ## Get All the Keys\n",
    "print(keys);\n",
    "values = student.values() # Get all  values.\n",
    "print(values);\n",
    "items =  student.items() ## Get All Key : Value pairs\n",
    "print(items)\n",
    "\n",
    "# - When you call .keys(), .values(), or .items(), Python returns a dynamic view of the dictionary.\n",
    "# - These views reflect changes in the dictionary automatically\n",
    "# Why Do They Look Like Lists or Tuples?\n",
    "# - Even though they’re special objects, Python displays them like lists or tuples to make them readable.\n",
    "# - You can convert them to actual lists or tuples if needed .\n",
    "\n",
    "\n"
   ]
  },
  {
   "cell_type": "code",
   "execution_count": null,
   "id": "012f5a51",
   "metadata": {},
   "outputs": [
    {
     "name": "stdout",
     "output_type": "stream",
     "text": [
      "{'name': 'Ayush', 'age': 33, 'address': 'India'}\n",
      "{'name': 'Ayush', 'age': 33, 'address': 'India'}\n"
     ]
    }
   ],
   "source": [
    "## Shallow Copy .\n",
    "student_copy = student #- Both student and student_copy now refer to the same dictionary object.\n",
    "# - Changing one will affect the other\n",
    "\n",
    "print(student);\n",
    "print(student_copy)"
   ]
  },
  {
   "cell_type": "code",
   "execution_count": null,
   "id": "52583c67",
   "metadata": {},
   "outputs": [
    {
     "name": "stdout",
     "output_type": "stream",
     "text": [
      "{'name': 'Avi', 'age': 33, 'address': 'India'}\n",
      "{'name': 'Avi', 'age': 33, 'address': 'India'}\n"
     ]
    }
   ],
   "source": [
    "student[\"name\"] = \"Avi\";\n",
    "print(student);\n",
    "print(student_copy)\n",
    "\n",
    "# - This updates the \"name\" key in the original dictionary.\n",
    "# - Since student_copy points to the same object, it also reflects the change.\n"
   ]
  },
  {
   "cell_type": "code",
   "execution_count": null,
   "id": "8351fa70",
   "metadata": {},
   "outputs": [
    {
     "name": "stdout",
     "output_type": "stream",
     "text": [
      "{'name': 'Avi', 'age': 33, 'address': 'India'}\n",
      "{'name': 'Avi', 'age': 33, 'address': 'India'}\n"
     ]
    }
   ],
   "source": [
    "student_copy1 = student.copy()  # This is  Shallow Copy. using the .copy() method to create a shallow copy.\n",
    "print(student_copy1);\n",
    "print(student)\n",
    "\n",
    "# - student_copy1 is a separate dictionary.\n",
    "# - It has the same key-value pairs, but it’s stored in a different memory location.\n",
    "# - So changes to student won’t affect student_copy1\n"
   ]
  },
  {
   "cell_type": "code",
   "execution_count": null,
   "id": "efa1da3f",
   "metadata": {},
   "outputs": [
    {
     "name": "stdout",
     "output_type": "stream",
     "text": [
      "{'name': 'Avi', 'age': 33, 'address': 'India'}\n",
      "{'name': 'Avi2006', 'age': 33, 'address': 'India'}\n"
     ]
    }
   ],
   "source": [
    "student[\"name\"] = \"Avi2006\"; # - This updates the \"name\" key in the original dictionary.\n",
    "# - But student_copy1 stays the same — because it’s a true shallow copy.\n",
    "print(student_copy1);\n",
    "print(student)\n"
   ]
  },
  {
   "cell_type": "code",
   "execution_count": null,
   "id": "b2fa9f49",
   "metadata": {},
   "outputs": [
    {
     "name": "stdout",
     "output_type": "stream",
     "text": [
      "name\n",
      "age\n",
      "address\n"
     ]
    }
   ],
   "source": [
    "# Iterating Over Dictionaries.\n",
    "# You can use Loops to iterate over Dictionaries ,keys,values,or items.\n",
    "\n",
    "## Iterating over keys.\n",
    "for key in student.keys():\n",
    "    print(key)\n",
    "\n",
    "# - .keys() returns a view object of all the keys: [\"name\", \"age\", \"address\"]\n",
    "# - The for loop goes through each key one by one\n",
    "# - print(key) outputs each key on a new line\n"
   ]
  },
  {
   "cell_type": "code",
   "execution_count": null,
   "id": "be138009",
   "metadata": {},
   "outputs": [
    {
     "name": "stdout",
     "output_type": "stream",
     "text": [
      "Avi2006\n",
      "33\n",
      "India\n"
     ]
    }
   ],
   "source": [
    "# Iterate over values.\n",
    "for value in student.values():\n",
    "    print(value)\n",
    "\n",
    "# - .values() returns a view object of all the values: [\"Avi2006\", 33, \"India\"].\n",
    "# - The for loop goes through each value one by one.\n",
    "# - print(value) outputs each value on a new line.\n"
   ]
  },
  {
   "cell_type": "code",
   "execution_count": null,
   "id": "6a7b41ac",
   "metadata": {},
   "outputs": [
    {
     "name": "stdout",
     "output_type": "stream",
     "text": [
      "name:Avi2006\n",
      "age:33\n",
      "address:India\n"
     ]
    }
   ],
   "source": [
    "## Iterate over key value pairs.\n",
    "for key,value in student.items():\n",
    "    print(f\"{key}:{value}\")\n",
    "    \n",
    "# - .items() returns a view object of all key-value pairs:\n",
    "# [(\"name\", \"Avi2006\"), (\"age\", 33), (\"address\", \"India\")]\n",
    "# - The for loop unpacks each pair into key and value\n",
    "# - print(f\"{key}:{value}\") outputs them in a readable format\n"
   ]
  },
  {
   "cell_type": "code",
   "execution_count": null,
   "id": "1428cab0",
   "metadata": {},
   "outputs": [
    {
     "name": "stdout",
     "output_type": "stream",
     "text": [
      "{'student1': {'name': 'sunny', 'age': 51}, 'student2': {'name': 'joshua', 'age': 28}}\n"
     ]
    }
   ],
   "source": [
    "## Nested Dictionaires.\n",
    "students ={\n",
    "    \"student1\":{\"name\":\"sunny\" ,\"age\":51},\n",
    "    \"student2\":{\"name\":\"joshua\", \"age\":28}\n",
    "}\n",
    "print(students)\n",
    "\n",
    "# Structure Breakdown\n",
    "# - students is the outer dictionary.\n",
    "# - Each key (\"student1\", \"student2\") maps to an inner dictionary.\n",
    "# - The inner dictionaries hold individual student details.\n"
   ]
  },
  {
   "cell_type": "code",
   "execution_count": null,
   "id": "297d3dc4",
   "metadata": {},
   "outputs": [
    {
     "name": "stdout",
     "output_type": "stream",
     "text": [
      "sunny\n",
      "51\n"
     ]
    }
   ],
   "source": [
    "## Access Nested Dictionaries Elements.\n",
    "print(students[\"student1\"][\"name\"])\n",
    "print(students[\"student1\"][\"age\"])\n",
    "\n",
    "# outer_dict[key1][key2]\n",
    "# - outer_dict → the main dictionary\n",
    "# - key1 → key to access the inner dictionary\n",
    "# - key2 → key to access the value inside that inner dictionary\n"
   ]
  },
  {
   "cell_type": "code",
   "execution_count": 30,
   "id": "08a45a63",
   "metadata": {},
   "outputs": [
    {
     "name": "stdout",
     "output_type": "stream",
     "text": [
      "dict_items([('student1', {'name': 'sunny', 'age': 51}), ('student2', {'name': 'joshua', 'age': 28})])\n"
     ]
    }
   ],
   "source": [
    "print(students.items());"
   ]
  },
  {
   "cell_type": "code",
   "execution_count": null,
   "id": "85bf8fcb",
   "metadata": {},
   "outputs": [
    {
     "name": "stdout",
     "output_type": "stream",
     "text": [
      "student1:{'name': 'sunny', 'age': 51}\n",
      "name:sunny\n",
      "age:51\n",
      "student2:{'name': 'joshua', 'age': 28}\n",
      "name:joshua\n",
      "age:28\n"
     ]
    }
   ],
   "source": [
    "## Iterating over Nested Dictionaries.\n",
    "for student_id,student_info in students.items():\n",
    "    print(f\"{student_id}:{student_info}\")\n",
    "    for key,value in student_info.items():\n",
    "        print(f\"{key}:{value}\")\n",
    "\n",
    "# 1. Outer Loop: Iterating Over Students\n",
    "# - The outer loop goes through each key-value pair in the students dictionary.\n",
    "# - The key (student_id) is either \"student1\" or \"student2\".\n",
    "# - The value (student_info) is the inner dictionary containing the student's name and age.\n",
    "# - When you print student_id and student_info, you get something like:\n",
    "# - student1: {'name': 'sunny', 'age': 51}\n",
    "# - student2: {'name': 'joshua', 'age': 28}\n",
    "\n",
    "# 2. Inner Loop: Iterating Over Student Details\n",
    "# - For each student_info dictionary, the inner loop goes through its key-value pairs.\n",
    "# - The keys are \"name\" and \"age\", and the values are \"sunny\" and 51 for student1, \"joshua\" and 28 for student2.\n",
    "# - This loop prints each detail separately, like:\n",
    "# - name: sunny\n",
    "# - age: 51\n",
    "# - name: joshua\n",
    "# - age: 28\n",
    "\n",
    "\n"
   ]
  },
  {
   "cell_type": "code",
   "execution_count": null,
   "id": "86561086",
   "metadata": {},
   "outputs": [
    {
     "name": "stdout",
     "output_type": "stream",
     "text": [
      "{0: 0, 1: 1, 2: 4, 3: 9, 4: 16}\n"
     ]
    }
   ],
   "source": [
    "## Dictionary comoprehension.\n",
    "# {key_expression : value_expression for item in iterable if condition}\n",
    "squares = {x:x**2 for x in range(5)};\n",
    "print(squares)\n",
    "\n",
    "# Breakdown:\n",
    "# - for x in range(5) → loops through numbers 0 to 4\n",
    "# - x: → sets each number as a key\n",
    "# - x**2 → sets the square of each number as the value\n",
    "# - {x: x**2 ...} → builds a dictionary with key-value pairs\n"
   ]
  },
  {
   "cell_type": "code",
   "execution_count": null,
   "id": "81e222b2",
   "metadata": {},
   "outputs": [
    {
     "name": "stdout",
     "output_type": "stream",
     "text": [
      "{0: 0, 2: 4, 4: 16, 6: 36, 8: 64}\n"
     ]
    }
   ],
   "source": [
    "## Condition Dictionary Comprehension.\n",
    "# {key_expression : value_expression for item in iterable if condition}\n",
    "evens = {x:x**2 for x in range(10) if x%2 ==0};\n",
    "print(evens)  "
   ]
  },
  {
   "cell_type": "code",
   "execution_count": null,
   "id": "1dbdcd39",
   "metadata": {},
   "outputs": [
    {
     "name": "stdout",
     "output_type": "stream",
     "text": [
      "{1: 1, 2: 2, 3: 3, 4: 5}\n"
     ]
    }
   ],
   "source": [
    "# Practical Examples.\n",
    "\n",
    "## Use a dictionary to count the frequency  of elements in list.\n",
    "\n",
    "numbers =[1,2,2,3,3,3,4,4,4,4,4]\n",
    "frequency ={};\n",
    "for number in numbers:\n",
    "    if number in frequency:\n",
    "        frequency[number]+=1\n",
    "    else:\n",
    "        frequency[number]= 1\n",
    "\n",
    "print(frequency)\n",
    " \n",
    "# 1. numbers = [1, 2, 2, 3, 3, 3, 4, 4, 4, 4, 4]\n",
    "   # - Why? This is the list of numbers we want to analyze.\n",
    "   # - Some numbers repeat, so we need to count how many times each one appears.\n",
    "# 2. frequency = {}\n",
    "   # - Why? We create an empty dictionary to store the results.\n",
    "   # - Each number will be a key, and its count will be the value.\n",
    "# 3. for number in numbers:\n",
    "   # - Why? We loop through each number in the list.\n",
    "   # - This lets us check and update the count for every number one by one.\n",
    "# 4. if number in frequency:\n",
    "   # - Why? We check if the number is already in the dictionary.\n",
    "   # - If it is, that means we’ve seen it before — so we should increase its count.\n",
    "   # - This check is important because if we try to increase the count of a number that isn’t there yet, Python will give an error.\n",
    "# 5. frequency[number] += 1\n",
    "   # - Why? This line increases the count of the number by 1.\n",
    "   # - It updates the value for that key to show one more occurrence.\n",
    "# 6. else:\n",
    "   # - Why? This handles the case where the number is not yet in the dictionary.\n",
    "   # - It means this is the first time we’re seeing this number.\n",
    "# 7. frequency[number] = 1\n",
    "   # - Why? We add the number to the dictionary and set its count to 1.\n",
    "   # - This starts the count for that number.\n",
    "# 8. print(frequency)\n",
    "   # - Why? We print the final dictionary showing how many times each number appeared.\n",
    "   # - This gives us the complete result.\n"
   ]
  },
  {
   "cell_type": "code",
   "execution_count": null,
   "id": "7fbc2ac1",
   "metadata": {},
   "outputs": [
    {
     "name": "stdout",
     "output_type": "stream",
     "text": [
      "{'a': 1, 'b': 3, 'c': 4}\n"
     ]
    }
   ],
   "source": [
    "## Merge 2 Dictionaries into one.\n",
    "\n",
    "dict1 = {\"a\":1,\"b\":2};\n",
    "dict2 = {\"b\":3, \"c\":4};\n",
    "merged_dict={**dict1,**dict2};\n",
    "print(merged_dict)\n",
    "\n",
    "# What ** Does in This Context\n",
    "  # - ** is called the dictionary unpacking operator.\n",
    "  # - It extracts all key-value pairs from a dictionary and inserts them into another dictionary.\n",
    "  # - So {**dict1} means: “take all key-value pairs from dict1 and put them here.”\n",
    "\n",
    "# Why Two Asterisks?\n",
    "   # - * (single asterisk) is used for unpacking lists, tuples, or other iterables.\n",
    "   # - ** (double asterisk) is specifically for unpacking dictionaries — because dictionaries have key-value pairs, not just values.\n",
    "\n",
    "# - we use **dict1 to unpack the first dictionary.\n",
    "# - we use **dict2 to unpack the second dictionary.\n",
    "# - Both are placed inside {} to create a new merged dictionary.\n",
    "\n",
    "#  What Happens with Duplicate Keys?\n",
    "# - If both dictionaries have the same key (like \"b\" in your example), the last one wins.\n",
    "# - So \"b\": 2 from dict1 is overwritten by \"b\": 3 from dict2.\n",
    "\n"
   ]
  },
  {
   "cell_type": "markdown",
   "id": "14635b9f",
   "metadata": {},
   "source": [
    "\n",
    "**Conclusion**\n",
    "\n",
    "Dictionaries are powerful tools in Python for managing key-value pairs. They are used in a variety of real-world scenarios, such as counting word frequency, grouping data, storing configuration settings, managing phonebooks, tracking inventory, and caching results. Understanding how to leverage dictionaries effectively can greatly enhance the efficiency and readability of your code. "
   ]
  }
 ],
 "metadata": {
  "kernelspec": {
   "display_name": "Python 3",
   "language": "python",
   "name": "python3"
  },
  "language_info": {
   "codemirror_mode": {
    "name": "ipython",
    "version": 3
   },
   "file_extension": ".py",
   "mimetype": "text/x-python",
   "name": "python",
   "nbconvert_exporter": "python",
   "pygments_lexer": "ipython3",
   "version": "3.12.0"
  }
 },
 "nbformat": 4,
 "nbformat_minor": 5
}
