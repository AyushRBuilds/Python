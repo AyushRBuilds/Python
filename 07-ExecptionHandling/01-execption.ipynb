{
 "cells": [
  {
   "cell_type": "markdown",
   "id": "a05bc9f8",
   "metadata": {},
   "source": [
    "\n",
    "**Understanding Exceptions**\n",
    "\n",
    "Exception handling in Python allows you to handle errors gracefully and take corrective actions without stopping the execution of the program. This lesson will cover the basics of exceptions, including how to use try, except, else, and finally blocks.\n",
    "\n",
    "**What Are Exceptions?**\n",
    "\n",
    "Exceptions are events that disrupt the normal flow of a program. They occur when an error is encountered during program execution. Common exceptions include:\n",
    "\n",
    "- ZeroDivisionError: Dividing by zero.\n",
    "- FileNotFoundError: File not found.\n",
    "- ValueError: Invalid value.\n",
    "- TypeError: Invalid type."
   ]
  },
  {
   "cell_type": "code",
   "execution_count": null,
   "id": "53b00457",
   "metadata": {},
   "outputs": [
    {
     "name": "stdout",
     "output_type": "stream",
     "text": [
      "The Variable has not been assigned\n"
     ]
    }
   ],
   "source": [
    "## Execption try,except block\n",
    "\n",
    "try:\n",
    "    a=b\n",
    "except:\n",
    "    print(\"The Variable has not been assigned\")\n",
    "\n",
    "\n",
    "    ## What is happening here !\n",
    "#     – try:\n",
    "# This starts a try block, which means Python will attempt to run the code inside it. If something goes wrong (like an error), it will jump to the except block.\n",
    "# – a = b\n",
    "# Here, the code is trying to assign the value of variable b to variable a. But if b hasn’t been defined earlier in the program, Python will raise a NameError.\n",
    "# – except:\n",
    "# This catches any error that happens in the try block. It’s a general catch-all, meaning it doesn’t specify a particular type of error like NameError or TypeError.\n",
    "# – print(\"The Variable has not been assigned\")\n",
    "# If an error occurs (like b not being defined), this line runs and prints the message: “The Variable has not been assigned.”\n"
   ]
  },
  {
   "cell_type": "code",
   "execution_count": 5,
   "id": "3d8d72af",
   "metadata": {},
   "outputs": [
    {
     "ename": "NameError",
     "evalue": "name 'b' is not defined",
     "output_type": "error",
     "traceback": [
      "\u001b[31m---------------------------------------------------------------------------\u001b[39m",
      "\u001b[31mNameError\u001b[39m                                 Traceback (most recent call last)",
      "\u001b[36mCell\u001b[39m\u001b[36m \u001b[39m\u001b[32mIn[5]\u001b[39m\u001b[32m, line 1\u001b[39m\n\u001b[32m----> \u001b[39m\u001b[32m1\u001b[39m a=\u001b[43mb\u001b[49m\n",
      "\u001b[31mNameError\u001b[39m: name 'b' is not defined"
     ]
    }
   ],
   "source": [
    "a=b"
   ]
  },
  {
   "cell_type": "code",
   "execution_count": null,
   "id": "3f0861f5",
   "metadata": {},
   "outputs": [
    {
     "name": "stdout",
     "output_type": "stream",
     "text": [
      "name 'b' is not defined\n"
     ]
    }
   ],
   "source": [
    "try:\n",
    "    a=b\n",
    "except NameError as ex:\n",
    "    print(ex)\n",
    "\n",
    "# – a = b\n",
    "# Still trying to assign the value of b to a. If b hasn’t been defined, this will raise a NameError.\n",
    "# – except NameError as ex:\n",
    "# This is the key difference. Instead of catching any error, it only catches NameError(Direct approaching to the Error), which happens when you try to use a variable that hasn’t been defined.\n",
    "# The as ex part stores the actual error message in the variable ex.\n",
    "# – print(ex)\n",
    "# Instead of printing a custom message, this prints the exact error message Python generates—like \"name 'b' is not defined\".\n"
   ]
  },
  {
   "cell_type": "code",
   "execution_count": null,
   "id": "45018de6",
   "metadata": {},
   "outputs": [
    {
     "name": "stdout",
     "output_type": "stream",
     "text": [
      "division by zero\n",
      "Please enter the denominator greater than 0\n"
     ]
    }
   ],
   "source": [
    "try:\n",
    "    result=1/0\n",
    "except ZeroDivisionError as zx:\n",
    "    print(zx)\n",
    "    print(\"Please enter the denominator greater than 0\")\n",
    "\n",
    "\n",
    "# What’s different in this version (once fixed):\n",
    "# - It catches only ZeroDivisionError.\n",
    "# - It stores the actual error message (like \"division by zero\") in zx.\n",
    "# - It prints both:\n",
    "# - The technical error message (zx)\n",
    "# - A friendly message for the user: \"Please enter the denominator greater than 0\"\n",
    "\n"
   ]
  },
  {
   "cell_type": "code",
   "execution_count": null,
   "id": "e880237f",
   "metadata": {},
   "outputs": [],
   "source": [
    "try:\n",
    "    result=1/2\n",
    "except ZeroDivisionError as ex:\n",
    "    print(ex)\n",
    "except Exception as ex1:\n",
    "    print(ex1)\n",
    "    print(\"Main exception got caught here.\")\n",
    "\n",
    "# – except Exception as ex1:\n",
    "# This is a general catch-all for any other kind of error. It won’t be triggered either, because the code runs fine here only but the Exception is general for all type of errors.\n",
    "\n"
   ]
  },
  {
   "cell_type": "code",
   "execution_count": null,
   "id": "f684a7b6",
   "metadata": {},
   "outputs": [
    {
     "name": "stdout",
     "output_type": "stream",
     "text": [
      "name 'b' is not defined\n",
      "main exeception got Caught here.\n"
     ]
    }
   ],
   "source": [
    "try:\n",
    "    result=1/2\n",
    "    a=b\n",
    "except ZeroDivisionError as ex:\n",
    "    print(ex)\n",
    "    print(\"Please enter the denominator greater than Zero.\")\n",
    "except Exception as ex1:\n",
    "    print(ex1)\n",
    "    print('main exeception got Caught here.')\n",
    "\n",
    "\n",
    "# Now let’s look at how the error is handled:\n",
    "# – The first except block is waiting for a ZeroDivisionError, but that’s not what happened — so it’s skipped.\n",
    "# – The second except block catches any other error, including NameError. So this block runs.\n",
    "# Inside it: – It prints the actual error message, which will say something like: name 'b' is not defined – Then it prints the friendly message: 'main exception got Caught here.'\n",
    "\n",
    "\n",
    "# In Basic Words.\n",
    "# Even though the division worked, the undefined variable b caused an error.\n",
    "# Since it wasn’t a ZeroDivisionError, the general Exception block caught it and printed both the technical and friendly messages.\n",
    "\n"
   ]
  },
  {
   "cell_type": "code",
   "execution_count": null,
   "id": "7f69b527",
   "metadata": {},
   "outputs": [
    {
     "name": "stdout",
     "output_type": "stream",
     "text": [
      "enter Denominator greater than 0.\n"
     ]
    }
   ],
   "source": [
    "try:\n",
    "    num=int(input(\"Enter The Number:\"))\n",
    "    result=10/num\n",
    "except  ValueError:    # - except ValueError: → If input isn’t a valid integer, handle it here.\n",
    "    print(\"This is not a valid number.\")\n",
    "except ZeroDivisionError: #f the user enters 0, catch the division-by-zero error.\n",
    "    print(\"enter Denominator greater than 0.\")\n",
    "except Exception as ex: # - Catch any other unexpected error and store it in ex.\n",
    "    print(ex)"
   ]
  },
  {
   "cell_type": "code",
   "execution_count": null,
   "id": "d0b5a271",
   "metadata": {},
   "outputs": [
    {
     "name": "stdout",
     "output_type": "stream",
     "text": [
      "The result is 0.43478260869565216\n"
     ]
    }
   ],
   "source": [
    "## try,except ,else block\n",
    "try:\n",
    "    num=int(input(\"Enter The Number:\"))\n",
    "    result=10/num\n",
    "except  ValueError:    # - except ValueError: → If input isn’t a valid integer, handle it here.\n",
    "    print(\"This is not a valid number.\")\n",
    "except ZeroDivisionError: #f the user enters 0, catch the division-by-zero error.\n",
    "    print(\"enter Denominator greater than 0.\")\n",
    "except Exception as ex: # - Catch any other unexpected error and store it in ex.\n",
    "    print(ex)\n",
    "else: ## Executes only if no exceptions were raised in the try block.\n",
    "    print(f\"The result is {result}\")"
   ]
  },
  {
   "cell_type": "code",
   "execution_count": null,
   "id": "9cc74170",
   "metadata": {},
   "outputs": [
    {
     "name": "stdout",
     "output_type": "stream",
     "text": [
      "The result is 0.43478260869565216\n",
      "Execution is Complete.\n"
     ]
    }
   ],
   "source": [
    "# try,Except,else and Finally.\n",
    "try:\n",
    "    num=int(input(\"Enter a number:\"))\n",
    "    result=10/num\n",
    "except ValueError:\n",
    "    print(\"this is not a Valid Number.\")\n",
    "except ZeroDivisionError :\n",
    "    print(\"can't be divide using Zero!\")\n",
    "except Exception as ex:\n",
    "    print(ex)\n",
    "else:\n",
    "    print(f\"The result is {result}\")\n",
    "finally:# # Always runs—whether an error occurred or not—to wrap up the process.\n",
    "    print('Execution is Complete.')\n",
    "     # Confirm that the program has finished running.\n"
   ]
  },
  {
   "cell_type": "code",
   "execution_count": null,
   "id": "1ac26d5c",
   "metadata": {},
   "outputs": [
    {
     "name": "stdout",
     "output_type": "stream",
     "text": [
      "name 'b' is not defined\n",
      "file close\n"
     ]
    }
   ],
   "source": [
    "# File handling and Exception Handling !\n",
    "\n",
    "try: # # Begin a block to catch errors during file operations or other risky actions.\n",
    "    file=open('example.txt','r') #  # Attempt to open 'example.txt' in read mode—fails if file doesn't exist.\n",
    "    content=file.read() #  # Read the entire content of the file into a variable.\n",
    "    a=b ## Intentional error: 'b' is undefined, triggers a NameError.\n",
    "    print(content)  # # Would print file content if no error occurred before this line.\n",
    "except FileNotFoundError: # # Specific handler for missing file—avoids crashing if file isn't found.\n",
    "    print(\"The File does not exists.\") #  # Inform the user that the file couldn't be located.\n",
    "except Exception as ex: #  # Catch-all for any other unexpected errors (like NameError above).\n",
    "    print(ex)\n",
    "\n",
    "\n",
    "finally: # # Always executes—used here to safely close the file if it was opened.\n",
    "    if 'file' in locals() or not file.closed(): #  # Check if 'file' exists and is still open.\n",
    "        file.close() # # Close the file to free system resources and avoid file locks.\n",
    "        print('file close')\n",
    "  \n",
    "\n",
    "# Most Confusing line ka explaination.\n",
    "\n",
    "#   - 'file' in locals()\n",
    "# → Checks if the variable file was created. If the file failed to open (like if it didn’t exist), this prevents an error from trying to use it.\n",
    "# - not file.closed()\n",
    "# → Checks if the file is still open. If it’s already closed, no need to close it again.\n",
    "# - or\n",
    "# → Combines both checks. If either the file exists or it’s still open, we go ahead and close it.\n",
    "# - Why it matters:\n",
    "# This protects your program from crashing when cleaning up. It’s like saying:\n",
    "# “If I have the file, and it’s not already closed, then I’ll close it now.\n"
   ]
  },
  {
   "cell_type": "code",
   "execution_count": 21,
   "id": "113ac30d",
   "metadata": {},
   "outputs": [
    {
     "name": "stdout",
     "output_type": "stream",
     "text": [
      "True\n"
     ]
    }
   ],
   "source": [
    "if 'file' in locals():\n",
    "    print(True)"
   ]
  },
  {
   "cell_type": "code",
   "execution_count": null,
   "id": "3ff79e70",
   "metadata": {},
   "outputs": [
    {
     "ename": "TypeError",
     "evalue": "'bool' object is not callable",
     "output_type": "error",
     "traceback": [
      "\u001b[31m---------------------------------------------------------------------------\u001b[39m",
      "\u001b[31mTypeError\u001b[39m                                 Traceback (most recent call last)",
      "\u001b[36mCell\u001b[39m\u001b[36m \u001b[39m\u001b[32mIn[22]\u001b[39m\u001b[32m, line 1\u001b[39m\n\u001b[32m----> \u001b[39m\u001b[32m1\u001b[39m \u001b[38;5;129;01mnot\u001b[39;00m \u001b[43mfile\u001b[49m\u001b[43m.\u001b[49m\u001b[43mclosed\u001b[49m\u001b[43m(\u001b[49m\u001b[43m)\u001b[49m\n",
      "\u001b[31mTypeError\u001b[39m: 'bool' object is not callable"
     ]
    }
   ],
   "source": [
    "not file.closed()\n",
    "\n",
    "\n",
    "\n",
    "# What It Does ?:\n",
    "# - file.closed is a built-in property of file objects in Python.\n",
    "# - It returns True if the file is already closed.\n",
    "# - It returns False if the file is still open.\n",
    "# - not file.closed flips that:\n",
    "# - So it returns True if the file is open.\n",
    "# - And returns False if the file is closed\n",
    "\n",
    "# Calling close() on an already closed file is unnecessary and could cause confusion or errors in more complex systems.\n"
   ]
  },
  {
   "cell_type": "code",
   "execution_count": null,
   "id": "1e5b04ec",
   "metadata": {},
   "outputs": [],
   "source": []
  }
 ],
 "metadata": {
  "kernelspec": {
   "display_name": "Python 3",
   "language": "python",
   "name": "python3"
  },
  "language_info": {
   "codemirror_mode": {
    "name": "ipython",
    "version": 3
   },
   "file_extension": ".py",
   "mimetype": "text/x-python",
   "name": "python",
   "nbconvert_exporter": "python",
   "pygments_lexer": "ipython3",
   "version": "3.12.0"
  }
 },
 "nbformat": 4,
 "nbformat_minor": 5
}
