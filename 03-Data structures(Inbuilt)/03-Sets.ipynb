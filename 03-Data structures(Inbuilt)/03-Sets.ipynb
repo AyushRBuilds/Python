{
 "cells": [
  {
   "cell_type": "markdown",
   "id": "d546200f",
   "metadata": {},
   "source": [
    "\n",
    "**Sets**\n",
    "\n",
    "Sets are a built-in data type in Python used to store collections of unique items. They are unordered, meaning that the elements do not follow a specific order, and they do not allow duplicate elements. Sets are useful for membership tests, eliminating duplicate entries, and performing mathematical set operations like union, intersection, difference, and symmetric difference."
   ]
  },
  {
   "cell_type": "code",
   "execution_count": null,
   "id": "b44d03a5",
   "metadata": {},
   "outputs": [
    {
     "name": "stdout",
     "output_type": "stream",
     "text": [
      "{1, 2, 3, 4, 5}\n",
      "<class 'set'>\n"
     ]
    }
   ],
   "source": [
    "#Create a Set.# Here as well there are two ways indirectly. \n",
    "# 1st - Use curly braces:See below in the current cell.\n",
    "# 2nd - use the set() function:see the next cell.\n",
    "\n",
    "my_set={1,2,3,4,5}## 1St Method.\n",
    "print(my_set)\n",
    "print(type(my_set))"
   ]
  },
  {
   "cell_type": "code",
   "execution_count": 4,
   "id": "83bd099e",
   "metadata": {},
   "outputs": [
    {
     "name": "stdout",
     "output_type": "stream",
     "text": [
      "{1, 2, 3, 4, 5, 6, 7}\n",
      "<class 'set'>\n"
     ]
    }
   ],
   "source": [
    "## 2nd iS used basically when u want to create the set of existing/newly formed List/tuples.\n",
    "st =set([1,2,3,4,5,6,7])\n",
    "print(st)\n",
    "print(type(st))"
   ]
  },
  {
   "cell_type": "code",
   "execution_count": 5,
   "id": "a1eebcc7",
   "metadata": {},
   "outputs": [
    {
     "name": "stdout",
     "output_type": "stream",
     "text": [
      "<class 'set'>\n"
     ]
    }
   ],
   "source": [
    "# lets say we wanna create A empty set.\n",
    "my_empty_set = set();\n",
    "print(type(my_empty_set))"
   ]
  },
  {
   "cell_type": "code",
   "execution_count": null,
   "id": "dda65215",
   "metadata": {},
   "outputs": [
    {
     "name": "stdout",
     "output_type": "stream",
     "text": [
      "{1, 2, 3, 4, 5, 6}\n"
     ]
    }
   ],
   "source": [
    "my_empty_set =set([1,2,3,4,5,4,5,6])\n",
    "print(my_empty_set)\n",
    "\n",
    "#  Summary:\n",
    "# -  set() removes duplicates automatically.\n",
    "# -  Sets are unordered, so print order isn’t guaranteed.\n",
    "# -  Good for filtering unique items from a collection like a list\n"
   ]
  },
  {
   "cell_type": "code",
   "execution_count": null,
   "id": "94f4d4df",
   "metadata": {},
   "outputs": [
    {
     "name": "stdout",
     "output_type": "stream",
     "text": [
      "{1, 2, 3, 4, 5, 7}\n",
      "{1, 2, 3, 4, 5, 7}\n"
     ]
    }
   ],
   "source": [
    "# Basic Set Operations\n",
    "# Adding And Removing Elements.\n",
    "my_set.add(7)\n",
    "print(my_set)## Here one i added once it get added in the set since it wasn't there already .\n",
    "my_set.add(7)\n",
    "print(my_set)## But here when I tried to add once again the same element it doesn't provide it .coz sets are made to define unique elements.\n",
    "\n",
    "\n",
    "\n",
    "#  Summary\n",
    "# - <setname>.add(x) inserts item x if it’s not already in the set.\n",
    "# - Duplicate additions are ignored without any error.\n",
    "# - Sets ensure all elements are distinct.\n"
   ]
  },
  {
   "cell_type": "code",
   "execution_count": null,
   "id": "808a668a",
   "metadata": {},
   "outputs": [
    {
     "name": "stdout",
     "output_type": "stream",
     "text": [
      "{1, 2, 4, 5, 7}\n"
     ]
    }
   ],
   "source": [
    "# removing the elments from set.\n",
    "my_set.remove(3);\n",
    "print(my_set)"
   ]
  },
  {
   "cell_type": "code",
   "execution_count": null,
   "id": "a4a9174d",
   "metadata": {},
   "outputs": [
    {
     "ename": "KeyError",
     "evalue": "10",
     "output_type": "error",
     "traceback": [
      "\u001b[31m---------------------------------------------------------------------------\u001b[39m",
      "\u001b[31mKeyError\u001b[39m                                  Traceback (most recent call last)",
      "\u001b[36mCell\u001b[39m\u001b[36m \u001b[39m\u001b[32mIn[16]\u001b[39m\u001b[32m, line 1\u001b[39m\n\u001b[32m----> \u001b[39m\u001b[32m1\u001b[39m \u001b[43mmy_set\u001b[49m\u001b[43m.\u001b[49m\u001b[43mremove\u001b[49m\u001b[43m(\u001b[49m\u001b[32;43m10\u001b[39;49m\u001b[43m)\u001b[49m;\n\u001b[32m      2\u001b[39m \u001b[38;5;28mprint\u001b[39m(my_set)\n",
      "\u001b[31mKeyError\u001b[39m: 10"
     ]
    }
   ],
   "source": [
    "my_set.remove(10);\n",
    "print(my_set)\n",
    "\n",
    "#  Summary:\n",
    "# # - .remove(x) deletes item x from the set.\n",
    "# # - If x isn’t in the set, it causes an error.\n",
    "# # - It’s useful when you’re sure the item exist."
   ]
  },
  {
   "cell_type": "code",
   "execution_count": null,
   "id": "5b5b0cf3",
   "metadata": {},
   "outputs": [
    {
     "name": "stdout",
     "output_type": "stream",
     "text": [
      "{1, 2, 4, 5, 7}\n"
     ]
    }
   ],
   "source": [
    "my_set.discard(11); ## Here .discard() don't gives us any errors even if the element doesn't exist in the set.but it is it will remove it .\n",
    "print(my_set) \n",
    "\n",
    "#  Summary\n",
    "# - Use .remove() when you're sure the item is present.\n",
    "# - Use .discard() when the item may or may not be in the set, to avoid errors.\n"
   ]
  },
  {
   "cell_type": "code",
   "execution_count": null,
   "id": "3538903a",
   "metadata": {},
   "outputs": [
    {
     "name": "stdout",
     "output_type": "stream",
     "text": [
      "1\n",
      "{2, 4, 5, 7}\n"
     ]
    }
   ],
   "source": [
    "# pop - method :\n",
    "# - The .pop() method removes and returns an arbitrary element from the set.\n",
    "# - Since sets are unordered, you don’t know which element will be removed — it’s unpredictable.\n",
    "\n",
    "removed_element = my_set.pop();\n",
    "print(removed_element)\n",
    "print(my_set)\n",
    "# Summary\n",
    "# - .pop() is useful when you don’t care which item is removed.\n",
    "# - It returns the deleted value (unlike .remove() or .discard()).\n",
    "# - If the set is empty, pop() throws a Error.\n"
   ]
  },
  {
   "cell_type": "code",
   "execution_count": null,
   "id": "e392b1c0",
   "metadata": {},
   "outputs": [
    {
     "name": "stdout",
     "output_type": "stream",
     "text": [
      "set()\n"
     ]
    }
   ],
   "source": [
    "# Clear All the elements \n",
    "my_set.clear();\n",
    "print(my_set)\n",
    "\n",
    "# Technical Summary:\n",
    "# - .clear() is a built-in method for sets.\n",
    "# - It mutates the original set by deleting all items.\n",
    "# - The set’s type stays as set, just with no values inside.\n"
   ]
  },
  {
   "cell_type": "code",
   "execution_count": null,
   "id": "eb18cc32",
   "metadata": {},
   "outputs": [
    {
     "name": "stdout",
     "output_type": "stream",
     "text": [
      "True\n",
      "False\n"
     ]
    }
   ],
   "source": [
    "## Set membership test.\n",
    "my_set={1,2,3,4,5,6};\n",
    "print(3 in my_set);## This Expression helps checking that whether 3 is in my_set or not .based on that it returns the boolean value.\n",
    "print(10 in my_set)\n",
    "\n",
    "# Technical Summary:\n",
    "# - The expression x in set returns:\n",
    "# - True if x is found\n",
    "# - False if it’s missing\n",
    "# - Behind the scenes, sets use hashing, so these checks are very fast, even with large sets.\n"
   ]
  },
  {
   "cell_type": "code",
   "execution_count": null,
   "id": "8de45463",
   "metadata": {},
   "outputs": [
    {
     "name": "stdout",
     "output_type": "stream",
     "text": [
      "{1, 2, 3, 4, 5, 6, 7, 8, 9}\n",
      "{4, 5, 6}\n",
      "{4, 5, 6}\n"
     ]
    }
   ],
   "source": [
    "## Mathematical Operation.\n",
    "set1={1,2,3,4,5,6};\n",
    "set2={4,5,6,7,8,9};\n",
    "\n",
    "## Unions Of sets\n",
    "union_set = set1.union(set2)\n",
    "print(union_set)\n",
    "\n",
    "# # ✅ set1.union(set2)\n",
    "# - The .union() method combines elements from both sets.\n",
    "# - The result includes every unique element from both set1 and set2.\n",
    "# - Duplicates are removed automatically since sets don’t allow repeated values.\n",
    "\n",
    "\n",
    "\n",
    "## Intersection \n",
    "intersection_set = set1.intersection(set2)\n",
    "print(intersection_set)\n",
    "\n",
    "## ✅ set1.intersection(set2)\n",
    "# - The .intersection() method finds common elements between set1 and set2.\n",
    "# - It returns a new set with values that exist in both input sets.\n",
    "# - In this case, the values {4, 5, 6} are present in both sets.\n",
    "\n",
    "# Updated after Interesection.\n",
    "set1.intersection_update(set2)\n",
    "print(set1)\n",
    "\n",
    "\n",
    "#  set1.intersection_update(set2)\n",
    "# - This method modifies set1 directly by keeping only elements that are also in set2.\n",
    "# - It’s similar to .intersection(), but instead of creating a new set, it updates the original one.\n",
    "# - Now, set1 only contains the values {4, 5, 6}, which are the common elements.\n",
    "\n",
    "## OVErALL Summary:\n",
    "# - union() combines elements from both sets, removing duplicates.\n",
    "# - intersection() creates a new set with values common to both sets.\n",
    "# - intersection_update() modifies the original set to keep only shared elements.\n",
    "\n",
    "\n"
   ]
  },
  {
   "cell_type": "code",
   "execution_count": null,
   "id": "8ed788b6",
   "metadata": {},
   "outputs": [
    {
     "name": "stdout",
     "output_type": "stream",
     "text": [
      "{1, 2, 3}\n"
     ]
    }
   ],
   "source": [
    "set1={1,2,3,4,5,6};\n",
    "set2={4,5,6,7,8,9};\n",
    "\n",
    "# Difference;\n",
    "print(set1.difference(set2))\n",
    "\n",
    "# ✅ set1.difference(set2)\n",
    "# - The .difference() method compares two sets.\n",
    "# - It returns a new set containing items that exist in set1 but not in set2.\n",
    "# - In this case, set1 has {1, 2, 3} that are not shared with set2.\n",
    "# - This method is non-destructive—it doesn’t change the original set1.\n"
   ]
  },
  {
   "cell_type": "code",
   "execution_count": 25,
   "id": "a0c21191",
   "metadata": {},
   "outputs": [
    {
     "data": {
      "text/plain": [
       "{1, 2, 3, 4, 5, 6}"
      ]
     },
     "execution_count": 25,
     "metadata": {},
     "output_type": "execute_result"
    }
   ],
   "source": [
    "set1"
   ]
  },
  {
   "cell_type": "code",
   "execution_count": null,
   "id": "5ecb1587",
   "metadata": {},
   "outputs": [
    {
     "data": {
      "text/plain": [
       "{7, 8, 9}"
      ]
     },
     "execution_count": 28,
     "metadata": {},
     "output_type": "execute_result"
    }
   ],
   "source": [
    "set2.difference(set1) # Similar goes here ."
   ]
  },
  {
   "cell_type": "code",
   "execution_count": null,
   "id": "6edb44bd",
   "metadata": {},
   "outputs": [
    {
     "data": {
      "text/plain": [
       "{1, 2, 3, 7, 8, 9}"
      ]
     },
     "execution_count": 29,
     "metadata": {},
     "output_type": "execute_result"
    }
   ],
   "source": [
    "# Symmetric Difference.\n",
    "set1.symmetric_difference(set2)\n",
    "\n",
    "# What happened\n",
    "# - .symmetric_difference() returns a new set with values that are in either set1 or set2 — but not in both.\n",
    "# - It removes all the common elements, and keeps the ones that are unique to each set.\n",
    "\n",
    "\n",
    "# here as well therse is symmetric_difference_update() ! \n",
    "\n",
    "# 🔄 What is symmetric_difference_update() ?\n",
    "# It’s a method that modifies the original set to keep only the elements that are different between two sets — just like .symmetric_difference(), but instead of returning a new set, it updates the current one.\n"
   ]
  },
  {
   "cell_type": "code",
   "execution_count": null,
   "id": "201efef0",
   "metadata": {},
   "outputs": [
    {
     "name": "stdout",
     "output_type": "stream",
     "text": [
      "False\n",
      "True\n"
     ]
    }
   ],
   "source": [
    "# Sets Methods\n",
    "set1={1,2,3,4,5}\n",
    "set2={3,4,5}\n",
    "\n",
    "## is subset\n",
    "print(set1.issubset(set2)) \n",
    "\n",
    "print(set1.issuperset(set2))"
   ]
  },
  {
   "cell_type": "code",
   "execution_count": null,
   "id": "66252970",
   "metadata": {},
   "outputs": [],
   "source": [
    "lst=[1,2,2,3,4,4,5]\n",
    "\n",
    "set(lst) # basically converting the list to set with unique elemnts in it ."
   ]
  },
  {
   "cell_type": "code",
   "execution_count": null,
   "id": "e9879603",
   "metadata": {},
   "outputs": [
    {
     "name": "stdout",
     "output_type": "stream",
     "text": [
      "{'10', 'are', 'sets', 'lecture', 'as', 'discussing', 'this', 'In', 'we', 'about'}\n",
      "10\n"
     ]
    }
   ],
   "source": [
    "### Counting Unique words in text\n",
    "\n",
    "text=\"In this lecture we are discussing about  sets as lecture 10 \"\n",
    "words=text.split()\n",
    "\n",
    "## convert list of words to set to get unique words\n",
    "\n",
    "unique_words=set(words)\n",
    "print(unique_words)\n",
    "print(len(unique_words))\n",
    "\n",
    "# Quick Summary of What actually Happened ?\n",
    "# - ✅ split() turns the sentence into a list of words\n",
    "# - ✅ set() removes any duplicates\n",
    "# - ✅ print() shows your unique word collection\n"
   ]
  },
  {
   "cell_type": "markdown",
   "id": "fafee2c7",
   "metadata": {},
   "source": [
    "\n",
    "**Conclusion**\n",
    "\n",
    "Sets are a powerful and flexible data type in Python that provide a way to store collections of unique elements. They support various operations such as union, intersection, difference, and symmetric difference, which are useful for mathematical computations. Understanding how to use sets and their associated methods can help you write more efficient and clean Python code, especially when dealing with unique collections and membership tests."
   ]
  }
 ],
 "metadata": {
  "kernelspec": {
   "display_name": "Python 3",
   "language": "python",
   "name": "python3"
  },
  "language_info": {
   "codemirror_mode": {
    "name": "ipython",
    "version": 3
   },
   "file_extension": ".py",
   "mimetype": "text/x-python",
   "name": "python",
   "nbconvert_exporter": "python",
   "pygments_lexer": "ipython3",
   "version": "3.12.0"
  }
 },
 "nbformat": 4,
 "nbformat_minor": 5
}
