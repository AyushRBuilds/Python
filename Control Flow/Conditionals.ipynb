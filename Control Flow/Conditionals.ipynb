{
 "cells": [
  {
   "cell_type": "markdown",
   "id": "c3fcaeba",
   "metadata": {},
   "source": [
    "\n",
    "**Conditional Statements (if, elif, else)**\n",
    "\n",
    "Agenda:\n",
    "\n",
    "1. Introduction to Conditional Statements\n",
    "2. if Statement\n",
    "3. else Statement\n",
    "4. elif Statement\n",
    "5. Nested Conditional Statements\n",
    "6. Practical Examples\n",
    "7. Common Errors and Best Practices"
   ]
  },
  {
   "cell_type": "code",
   "execution_count": 4,
   "id": "ed169274",
   "metadata": {},
   "outputs": [
    {
     "name": "stdout",
     "output_type": "stream",
     "text": [
      "U're Not eligible To Vote.\n"
     ]
    }
   ],
   "source": [
    "#if statement \n",
    "age = int(input(\"Enter your Age :\"));\n",
    "\n",
    "\n",
    "if age>=18:\n",
    "    print(\"U're Eligible To Vote.\")# In here the block of code will be executed only if the if statement is true .\n",
    "\n",
    "elif age<13:\n",
    "    print(\"U're Minor;hence not eligible to vote.\")#the elif statemnet allows you to check the mutiple cons=ditions .it stands for \"else if \" basically meant \"if this doesn't work check this one and if this as well doesn't work then move to further .\"\n",
    "\n",
    "else :\n",
    "    print(\"U're Not eligible To Vote.\")# The else statement executes a block of code if the condition in the if Statement is False."
   ]
  },
  {
   "cell_type": "code",
   "execution_count": null,
   "id": "93481839",
   "metadata": {},
   "outputs": [
    {
     "name": "stdout",
     "output_type": "stream",
     "text": [
      "The Fuckin Number is Zero man !\n"
     ]
    }
   ],
   "source": [
    "# nested conditional statements .\n",
    "# You can place one or more if .elif , or else statemnets inside another if,elif,or else statement to create nested conditional statemnets.\n",
    "\n",
    "# number even,odd ,negative \n",
    "\n",
    "num = int(input(\"Enter the fuckin number:\"));\n",
    "\n",
    "if num>0:\n",
    "    print(\"The entered fuckin number is Positive.\")\n",
    "    if num%2 == 0 :\n",
    "        print(\"The entered fuckin Number is also even.\")# This if statement is nested and follow by other else statement to it .\n",
    "    else:\n",
    "        print(\"The Emtered fuckin Number is also Odd.\")\n",
    "elif num<0 :\n",
    "    print(\"The Entered Fuckin Number is Negative Bro !\")\n",
    "else:\n",
    "    print(\"The Fuckin Number is Zero man !\")\n",
    "\n"
   ]
  },
  {
   "cell_type": "code",
   "execution_count": null,
   "id": "e566013a",
   "metadata": {},
   "outputs": [
    {
     "name": "stdout",
     "output_type": "stream",
     "text": [
      "The Entered Year is Not a Leap Year.\n"
     ]
    }
   ],
   "source": [
    "# Practical Examples.\n",
    "\n",
    "# Determine if  a year is Leap or not using nested conditions.btw we can do it with if ,elif,else as well without being nested.\n",
    "\n",
    "year =int(input(\"Enter the year:\"));\n",
    "\n",
    "if year%4 == 0:\n",
    "    if year%100 == 0:\n",
    "        if year%400 == 0:\n",
    "            print(\"The entered Year is Leap Year.\")\n",
    "        else :\n",
    "            print(\"The entered Year is Not Leap Year.\")\n",
    "    else:\n",
    "        print(\"The Entered Year is Leap year\")\n",
    "else:\n",
    "    print(\"The Entered Year is Not a Leap Year.\")\n",
    "   "
   ]
  },
  {
   "cell_type": "code",
   "execution_count": 14,
   "id": "91073696",
   "metadata": {},
   "outputs": [
    {
     "name": "stdout",
     "output_type": "stream",
     "text": [
      "RESULT : error ! Div by Zero.\n"
     ]
    }
   ],
   "source": [
    "# Assignments .\n",
    "## Simple Calculator program\n",
    "# Take user input\n",
    "dig1 = float(input(\"Enter the First number:\"));\n",
    "dig2 = float(input(\"Enter The Second Number:\"));\n",
    "op = input(\"Choose The Operation To be done among (+ , - , / , %, * , **) :\")\n",
    "\n",
    "if op == '+':\n",
    "    result = dig1 + dig2;\n",
    "elif op == '-':\n",
    "    result = dig1 - dig2;\n",
    "elif op == '/':\n",
    "    if dig2 != 0 :\n",
    "     result = dig1/dig2 ;\n",
    "    else :\n",
    "        result = \"error ! Div by Zero.\"\n",
    "elif op == '*':\n",
    "    result = dig1*dig2 ;\n",
    "elif op == '%':\n",
    "    result = dig1%dig2 ;\n",
    "elif op == '**':\n",
    "    result = dig1**dig2 ;\n",
    "else :\n",
    "    result = \"Invalid Operation !\"\n",
    "\n",
    "print( \"RESULT :\" , result)\n",
    "\n"
   ]
  },
  {
   "cell_type": "code",
   "execution_count": null,
   "id": "a48a3dc1",
   "metadata": {},
   "outputs": [],
   "source": [
    "# Assignments while revision :\n",
    "\n",
    "###  1. Determine the ticket price based on age and whether the person is a student.\n",
    "# Ticket pricing based on age and student status.\n",
    "\n",
    "# Complex Example 3: Employee Bonus Calculation\n",
    "# Calculate an employee's bonus based on their performance rating and years of service.\n",
    "\n",
    "\n",
    "# Complex Example 4: User Login System\n",
    "# A simple user login system that checks the username and password."
   ]
  },
  {
   "cell_type": "markdown",
   "id": "eb81b037",
   "metadata": {},
   "source": [
    "### For Solutions of above complex examples visit : [https://github.com/krishnaik06/Complete-Python-Bootcamp/blob/main/2-Control%20Flow/Conditionalstatements.ipynb]"
   ]
  }
 ],
 "metadata": {
  "kernelspec": {
   "display_name": "Python 3",
   "language": "python",
   "name": "python3"
  },
  "language_info": {
   "codemirror_mode": {
    "name": "ipython",
    "version": 3
   },
   "file_extension": ".py",
   "mimetype": "text/x-python",
   "name": "python",
   "nbconvert_exporter": "python",
   "pygments_lexer": "ipython3",
   "version": "3.12.0"
  }
 },
 "nbformat": 4,
 "nbformat_minor": 5
}
