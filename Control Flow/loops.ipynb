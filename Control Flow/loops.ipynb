{
 "cells": [
  {
   "cell_type": "markdown",
   "id": "37b6530e",
   "metadata": {},
   "source": [
    "\n",
    "**Loops**\n",
    "\n",
    "AGENDA:\n",
    "\n",
    "1. Introduction to Loops\n",
    "\n",
    "2. for Loop\n",
    "\n",
    "   - Iterating over a range\n",
    "   - Iterating over a string\n",
    "3.  while Loop\n",
    "\n",
    "4. Loop Control Statements\n",
    "\n",
    "   - break\n",
    "   - continue\n",
    "   - pass\n",
    "5. Nested Loops\n",
    "\n",
    "6. Practical Examples and Common Errors"
   ]
  },
  {
   "cell_type": "code",
   "execution_count": null,
   "id": "045e88d5",
   "metadata": {},
   "outputs": [
    {
     "data": {
      "text/plain": [
       "range(0, 5)"
      ]
     },
     "execution_count": 1,
     "metadata": {},
     "output_type": "execute_result"
    }
   ],
   "source": [
    "# When We Say Range in Python with only onw number as input .\n",
    "range(5)# It basically gives acces to all the numbers from 0 upto the the number we inputed but not the number itself."
   ]
  },
  {
   "cell_type": "code",
   "execution_count": null,
   "id": "e3744ea8",
   "metadata": {},
   "outputs": [
    {
     "name": "stdout",
     "output_type": "stream",
     "text": [
      "0\n",
      "1\n",
      "2\n",
      "3\n",
      "4\n"
     ]
    }
   ],
   "source": [
    "# For Loop\n",
    "\n",
    "for i in range(5):#Thus in here the for loop do run upto the 5 but not for 5 itself .\n",
    "    print(i)\n",
    "\n",
    " # What is happening here :\n",
    "# - range(5) means: start at 0 and go up to 4 — it does not include 5.\n",
    "# - The loop runs five times, once for each value: 0, 1, 2, 3, and 4.\n",
    "# - Each time it runs, i takes one value from the range and prints it.\n",
    "# So the output will be:shown as below .\n"
   ]
  },
  {
   "cell_type": "code",
   "execution_count": null,
   "id": "53898714",
   "metadata": {},
   "outputs": [
    {
     "name": "stdout",
     "output_type": "stream",
     "text": [
      "1\n",
      "2\n",
      "3\n",
      "4\n",
      "5\n"
     ]
    }
   ],
   "source": [
    "# Similarly in here .\n",
    "\n",
    "for i in range(1,6):# here the loop starts from 1  and end up at 5 doesn't include the 6. \n",
    "    print(i)"
   ]
  },
  {
   "cell_type": "code",
   "execution_count": null,
   "id": "738341fb",
   "metadata": {},
   "outputs": [
    {
     "name": "stdout",
     "output_type": "stream",
     "text": [
      "1\n",
      "3\n",
      "5\n",
      "7\n",
      "9\n"
     ]
    }
   ],
   "source": [
    "# here is the different case .\n",
    "for i in range(1,10,2):\n",
    "    print(i)\n",
    "\n",
    "# Explanation:\n",
    "#  for i in range(1, 10, 2):\n",
    "# - for i in ... means: “Start a loop. Each time, give me a new number and store it in i.”\n",
    "# - range(1, 10, 2) tells Python:\n",
    "#          - Start at 1.\n",
    "#          - Go up to (but not including) 10.\n",
    "#          - Increase/Jump by 2 each time.\n",
    "# So the sequence will be:\n",
    "#  1, 3, 5, 7, 9\n",
    "\n",
    "\n"
   ]
  },
  {
   "cell_type": "code",
   "execution_count": null,
   "id": "c26cc5cd",
   "metadata": {},
   "outputs": [
    {
     "name": "stdout",
     "output_type": "stream",
     "text": [
      "10\n",
      "9\n",
      "8\n",
      "7\n",
      "6\n",
      "5\n",
      "4\n",
      "3\n",
      "2\n"
     ]
    }
   ],
   "source": [
    "# Lets See what is here :\n",
    "for i in range(10,1,-1):# Here the loop start from 10 and ends at 2 not including 1 ; and then jump by -1 ,means step **behind**('-' means behind) by 1 .\n",
    "    print(i)\n",
    " "
   ]
  },
  {
   "cell_type": "code",
   "execution_count": null,
   "id": "6c222afc",
   "metadata": {},
   "outputs": [
    {
     "name": "stdout",
     "output_type": "stream",
     "text": [
      "10\n",
      "8\n",
      "6\n",
      "4\n",
      "2\n"
     ]
    }
   ],
   "source": [
    "# If we just code like these .\n",
    "for i in range(10,1,-2): # here we are stepping behind by 2.Baaki all is same as above \n",
    "    print(i)\n",
    " "
   ]
  },
  {
   "cell_type": "code",
   "execution_count": null,
   "id": "2758c675",
   "metadata": {},
   "outputs": [
    {
     "name": "stdout",
     "output_type": "stream",
     "text": [
      "A\n",
      "y\n",
      "u\n",
      "s\n",
      "h\n",
      " \n",
      "R\n",
      "e\n",
      "d\n",
      "e\n",
      "k\n",
      "a\n",
      "r\n"
     ]
    }
   ],
   "source": [
    "# Lets See What we can do with strings using for loop .\n",
    "\n",
    "str =\"Ayush Redekar\" ;\n",
    "\n",
    "for i in str:\n",
    "    print(i)\n",
    "\n",
    "# You gave Python a name string and asked it to look at each character one by one. The for loop goes through each letter (including the space) and print(i) shows that letter on a new line. It’s like reading your name aloud, one letter at a time.\n"
   ]
  },
  {
   "cell_type": "markdown",
   "id": "7ecb6896",
   "metadata": {},
   "source": [
    "\n",
    "##### **while loop**\n",
    "\n",
    "##### - The while loop continues to execute as long as the condition is True."
   ]
  },
  {
   "cell_type": "code",
   "execution_count": null,
   "id": "04851739",
   "metadata": {},
   "outputs": [
    {
     "name": "stdout",
     "output_type": "stream",
     "text": [
      "0\n",
      "1\n",
      "2\n",
      "3\n",
      "4\n"
     ]
    }
   ],
   "source": [
    "# Example of While loop.\n",
    "\n",
    "count=0;\n",
    "\n",
    "while count<5:\n",
    "    print(count)\n",
    "    count= count+1\n",
    "\n",
    "# You're telling Python:\n",
    "# - Start with count = 0.\n",
    "# - While count is less than 5, do two things:\n",
    "# -first = Show the value of count\n",
    "# -and then secondly = Add 1 to count.\n",
    "# and then proceed for the next count with same cycle.\n",
    "\n",
    "\n"
   ]
  },
  {
   "cell_type": "code",
   "execution_count": null,
   "id": "ff606f1c",
   "metadata": {},
   "outputs": [
    {
     "name": "stdout",
     "output_type": "stream",
     "text": [
      "0\n",
      "1\n",
      "2\n",
      "3\n",
      "4\n"
     ]
    }
   ],
   "source": [
    "## Loop Control Statements\n",
    "\n",
    "## break\n",
    "## The break statement exits the loop permaturely.\n",
    "\n",
    "## break sstatement\n",
    "\n",
    "for i in range(10):\n",
    "    if i==5:\n",
    "        break\n",
    "    print(i)\n",
    "\n",
    "# 🎯 What happens here:\n",
    "# The loop begins. It will run 10 times, with i taking values from 0 to 9. So on the first round,\n",
    "#  i = 0, then 1, then 2… all the way up to 9\n",
    "\n",
    "# 🕵️ Check-point:\n",
    "# Each time the loop runs, it asks: “Is i equal to 5?”\n",
    "# If not, it continues. If yes, then we hit the next line...\n",
    "\n",
    "# If i equals 5, Python says “break the loop” and exits immediately—no more looping.\n",
    "# So the loop stops right here, before printing anything further.\n",
    "\n",
    "\n",
    "# CONCLUSION.\n",
    "# We go from i = 0 to i = 4, and those values get printed.\n",
    "# Once i = 5, the condition i == 5 becomes True, and the loop exits before that number gets printed.\n"
   ]
  },
  {
   "cell_type": "code",
   "execution_count": null,
   "id": "33584b8e",
   "metadata": {},
   "outputs": [
    {
     "name": "stdout",
     "output_type": "stream",
     "text": [
      "1\n",
      "3\n",
      "5\n",
      "7\n",
      "9\n"
     ]
    }
   ],
   "source": [
    "## Continue \n",
    "\n",
    "## The Continue statement skips the current iteration and continues with the next .\n",
    "\n",
    "for i in range(10):\n",
    "    if i%2==0:\n",
    "        continue\n",
    "    print(i)\n",
    "\n",
    "# 🔁 Loop setup:\n",
    "# This starts a loop that runs 10 times. i will take values from 0 to 9, one at a time.\n",
    "\n",
    "# ➗ Condition check:\n",
    "# Each time i changes, Python checks if it's an even number.\n",
    "# This uses the modulus operator (%), which gives the remainder when i is divided by 2.\n",
    "# - If i % 2 == 0, it means i is even (like 0, 2, 4, …).\n",
    "# - If not, i is odd.\n",
    "\n",
    "# ⏭️ Skip this round:\n",
    "# If i is even, this continue tells Python:\n",
    "# “Skip the rest of this loop cycle and jump straight to the next i.”\n",
    "# So, no printing happens for even numbers.\n",
    "\n",
    "# 🎉 Final summary:\n",
    "# - Even numbers (0, 2, 4, 6, 8) are skipped.\n",
    "# - Odd numbers (1, 3, 5, 7, 9) are printed.\n"
   ]
  },
  {
   "cell_type": "code",
   "execution_count": null,
   "id": "05416fbb",
   "metadata": {},
   "outputs": [],
   "source": [
    "## pass \n",
    "# A Loop inside a loop .\n",
    "\n",
    "for i in range(5):\n",
    "    if i==3: #\n",
    "        pass # Even when i == 3, the pass does nothing, so print(i) still runs.\n",
    "    print(i)\n",
    "\n",
    "# 🪞 What’s this mysterious 'pass'?\n",
    "# It’s basically a placeholder. It tells Python:\n",
    "# “Hey, there’s nothing to do here, but don’t break the code.”\n",
    "\n",
    "# 💡 Why use pass?\n",
    "# - You’re planning to add something later but want to keep the structure.\n",
    "# - You need a placeholder in an empty block so Python doesn’t complain.\n",
    "\n"
   ]
  },
  {
   "cell_type": "code",
   "execution_count": null,
   "id": "c815bf6f",
   "metadata": {},
   "outputs": [
    {
     "name": "stdout",
     "output_type": "stream",
     "text": [
      "i:0 and j:0\n",
      "i:0 and j:1\n",
      "i:1 and j:0\n",
      "i:1 and j:1\n",
      "i:2 and j:0\n",
      "i:2 and j:1\n"
     ]
    }
   ],
   "source": [
    "\n",
    "## Nested loopss\n",
    "## a loop inside a loop\n",
    "\n",
    "for i in range(3):\n",
    "    for j in range(2):\n",
    "        print(f\"i:{i} and j:{j}\")# The f before the quotes makes the string dynamic.\n",
    "# Without it, you'd just see the literal text: \"i:{i} and j:{j}\" printed every time.\n",
    "# With it, Python knows to evaluate i and j and put their actual values inside the string\n",
    "\n",
    "    \n",
    "# 🔁 Outer loop:\n",
    "# This starts a loop where i takes on values from 0 to 2.\n",
    "\n",
    "# 🔁 Inner loop:\n",
    "# For each value of i, this loop makes j go from 0 to 1.\n",
    "# So every time the outer loop runs, this inner loop runs twice.\n",
    "\n",
    "# 💬 Print statement with f magic:\n",
    "# This is using something called an f-string, short for \"formatted string.\"\n",
    "# It lets you inject variables directly inside a string using curly braces {}.\n",
    "# So, for example:\n",
    "# - When i = 0 and j = 0, this prints: i:0 and j:0\n",
    "# - When i = 0 and j = 1, it prints: i:0 and j:1\n",
    "# - Then i becomes 1, and the inner loop does the same, printing:\n",
    "# - i:1 and j:0\n",
    "# - i:1 and j:1\n",
    "# And so on.\n",
    "\n"
   ]
  },
  {
   "cell_type": "code",
   "execution_count": null,
   "id": "d3dfa251",
   "metadata": {},
   "outputs": [
    {
     "name": "stdout",
     "output_type": "stream",
     "text": [
      "Sum of first 10 Natural Numbers: 55\n"
     ]
    }
   ],
   "source": [
    "## Examples- Calculate the sum of first N natural numbers using a while and for loop\n",
    "\n",
    "## while loop  \n",
    "\n",
    "n=10;\n",
    "sum=0;\n",
    "count=1;\n",
    "\n",
    "while count<=n:\n",
    "    sum=sum+count\n",
    "    count=count+1\n",
    "\n",
    "print(\"Sum of first 10 Natural Numbers:\", sum)\n",
    "\n",
    "# 1st: n = 10\n",
    "# 👉 You're telling Python, \"We go up to 10. That’s our limit.\"\n",
    "# 2nd: sum = 0\n",
    "# 👉 Start with a clean slate. Nothing added yet. Total sum is zero.\n",
    "# 3rd: count = 1\n",
    "# 👉 Start counting from 1. Because we’re summing natural numbers.\n",
    "# 4th: while count <= n:\n",
    "# 👉 Loop begins. This thing keeps going as long as count is ≤ 10.\n",
    "# 5th: sum = sum + count\n",
    "# 👉 Here’s where action happens.\n",
    "# First round: sum = 0 + 1 = 1\n",
    "# Next: sum = 1 + 2 = 3\n",
    "# Then: sum = 3 + 3 = 6\n",
    "# And so on, until it hits 10.\n",
    "# 6th:  for every round from above we do this : count = count + 1 and then move to the next round,\n",
    "# 👉 Add one to count every loop so you're not stuck in infinity. You climb from 1 → 2 → 3 ... → 10.\n",
    "# 7th: Loop condition fails when count = 11\n",
    "# 👉 Boom, count is now greater than n, so Python pulls the plug and exits the loop.\n",
    "# 8th: print(\"Sum of first 10 Natural Numbers:\", sum)\n",
    "# 👉 Spits out the final result — after all that climbing, the sum lands at 55.\n"
   ]
  },
  {
   "cell_type": "code",
   "execution_count": null,
   "id": "2ca03c74",
   "metadata": {},
   "outputs": [
    {
     "name": "stdout",
     "output_type": "stream",
     "text": [
      "The sum of First 10 Natural numbers is : 55\n"
     ]
    }
   ],
   "source": [
    "# Doing the same qts using the for loop .\n",
    "sum=0;\n",
    "for i in range(11):\n",
    "    sum=sum+i\n",
    "\n",
    "print(\"The sum of First 10 Natural numbers is :\", sum)\n",
    "\n",
    "# We start with sum = 0, an empty container. Then, we loop through numbers from 0 to 10 using range(11). In each step, we add the current number i to sum. By the end, sum holds the total: 55.\n"
   ]
  },
  {
   "cell_type": "code",
   "execution_count": null,
   "id": "0139ff6c",
   "metadata": {},
   "outputs": [
    {
     "name": "stdout",
     "output_type": "stream",
     "text": [
      "2\n",
      "3\n",
      "5\n",
      "7\n",
      "11\n",
      "13\n",
      "17\n",
      "19\n",
      "23\n",
      "29\n",
      "31\n",
      "37\n",
      "41\n",
      "43\n",
      "47\n",
      "53\n",
      "59\n",
      "61\n",
      "67\n",
      "71\n",
      "73\n",
      "79\n",
      "83\n",
      "89\n",
      "97\n"
     ]
    }
   ],
   "source": [
    "# Example - Prime numbers between 1 and 100\n",
    "\n",
    "for num in range (1,101):\n",
    "    if num>1:\n",
    "        for i in range(2,num):\n",
    "            if num%i==0:\n",
    "                break\n",
    "        else:\n",
    "            print(num)\n",
    "\n",
    "\n",
    "# - Step 1: Going through numbers one by one We start with number 1 and go all the way up to 100, checking each one to see if it’s prime. This is done with something called a loop.\n",
    "# - Step 2: Skip the number 1 The code says “if number is greater than 1,” because 1 is not considered a prime number in mathematics.\n",
    "# - Step 3: Check if the number is divisible by other smaller numbers For each number (like 7, for example), we try dividing it by every number smaller than it, starting from 2. For 7, we try 2, 3, 4, 5, and 6.\n",
    "# - Step 4: Use a “nested loop” to test each small number This second loop (inside the first one) is called a nested loop. It helps us go through all the smaller numbers to see if any of them divide evenly into the number we're checking. If the number can be divided by another number without a leftover, it’s not prime — so we stop checking.\n",
    "# - Step 5: Use an \"if condition\" to check for even division We use an if statement to ask: “Does this number divide perfectly?” If yes (meaning no remainder is left), that number is not prime, and we stop the checking.\n",
    "# - Step 6: If the checking finishes without finding any division If none of the smaller numbers divide the number perfectly, that means it’s a prime number. The code then prints that number.\n",
    "# - Step 7: The use of \"else\" after the loop The else statement here is special — it is linked to the loop itself. It only runs if the loop never breaks (i.e., we didn’t find any number that divides the main number). In that case, the number is prime and gets printed\n",
    "\n",
    "            \n"
   ]
  },
  {
   "cell_type": "markdown",
   "id": "7c6b5874",
   "metadata": {},
   "source": [
    "**Conclusion:**\n",
    "\n",
    "Loops are powerful constructs in Python that allow you to execute a block of code multiple times. By understanding and using for and while loops, along with loop control statements like break, continue, and pass, you can handle a wide range of programming tasks efficiently."
   ]
  }
 ],
 "metadata": {
  "kernelspec": {
   "display_name": "Python 3",
   "language": "python",
   "name": "python3"
  },
  "language_info": {
   "codemirror_mode": {
    "name": "ipython",
    "version": 3
   },
   "file_extension": ".py",
   "mimetype": "text/x-python",
   "name": "python",
   "nbconvert_exporter": "python",
   "pygments_lexer": "ipython3",
   "version": "3.12.0"
  }
 },
 "nbformat": 4,
 "nbformat_minor": 5
}
