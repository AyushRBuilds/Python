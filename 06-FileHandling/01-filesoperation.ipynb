{
 "cells": [
  {
   "cell_type": "markdown",
   "id": "2c096ebf",
   "metadata": {},
   "source": [
    "\n",
    "**File Operation- Read And Write Files**\n",
    "\n",
    "File handling is a crucial part of any programming language. Python provides built-in functions and methods to read from and write to files, both text and binary. This lesson will cover the basics of file handling, including reading and writing text files and binary files."
   ]
  },
  {
   "cell_type": "code",
   "execution_count": 5,
   "id": "a89f45cc",
   "metadata": {},
   "outputs": [
    {
     "name": "stdout",
     "output_type": "stream",
     "text": [
      "Hi ! Ayush Here !\n",
      "Wanna Explore ?\n",
      "Come dive with me in the river of file Handling.\n"
     ]
    }
   ],
   "source": [
    "# READ A WHOLE FILE.\n",
    "\n",
    "with open('example.txt','r') as file:\n",
    "    content=file.read()\n",
    "    print(content)\n",
    "\n",
    "\n",
    "\n",
    "# 1️⃣ open() Basics\n",
    "# open(filename, mode) opens a file:\n",
    "\n",
    "# Mode\tMeaning\n",
    "# 'r' =>\tRead (error if file doesn’t exist)\n",
    "# 'w' =>\tWrite (creates file, overwrites old content)\n",
    "# 'a' =>\tAppend (creates file, adds to end)\n",
    "# 'rb' =>\tRead binary\n",
    "# Here we used 'r' → read-only.\n",
    "\n",
    "# 2️⃣ The with Statement\n",
    "# with open(...) as ...:\n",
    "# Opens the file\n",
    "# Closes it automatically when done (no need for file.close())\n",
    "\n",
    "# 3️⃣ Reading the Entire File\n",
    "# .read() → reads the entire file as one string.which gets stored in variable => 'content'.\n",
    "\n",
    "\n",
    "# ⚠️ What if the file doesn’t exist?\n",
    "# If 'example.txt' isn’t already created, using 'r' will give:\n",
    "# this below is get as an error :\n",
    "# ''' FileNotFoundError: [Errno 2] No such file or directory: 'example.txt' '''"
   ]
  },
  {
   "cell_type": "code",
   "execution_count": 11,
   "id": "841dbce0",
   "metadata": {},
   "outputs": [
    {
     "name": "stdout",
     "output_type": "stream",
     "text": [
      "Hi ! Ayush Here !\n",
      "Wanna Explore ?\n",
      "Come dive with me in the river of file Handling.\n"
     ]
    }
   ],
   "source": [
    "# read a file line by line \n",
    "with open('example.txt', 'r') as file:\n",
    "    for line in file:\n",
    "        #print(line)## Only this syntax gives output with the newline character between them.\n",
    "        print(line.strip())\n",
    "        \n",
    "#  What line.strip() Does ?\n",
    "# The .strip() method is used to remove leading and trailing whitespace characters from a string. That includes:\n",
    "# - Spaces (' ')\n",
    "# - Tabs ('\\t')\n",
    "# - Newlines ('\\n', '\\r')\n",
    "# It does not remove characters from the middle of the string.\n",
    "\n",
    "\n",
    "\n",
    " "
   ]
  },
  {
   "cell_type": "code",
   "execution_count": null,
   "id": "e576cde6",
   "metadata": {},
   "outputs": [],
   "source": [
    "## Writing a file(overwriting) :\n",
    "with open('example.txt','w') as file:\n",
    "    file.write('hello World\\n')\n",
    "    file.write('This is new line overwrited other.\\n')\n",
    "\n",
    "\n",
    "    # What is actually Happening ?\n",
    "#     with open('example.txt','w') as file:\n",
    "# → Opens a file named example.txt in write mode ('w').\n",
    "# → If the file already exists, all its old content is erased immediately.\n",
    "# → If the file doesn’t exist, Python creates it.\n",
    "# → The with statement ensures the file is automatically closed when the block ends.\n",
    "# → file here is the variable that will be used to interact with the opened file.\n",
    "\n",
    "# file.write('hello World\\n')\n",
    "# → Writes the text \"hello World\" followed by a newline character (\\n) into the file.\n",
    "# → The newline means the next write will start on a new line.\n",
    "\n",
    "# file.write('This is new line overwrited other.\\n')\n",
    "# → Writes the text \"This is new line overwrited other.\" followed by another newline character.\n",
    "# → Since we are in write mode, only the text written inside this block will exist in the file — any old text is gone."
   ]
  },
  {
   "cell_type": "code",
   "execution_count": null,
   "id": "a631ed49",
   "metadata": {},
   "outputs": [],
   "source": [
    "##  if we wanted to write in file without Overwriting.\n",
    "with open('example.txt','a') as file :\n",
    "    file.write('Append operation taking place.\\n')\n",
    "with open('example.txt','a') as file :\n",
    "# → Opens example.txt in append mode ('a').\n",
    "# → If the file exists, new text will be added at the end without removing old content.\n",
    "# → If the file doesn’t exist, Python creates it.\n",
    "# → with ensures the file closes automatically when done.\n"
   ]
  },
  {
   "cell_type": "code",
   "execution_count": null,
   "id": "1485cc48",
   "metadata": {},
   "outputs": [],
   "source": [
    "## Writing a list of lines to a file.\n",
    "lines = ['first line\\n','Second line \\n' ,'Third line\\n']\n",
    "with open('example.txt','a') as file:\n",
    "    file.writelines(lines)  # → Writes each string from the lines list into the file exactly as they are.\n",
    "\n"
   ]
  },
  {
   "cell_type": "code",
   "execution_count": null,
   "id": "f8b87e3c",
   "metadata": {},
   "outputs": [],
   "source": [
    "### Binary Files.\n",
    "\n",
    "# Writing to a binary file.\n",
    "data = b'\\x00\\x01\\x02\\x03\\x04'\n",
    "with open('example.bin' ,'wb') as file:\n",
    "    file.write(data)\n",
    "\n",
    "\n",
    "\n",
    "# data = b'\\x00\\x01\\x02\\x03\\x04'\n",
    "# → Creates a variable named data.\n",
    "# → The b prefix tells Python this is a bytes object instead of normal text.\n",
    "# → \\x00, \\x01, \\x02, \\x03, \\x04 are hexadecimal byte values, representing decimal values 0, 1, 2, 3, and 4.\n",
    "# → This is raw binary information — not human-readable text.\n",
    "\n",
    "# with open('example.bin', 'wb') as file:\n",
    "# → Opens (or creates) a file called example.bin.\n",
    "# → 'w' means write mode — any existing content will be erased before writing.\n",
    "# → 'b' means binary mode — the file will handle raw bytes instead of text.\n",
    "# → The with statement ensures the file will be automatically closed after the block finishes, even if an error happens.\n",
    "# → file is the variable name representing the opened file object.\n",
    "\n",
    "# file.write(data)\n",
    "# → Writes the bytes stored in data directly into the file.\n",
    "    "
   ]
  },
  {
   "cell_type": "code",
   "execution_count": null,
   "id": "8e1b59ab",
   "metadata": {},
   "outputs": [
    {
     "name": "stdout",
     "output_type": "stream",
     "text": [
      "b'\\x00\\x01\\x02\\x03\\x04'\n"
     ]
    }
   ],
   "source": [
    "# Reading a binary file\n",
    "\n",
    "with open('example.bin' , 'rb') as file:\n",
    "    content=file.read()\n",
    "    print(content)\n",
    "\n",
    "\n",
    "#  with open('example.bin', 'rb') as file:\n",
    "# → Opens the file named example.bin.\n",
    "# → 'r' means read mode — we’re opening the file to read its contents.\n",
    "# → 'b' means binary mode — the file will be read as raw bytes, not text.\n",
    "# → Using with ensures the file will be automatically closed once the block ends.\n",
    "# → file is the variable name representing the opened binary file object.\n",
    "\n",
    "# content = file.read()\n",
    "# → Reads the entire file into the variable content.\n",
    "# → Since we are in binary mode, content will be a bytes object (not a string).\n",
    "# → All bytes from the file are read in the exact order they appear.\n",
    "\n",
    "# print(content)\n",
    "# → Displays the content variable.\n",
    "# → Python will show it in bytes representation, for example:\n",
    "# b'\\x00\\x01\\x02\\x03\\x04'"
   ]
  },
  {
   "cell_type": "code",
   "execution_count": null,
   "id": "85253cee",
   "metadata": {},
   "outputs": [],
   "source": [
    "## Read the content from a text file and write to a destination text file.\n",
    "# Copying a text file\n",
    "with open('example.txt' , 'r') as source_file:\n",
    "    content = source_file.read()\n",
    "\n",
    "with open('destination.txt' ,'w') as destination_file:\n",
    "    destination_file.write(content)\n",
    "\n",
    "\n",
    "    # The basic purpose of this code is to copy the contents of one text file (example.txt) into another file (destination.txt)."
   ]
  },
  {
   "cell_type": "code",
   "execution_count": null,
   "id": "9956c58e",
   "metadata": {},
   "outputs": [],
   "source": [
    "\n",
    "### Writing and then reading a file\n",
    "\n",
    "with open('example.txt','w+') as file:\n",
    "    file.write(\"Hello world\\n\")\n",
    "    file.write(\"This is a new line \\n\")\n",
    "\n",
    "    ## Move the file cursor to the beginning\n",
    "    file.seek(0)\n",
    "\n",
    "    ## Read the content of the file\n",
    "    content=file.read()\n",
    "    print(content)\n",
    "\n",
    "\n",
    "\n",
    "#     with open('example.txt', 'w+') as file:\n",
    "# → Opens (or creates) example.txt in write and read mode (w+).\n",
    "# → 'w' means write — any existing content is erased immediately.\n",
    "# → '+' means you can also read from the same file.\n",
    "# → The file is opened in text mode by default.\n",
    "# → The with statement ensures the file is closed automatically at the end.\n",
    "# → file is the variable representing the opened file object.\n",
    "\n",
    "# file.write(\"Hello world\\n\")\n",
    "# → Writes the string \"Hello world\" followed by a newline (\\n) to the file.\n",
    "\n",
    "# file.write(\"This is a new line \\n\")\n",
    "# → Writes another string, \"This is a new line\", followed by a newline, to the file.\n",
    "\n",
    "# ## Move the file cursor to the beginning\n",
    "# → This is a comment explaining that the next line will reposition the file pointer to the start.\n",
    "\n",
    "# file.seek(0)\n",
    "# → Moves the file’s cursor (pointer) to position 0 — the very beginning.\n",
    "# → This is necessary because after writing, the cursor is at the end of the file, and reading from there would return nothing.\n",
    "\n",
    "# ## Read the content of the file\n",
    "# → Comment explaining the next step is to read all text from the file.\n",
    "\n",
    "# content = file.read()\n",
    "# → Reads the entire file from the current cursor position (which is now the start).\n",
    "# → Stores the text in the variable content.\n",
    "\n",
    "# print(content)\n",
    "# → Prints the file’s content to the screen."
   ]
  },
  {
   "cell_type": "code",
   "execution_count": null,
   "id": "180da64c",
   "metadata": {},
   "outputs": [],
   "source": [
    "\n",
    "#Read a text file and count the number of lines, words, and characters.\n",
    "# Counting lines, words, and characters in a text file\n",
    "def count_text_file(file_path):\n",
    "    with open(file_path, 'r') as file:\n",
    "        lines = file.readlines()\n",
    "        line_count = len(lines)\n",
    "        word_count = sum(len(line.split()) for line in lines)\n",
    "        char_count = sum(len(line) for line in lines)\n",
    "    return line_count, word_count, char_count\n",
    "\n",
    "file_path = 'example.txt'\n",
    "lines, words, characters = count_text_file(file_path)\n",
    "print(f'Lines: {lines}, Words: {words}, Characters: {characters}')"
   ]
  }
 ],
 "metadata": {
  "kernelspec": {
   "display_name": "Python 3",
   "language": "python",
   "name": "python3"
  },
  "language_info": {
   "codemirror_mode": {
    "name": "ipython",
    "version": 3
   },
   "file_extension": ".py",
   "mimetype": "text/x-python",
   "name": "python",
   "nbconvert_exporter": "python",
   "pygments_lexer": "ipython3",
   "version": "3.12.0"
  }
 },
 "nbformat": 4,
 "nbformat_minor": 5
}
