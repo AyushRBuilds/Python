{
 "cells": [
  {
   "cell_type": "markdown",
   "id": "af0c7e00",
   "metadata": {},
   "source": [
    "\n",
    "**Working With File Paths**\n",
    "\n",
    "When working with files in Python, handling file paths correctly is crucial to ensure your code works across different operating systems and environments. Python provides several modules and functions for working with file paths effectively."
   ]
  },
  {
   "cell_type": "code",
   "execution_count": 1,
   "id": "2da6c285",
   "metadata": {},
   "outputs": [
    {
     "name": "stdout",
     "output_type": "stream",
     "text": [
      "Current Working Directory:c:\\Users\\ACER NITRO V 15\\OneDrive\\Desktop\\CODING\\Python\\06-FileHandling\n"
     ]
    }
   ],
   "source": [
    "## Using the OS module.\n",
    "\n",
    "import os\n",
    "cwd =os.getcwd()\n",
    "print(f\"Current Working Directory:{cwd}\")"
   ]
  },
  {
   "cell_type": "code",
   "execution_count": 2,
   "id": "1b812168",
   "metadata": {},
   "outputs": [
    {
     "name": "stdout",
     "output_type": "stream",
     "text": [
      "Directory 'package' created\n"
     ]
    }
   ],
   "source": [
    "## Create a new directory.\n",
    "new_dir = \"package\"\n",
    "os.mkdir(new_dir)\n",
    "print(f\"Directory '{new_dir}' created\")\n"
   ]
  },
  {
   "cell_type": "code",
   "execution_count": null,
   "id": "fe3d6115",
   "metadata": {},
   "outputs": [
    {
     "name": "stdout",
     "output_type": "stream",
     "text": [
      "['01-filesoperation.ipynb', '02-filepaths.ipynb', 'destination.txt', 'example.bin', 'example.txt', 'package']\n"
     ]
    }
   ],
   "source": [
    "## Listing FIles and Directories.\n",
    "items=os.listdir('.') ## Dot specifies that list dir from the PWD/CWD.\n",
    "print(items)"
   ]
  },
  {
   "cell_type": "code",
   "execution_count": null,
   "id": "c1ac12e6",
   "metadata": {},
   "outputs": [
    {
     "name": "stdout",
     "output_type": "stream",
     "text": [
      "folder\\file.txt\n"
     ]
    }
   ],
   "source": [
    "### Joining Paths.\n",
    "\n",
    "dir_name ='folder'\n",
    "file_Name='file.txt'\n",
    "full_path =os.path.join(dir_name,file_Name) # - Uses os.path.join() to combine the directory and file name into a complete file path.\n",
    "print(full_path)"
   ]
  },
  {
   "cell_type": "code",
   "execution_count": null,
   "id": "85272c55",
   "metadata": {},
   "outputs": [
    {
     "name": "stdout",
     "output_type": "stream",
     "text": [
      "c:\\Users\\ACER NITRO V 15\\OneDrive\\Desktop\\CODING\\Python\\06-FileHandling\\folder\\file.txt\n"
     ]
    }
   ],
   "source": [
    "dir_name ='folder'\n",
    "file_Name='file.txt'\n",
    "full_path = os.path.join(os.getcwd(),dir_name,file_Name) ## in here we also make sure we join the CWD and then those new files like we did above .\n",
    "print(full_path)"
   ]
  },
  {
   "cell_type": "code",
   "execution_count": 7,
   "id": "657da195",
   "metadata": {},
   "outputs": [
    {
     "name": "stdout",
     "output_type": "stream",
     "text": [
      "The Path 'example.txt is a file.\n"
     ]
    }
   ],
   "source": [
    "\n",
    "# Checking if a path is a file or directory\n",
    "import os\n",
    "\n",
    "path='example.txt'\n",
    "if os.path.isfile(path):\n",
    "    print(f\"The Path '{path} is a file.\")\n",
    "elif os.path.isdir(path):\n",
    "    print(f\"The Path '{path} is a directory.\")\n",
    "else:\n",
    "    print(f\"The Path '{path} is neither a file nor a directory.\")"
   ]
  },
  {
   "cell_type": "code",
   "execution_count": 9,
   "id": "58df3ee2",
   "metadata": {},
   "outputs": [
    {
     "name": "stdout",
     "output_type": "stream",
     "text": [
      "The path 'example.txt' exists.\n"
     ]
    }
   ],
   "source": [
    "path='example.txt'\n",
    "if os.path.exists(path):\n",
    "    print(f\"The path '{path}' exists.\")\n",
    "else:\n",
    "    print(f\"The path '{path}'  doesn't exists.\")"
   ]
  },
  {
   "cell_type": "code",
   "execution_count": 11,
   "id": "a47492c5",
   "metadata": {},
   "outputs": [
    {
     "name": "stdout",
     "output_type": "stream",
     "text": [
      "c:\\Users\\ACER NITRO V 15\\OneDrive\\Desktop\\CODING\\Python\\06-FileHandling\\example.txt\n"
     ]
    }
   ],
   "source": [
    "## Getting The absolute Path.\n",
    "relative_path ='example.txt'\n",
    "absolute_path = os.path.abspath(relative_path) \n",
    "# This converts the relative path into an absolute path, which is the full path from the root of the file system to the file just as we did above with os.path.join()\n",
    "print(absolute_path)"
   ]
  },
  {
   "cell_type": "code",
   "execution_count": null,
   "id": "8160f21f",
   "metadata": {},
   "outputs": [],
   "source": []
  }
 ],
 "metadata": {
  "kernelspec": {
   "display_name": "Python 3",
   "language": "python",
   "name": "python3"
  },
  "language_info": {
   "codemirror_mode": {
    "name": "ipython",
    "version": 3
   },
   "file_extension": ".py",
   "mimetype": "text/x-python",
   "name": "python",
   "nbconvert_exporter": "python",
   "pygments_lexer": "ipython3",
   "version": "3.12.0"
  }
 },
 "nbformat": 4,
 "nbformat_minor": 5
}
