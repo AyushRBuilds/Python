{
 "cells": [
  {
   "cell_type": "markdown",
   "id": "b1209281",
   "metadata": {},
   "source": [
    "**DATATYPES**\n",
    "\n",
    "- Basic.\n",
    "  - int\n",
    "  - float\n",
    "  - Boolean\n",
    "  - String\n",
    "\n",
    "- Advanced \n",
    "  - Lists\n",
    "  - Tuples\n",
    "  - sets\n",
    "  - Dictionaries\n",
    "\n",
    "\n",
    "**IMP OF DATATYPES**\n",
    "\n",
    "- Ensures that data is stored in effiecient way.\n",
    "- They help in performing correct operators on data.\n",
    "- proper use of them can prevent errors and bugs.\n",
    "- and also for memory management."
   ]
  },
  {
   "cell_type": "code",
   "execution_count": null,
   "id": "2133d351",
   "metadata": {},
   "outputs": [
    {
     "ename": "TypeError",
     "evalue": "can only concatenate str (not \"int\") to str",
     "output_type": "error",
     "traceback": [
      "\u001b[31m---------------------------------------------------------------------------\u001b[39m",
      "\u001b[31mTypeError\u001b[39m                                 Traceback (most recent call last)",
      "\u001b[36mCell\u001b[39m\u001b[36m \u001b[39m\u001b[32mIn[1]\u001b[39m\u001b[32m, line 3\u001b[39m\n\u001b[32m      1\u001b[39m str1 = \u001b[33m\"\u001b[39m\u001b[33mayush\u001b[39m\u001b[33m\"\u001b[39m\n\u001b[32m      2\u001b[39m var = \u001b[32m23\u001b[39m\n\u001b[32m----> \u001b[39m\u001b[32m3\u001b[39m \u001b[38;5;28mprint\u001b[39m(\u001b[43mstr1\u001b[49m\u001b[43m \u001b[49m\u001b[43m+\u001b[49m\u001b[43m \u001b[49m\u001b[43mvar\u001b[49m )\n",
      "\u001b[31mTypeError\u001b[39m: can only concatenate str (not \"int\") to str"
     ]
    }
   ],
   "source": [
    "str1 = \"ayush\"\n",
    "var = 23\n",
    "print(str1 + var ) # Can not cponcatenate str to int ."
   ]
  },
  {
   "cell_type": "code",
   "execution_count": null,
   "id": "9d01024d",
   "metadata": {},
   "outputs": [
    {
     "name": "stdout",
     "output_type": "stream",
     "text": [
      "ayush16\n",
      "Samarth12\n"
     ]
    }
   ],
   "source": [
    "# BUt look here .\n",
    "str2 = \"ayush\"\n",
    "var1 = \"16\"\n",
    "print(str2 + var1) # here it worked becoz we so concatenate strings even though one of them is integer . this was possible because of typecastoing well in here we didn't use the type casting we just assign the var1 intially with the str .but look down \n",
    "\n",
    "str3 =\"Samarth\"\n",
    "var2 = 12\n",
    "print(str3 + str(var2)) # LOOK here we typecasted it at the last moment rathere then assigning it into string ."
   ]
  },
  {
   "cell_type": "markdown",
   "id": "00604904",
   "metadata": {},
   "source": [
    "### Operators\n",
    " - Addition => '+'\n",
    " - Suntraction => '-'\n",
    " - Multiplication => '*'\n",
    " - Divison => '/'\n",
    " - Floor _ divison => '//'\n",
    " - modulus/Remainder => '%'\n",
    " - exponential/Power => '**'\n",
    "\n",
    " **DIFF BETWN DIV AND FLOOR_DIV**\n",
    "  \n"
   ]
  },
  {
   "cell_type": "code",
   "execution_count": 8,
   "id": "42ba7b30",
   "metadata": {},
   "outputs": [
    {
     "name": "stdout",
     "output_type": "stream",
     "text": [
      "3.6\n",
      "3\n"
     ]
    }
   ],
   "source": [
    "a = 18;\n",
    "b = 5;\n",
    "\n",
    "print(a/b) # gives the float values as well .\n",
    "print(a//b) # gives the integer only even the ans in real is float it does convert it into the integer just before the value ; remember here round figure doesn't takes place here ."
   ]
  },
  {
   "cell_type": "markdown",
   "id": "97f551ba",
   "metadata": {},
   "source": [
    "## Comparison Operators.\n",
    "\n",
    "1. == (Equal to)\n",
    "\n",
    "2. != (Not equal to)\n",
    "\n",
    "3. < , > (Less than , greater than)\n",
    "\n",
    "4. >= () (greater than OR equal to)\n",
    "\n",
    "5. <= () (Less than OR equal to)\n",
    "\n",
    "**NOTE** => All of the Above Operators returns the BOOLEAN Value .\n"
   ]
  },
  {
   "cell_type": "markdown",
   "id": "6a5f2994",
   "metadata": {},
   "source": [
    "## Logical Operators.\n",
    "\n",
    " - And => 'and' \n",
    " - OR => 'or'\n",
    " - NOT => 'not'"
   ]
  },
  {
   "cell_type": "code",
   "execution_count": null,
   "id": "3d68aae0",
   "metadata": {},
   "outputs": [
    {
     "name": "stdout",
     "output_type": "stream",
     "text": [
      "False\n",
      "True\n",
      "False\n"
     ]
    }
   ],
   "source": [
    "num1 = True\n",
    "num2= False \n",
    "\n",
    "print(num1 and num2) # For And operator Both should be True ,to returns the True.\n",
    "print(num1 or num2) # For Or Operator Anyone among both should be True .\n",
    "print(not num1) # Not Operator just inverse the boolean value of the succeding variable ."
   ]
  }
 ],
 "metadata": {
  "kernelspec": {
   "display_name": "Python 3",
   "language": "python",
   "name": "python3"
  },
  "language_info": {
   "codemirror_mode": {
    "name": "ipython",
    "version": 3
   },
   "file_extension": ".py",
   "mimetype": "text/x-python",
   "name": "python",
   "nbconvert_exporter": "python",
   "pygments_lexer": "ipython3",
   "version": "3.12.0"
  }
 },
 "nbformat": 4,
 "nbformat_minor": 5
}
