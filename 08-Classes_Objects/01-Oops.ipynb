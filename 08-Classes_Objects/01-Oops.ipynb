{
 "cells": [
  {
   "cell_type": "markdown",
   "id": "c6b363c5",
   "metadata": {},
   "source": [
    "**Classes and Objects.**\n",
    "\n",
    "Object-Oriented Programming (OOP) is a programming paradigm that uses \"objects\" to design applications and computer programs. OOP allows for modeling real-world scenarios using classes and objects. This lesson covers the basics of creating classes and objects, including instance variables and methods.\n",
    "\n"
   ]
  },
  {
   "cell_type": "code",
   "execution_count": 3,
   "id": "a04ef4fa",
   "metadata": {},
   "outputs": [
    {
     "name": "stdout",
     "output_type": "stream",
     "text": [
      "<class '__main__.Car'>\n",
      "<__main__.Car object at 0x0000024FED916FF0>\n"
     ]
    }
   ],
   "source": [
    "# A Class is a blue print for creating objects,attributes,methods.\n",
    "\n",
    "class Car:\n",
    "    pass\n",
    "\n",
    "audi=Car()\n",
    "BMW=Car()\n",
    "\n",
    "print(type(audi))\n",
    "print(BMW)\n",
    "    "
   ]
  },
  {
   "cell_type": "code",
   "execution_count": 4,
   "id": "f6572836",
   "metadata": {},
   "outputs": [
    {
     "name": "stdout",
     "output_type": "stream",
     "text": [
      "4\n"
     ]
    }
   ],
   "source": [
    "audi.windows=4\n",
    "print(audi.windows)"
   ]
  },
  {
   "cell_type": "code",
   "execution_count": 6,
   "id": "dd9012db",
   "metadata": {},
   "outputs": [
    {
     "ename": "AttributeError",
     "evalue": "'Car' object has no attribute 'windows'",
     "output_type": "error",
     "traceback": [
      "\u001b[31m---------------------------------------------------------------------------\u001b[39m",
      "\u001b[31mAttributeError\u001b[39m                            Traceback (most recent call last)",
      "\u001b[36mCell\u001b[39m\u001b[36m \u001b[39m\u001b[32mIn[6]\u001b[39m\u001b[32m, line 3\u001b[39m\n\u001b[32m      1\u001b[39m tata=Car()\n\u001b[32m      2\u001b[39m tata.doors=\u001b[32m4\u001b[39m\n\u001b[32m----> \u001b[39m\u001b[32m3\u001b[39m \u001b[38;5;28mprint\u001b[39m(\u001b[43mtata\u001b[49m\u001b[43m.\u001b[49m\u001b[43mwindows\u001b[49m)\n",
      "\u001b[31mAttributeError\u001b[39m: 'Car' object has no attribute 'windows'"
     ]
    }
   ],
   "source": [
    "tata=Car()\n",
    "tata.doors=4\n",
    "print(tata.windows)"
   ]
  },
  {
   "cell_type": "code",
   "execution_count": 10,
   "id": "3e8a0740",
   "metadata": {},
   "outputs": [
    {
     "data": {
      "text/plain": [
       "['__class__',\n",
       " '__delattr__',\n",
       " '__dict__',\n",
       " '__dir__',\n",
       " '__doc__',\n",
       " '__eq__',\n",
       " '__format__',\n",
       " '__ge__',\n",
       " '__getattribute__',\n",
       " '__getstate__',\n",
       " '__gt__',\n",
       " '__hash__',\n",
       " '__init__',\n",
       " '__init_subclass__',\n",
       " '__le__',\n",
       " '__lt__',\n",
       " '__module__',\n",
       " '__ne__',\n",
       " '__new__',\n",
       " '__reduce__',\n",
       " '__reduce_ex__',\n",
       " '__repr__',\n",
       " '__setattr__',\n",
       " '__sizeof__',\n",
       " '__str__',\n",
       " '__subclasshook__',\n",
       " '__weakref__',\n",
       " 'doors']"
      ]
     },
     "execution_count": 10,
     "metadata": {},
     "output_type": "execute_result"
    }
   ],
   "source": [
    "dir(tata)\n",
    "\n",
    "# What dir(tata) Does\n",
    "# It lists all the attributes and methods available to the object tata, including:\n",
    "# - Built-in methods inherited from Python’s base object class (like __init__, __str__, __repr__, etc.)\n",
    "# - Custom attributes or methods you’ve defined in your class (like 'doors')\n",
    "\n",
    "\n"
   ]
  },
  {
   "cell_type": "code",
   "execution_count": 11,
   "id": "9ed7ac3f",
   "metadata": {},
   "outputs": [
    {
     "name": "stdout",
     "output_type": "stream",
     "text": [
      "<__main__.Dog object at 0x0000024FEDAC4260>\n",
      "Dolby\n",
      "3\n"
     ]
    }
   ],
   "source": [
    "# Instance variable and Methods.\n",
    "class Dog:\n",
    "    ## Constructor\n",
    "    def __init__(self,name,age):    # # Constructor method\n",
    "        self.name=name                # Instance variable\n",
    "        self.age=age                  # Instance variable\n",
    "\n",
    "## Create Objects\n",
    "dog1=Dog(\"Dolby\",3)                    # Creating an object\n",
    "print(dog1)                              # Default object representation\n",
    "print(dog1.name)                          # Accesing Attribute.\n",
    "print(dog1.age)                             # Accesing Attribute.\n",
    "    "
   ]
  },
  {
   "cell_type": "code",
   "execution_count": 12,
   "id": "f7c22fd3",
   "metadata": {},
   "outputs": [
    {
     "name": "stdout",
     "output_type": "stream",
     "text": [
      "<__main__.Dog object at 0x0000024FED987E00>\n",
      "Luka\n",
      "4\n"
     ]
    }
   ],
   "source": [
    "dog2=Dog(\"Luka\",4)\n",
    "print(dog2)\n",
    "print(dog2.name)\n",
    "print(dog2.age)"
   ]
  },
  {
   "cell_type": "code",
   "execution_count": 13,
   "id": "d8ea5d90",
   "metadata": {},
   "outputs": [
    {
     "name": "stdout",
     "output_type": "stream",
     "text": [
      "Dolby says Woof !\n",
      "Luka says Woof !\n"
     ]
    }
   ],
   "source": [
    "## Define a class with instance methods.\n",
    "\n",
    "class Dog:\n",
    "    def __init__(self,name,age):\n",
    "        self.name=name\n",
    "        self.age=age\n",
    "    \n",
    "    def bark(self):\n",
    "        print(f\"{self.name} says Woof !\")\n",
    "\n",
    "\n",
    "dog1=Dog(\"Dolby\",3)\n",
    "dog1.bark()\n",
    "dog2=Dog(\"Luka\",4)\n",
    "dog2.bark()"
   ]
  },
  {
   "cell_type": "code",
   "execution_count": 14,
   "id": "7348f879",
   "metadata": {},
   "outputs": [
    {
     "name": "stdout",
     "output_type": "stream",
     "text": [
      "10000\n"
     ]
    }
   ],
   "source": [
    "# Modeling a Bank account\n",
    "\n",
    "class BankAccount:\n",
    "    def __init__(self,owner,balance):\n",
    "        self.owner=owner\n",
    "        self.balance=balance\n",
    "\n",
    "    def deposit(self,amount):\n",
    "        self.balance+=amount\n",
    "        print(f\"{amount} is deposited .New current balance is {self.balance}\") \n",
    "\n",
    "\n",
    "    def WithDraw(self,amount):\n",
    "        if amount>self.balance:\n",
    "            print(\"insufficient Balance\")\n",
    "        else:\n",
    "            self.balance-=amount\n",
    "            print(f\"{amount} is Withdrawn . New Current Balance is {self.balance}\")\n",
    "\n",
    "\n",
    "    def  get_balance(self):\n",
    "        return self.balance\n",
    "    \n",
    "## Createan an account\n",
    "\n",
    "account = BankAccount(\"Avi\",10000)\n",
    "print(account.balance)"
   ]
  },
  {
   "cell_type": "code",
   "execution_count": 15,
   "id": "c2688d8f",
   "metadata": {},
   "outputs": [
    {
     "name": "stdout",
     "output_type": "stream",
     "text": [
      "500 is deposited .New current balance is 10500\n"
     ]
    }
   ],
   "source": [
    "# call instance methods.\n",
    "account.deposit(500)"
   ]
  },
  {
   "cell_type": "code",
   "execution_count": 16,
   "id": "24523caf",
   "metadata": {},
   "outputs": [
    {
     "name": "stdout",
     "output_type": "stream",
     "text": [
      "1500 is Withdrawn . New Current Balance is 9000\n"
     ]
    }
   ],
   "source": [
    "account.WithDraw(1500)"
   ]
  },
  {
   "cell_type": "code",
   "execution_count": 17,
   "id": "62cc8f4c",
   "metadata": {},
   "outputs": [
    {
     "name": "stdout",
     "output_type": "stream",
     "text": [
      "9000\n"
     ]
    }
   ],
   "source": [
    "print(account.get_balance())"
   ]
  },
  {
   "cell_type": "markdown",
   "id": "bb38416d",
   "metadata": {},
   "source": [
    "\n",
    "**Conclusion**\n",
    "\n",
    "Object-Oriented Programming (OOP) allows you to model real-world scenarios using classes and objects. In this lesson, you learned how to create classes and objects, define instance variables and methods, and use them to perform various operations. Understanding these concepts is fundamental to writing effective and maintainable Python code."
   ]
  }
 ],
 "metadata": {
  "kernelspec": {
   "display_name": "Python 3",
   "language": "python",
   "name": "python3"
  },
  "language_info": {
   "codemirror_mode": {
    "name": "ipython",
    "version": 3
   },
   "file_extension": ".py",
   "mimetype": "text/x-python",
   "name": "python",
   "nbconvert_exporter": "python",
   "pygments_lexer": "ipython3",
   "version": "3.12.0"
  }
 },
 "nbformat": 4,
 "nbformat_minor": 5
}
