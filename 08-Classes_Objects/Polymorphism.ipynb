{
 "cells": [
  {
   "cell_type": "markdown",
   "id": "e3541066",
   "metadata": {},
   "source": [
    "**Polymorphism**\n",
    "\n",
    "Polymorphism is a core concept in Object-Oriented Programming (OOP) that allows objects of different classes to be treated as objects of a common superclass. It provides a way to perform a single action in different forms. Polymorphism is typically achieved through method overriding and interfaces"
   ]
  },
  {
   "cell_type": "markdown",
   "id": "98243c12",
   "metadata": {},
   "source": [
    "\n",
    "##### Method Overriding\n",
    "Method overriding allows a child class to provide a specific implementation of a method that is already defined in its parent class."
   ]
  },
  {
   "cell_type": "code",
   "execution_count": null,
   "metadata": {},
   "outputs": [
    {
     "name": "stdout",
     "output_type": "stream",
     "text": [
      "Woof\n",
      "Meow\n",
      "Woof\n"
     ]
    }
   ],
   "source": [
    "# Base Class\n",
    "class Animal:\n",
    "    def speak(self):\n",
    "        return \"Sound of the Animal\"\n",
    "    \n",
    "# derived Class  1:\n",
    "class Dog(Animal):\n",
    "    def speak(self):\n",
    "        return \"Woof\"\n",
    "# derived Class  2:\n",
    "class Cat(Animal):\n",
    "    def speak(self):\n",
    "        return \"Meow\"\n",
    "    \n",
    "#Function that  demonstrates  polymorphism\n",
    "def animal_speak(animal):\n",
    "    print(animal.speak())\n",
    "\n",
    "\n",
    "dog=Dog()\n",
    "cat=Cat()\n",
    "print(dog.speak())\n",
    "print(cat.speak())\n",
    "animal_speak(dog)\n",
    "\n",
    "\n",
    "\n",
    "# 🐾 Base Class Setup\n",
    "# The Animal class defines a generic method called speak. This is like a placeholder—it represents the idea that all animals make sounds, but doesn’t specify which sound.\n",
    "# 🐶 Derived Classes Override Behavior\n",
    "# Two subclasses, Dog and Cat, inherit from Animal. Each one overrides the speak method to return a sound specific to that animal—“Woof” for dogs and “Meow” for cats. This is called method overriding, and it’s a key part of polymorphism.\n",
    "\n",
    "#  Polymorphic Function :\n",
    "\n",
    "# You have a function called animal_speak. Think of it like a host at a talent show. The host doesn’t care who walks on stage—as long as they’re an animal, they’ll ask them to perform their sound.\n",
    "# Now, you send in a Dog. The host says, “Speak!” and the Dog goes “Woof.”\n",
    "# Then you send in a Cat. The host says, “Speak!” and the Cat goes “Meow.”\n",
    "# Even though the host (your function) is using the same command—speak()—each animal responds in its own unique way. That’s runtime polymorphism: same function, different behavior depending on the object.\n",
    "\n",
    "\n",
    "# Polymorphism in Python:\n",
    "\n",
    "# Polymorphism is a feature in object-oriented programming that allows different classes to define methods with the same name, and lets you call those methods using a common interface, regardless of the object's actual class.\n",
    "# In Python, polymorphism typically works through method overriding in subclasses. When you call a method like speak() on an object, Python dynamically decides which version of the method to run based on the object’s class—this is called runtime polymorphism.\n",
    "\n",
    "\n"
   ]
  },
  {
   "cell_type": "code",
   "execution_count": 3,
   "metadata": {},
   "outputs": [
    {
     "name": "stdout",
     "output_type": "stream",
     "text": [
      "The Area is 20\n",
      "The Area is 78.5\n"
     ]
    }
   ],
   "source": [
    "# Polymorphism with Functions and Methods \n",
    "# base class\n",
    "class Shape:\n",
    "    def area(self):\n",
    "        return \"The Area of the figure\"\n",
    "\n",
    "# Derived class  1:\n",
    "class Rectangle(Shape):\n",
    "    def __init__(self,width,height):\n",
    "        self.width=width\n",
    "        self.height=height\n",
    "\n",
    "    def area(self):\n",
    "        return self.width*self.height\n",
    "    \n",
    "# Derived Class 2:\n",
    "\n",
    "class Circle(Shape):\n",
    "    def __init__(self, radius):\n",
    "        self.radius = radius\n",
    "\n",
    "    def area(self):\n",
    "        return 3.14 * (self.radius ** 2)\n",
    "\n",
    "# function that demonstrates Polymorphism :\n",
    "def print_area(shape):\n",
    "    print(f\"The Area is {shape.area()}\")\n",
    "\n",
    "rectangle = Rectangle(4, 5)\n",
    "circle = Circle(5)\n",
    "\n",
    "print_area(rectangle)\n",
    "print_area(circle)"
   ]
  },
  {
   "cell_type": "markdown",
   "id": "5ef87391",
   "metadata": {},
   "source": [
    "\n",
    "**Polymorphism with Abstract Base Classes**\n",
    "\n",
    "Abstract Base Classes (ABCs) are used to define common methods for a group of related objects. They can enforce that derived classes implement particular methods, promoting consistency across different implementations."
   ]
  },
  {
   "cell_type": "code",
   "execution_count": 5,
   "id": "312314a7",
   "metadata": {},
   "outputs": [
    {
     "name": "stdout",
     "output_type": "stream",
     "text": [
      "Motorcycle engine started\n"
     ]
    }
   ],
   "source": [
    "from abc import ABC , abstractmethod\n",
    "\n",
    "# Define an abstract class;\n",
    "class Vechicle(ABC):\n",
    "    @abstractmethod\n",
    "    def start_engine(self):\n",
    "        pass\n",
    "\n",
    "## derived class 1\n",
    "class  Car(Vechicle):\n",
    "    def start_engine(self):\n",
    "        return \"Car engine Started\"\n",
    "    \n",
    "# derived Class 2;\n",
    "class Motorcycle(Vechicle):\n",
    "    def start_engine(self):\n",
    "        return \"Motorcycle engine started\"\n",
    "    \n",
    "\n",
    "# Function that demonstrates Polymorphism\n",
    "def  start_vehicle(vehicle):\n",
    "    print(vehicle.start_engine())\n",
    "\n",
    "# Create objects of Car  and Motorcycle\n",
    "\n",
    "car=Car()\n",
    "motorcycle=Motorcycle()\n",
    "\n",
    "start_vehicle(motorcycle)"
   ]
  },
  {
   "cell_type": "markdown",
   "id": "aec3f19d",
   "metadata": {},
   "source": [
    "Step 1: Importing ABC and abstractmethod\n",
    "You’re bringing in tools from Python’s abc module.\n",
    "- ABC stands for Abstract Base Class.\n",
    "- abstractmethod is a decorator that marks a method as required—but without giving it any actual code.\n",
    "\n",
    "Step 2: Defining the abstract class Vehicle\n",
    "You create a class called Vehicle that inherits from ABC.\n",
    "Inside it, you define a method called start_engine using the @abstractmethod decorator.\n",
    "This means: every class that inherits from Vehicle must implement its own version of start_engine.\n",
    "You’re setting up a contract: “If you’re a Vehicle, you must know how to start your engine.”\n",
    "\n",
    "Step 3: Creating the Car class\n",
    "You define a class called Car that inherits from Vehicle.\n",
    "It provides its own version of start_engine, which returns the string “Car engine started.”\n",
    "This satisfies the abstract method requirement.\n",
    "\n",
    "Step 4: Creating the Motorcycle class\n",
    "Same idea as Car.\n",
    "You define a class called Motorcycle that also inherits from Vehicle.\n",
    "It overrides start_engine to return “Motorcycle engine started.”\n",
    "\n",
    "Step 5: Defining the start_vehicle function\n",
    "This function accepts any object that is a subclass of Vehicle.\n",
    "It calls the start_engine method on that object.\n",
    "This is where runtime polymorphism kicks in:\n",
    "Even though the function doesn’t know whether it’s dealing with a Car or Motorcycle, Python figures it out at runtime and calls the correct method.\n",
    "\n",
    "Step 6: Creating objects\n",
    "You create an object called car from the Car class.\n",
    "You create another object called motorcycle from the Motorcycle class.\n",
    "These are real instances—actual objects that follow the blueprint of their respective classes.\n",
    "\n",
    "Step 7: Calling start_vehicle(motorcycle)\n",
    "You pass the motorcycle object into the start_vehicle function.\n",
    "The function calls start_engine() on it.\n",
    "Since the object is a Motorcycle, Python runs the Motorcycle version of start_engine, and prints “Motorcycle engine started.”\n",
    "\n",
    "\n"
   ]
  },
  {
   "cell_type": "markdown",
   "id": "628d1ba4",
   "metadata": {},
   "source": [
    "\n",
    "**Conclusion**\n",
    "\n",
    "Polymorphism is a powerful feature of OOP that allows for flexibility and integration in code design. It enables a single function to handle objects of different classes, each with its own implementation of a method. By understanding and applying polymorphism, you can create more extensible and maintainable object-oriented programs."
   ]
  },
  {
   "cell_type": "code",
   "execution_count": null,
   "id": "2471e161",
   "metadata": {},
   "outputs": [],
   "source": []
  },
  {
   "cell_type": "code",
   "execution_count": null,
   "id": "3e140eca",
   "metadata": {},
   "outputs": [],
   "source": []
  }
 ],
 "metadata": {
  "kernelspec": {
   "display_name": "Python 3",
   "language": "python",
   "name": "python3"
  },
  "language_info": {
   "codemirror_mode": {
    "name": "ipython",
    "version": 3
   },
   "file_extension": ".py",
   "mimetype": "text/x-python",
   "name": "python",
   "nbconvert_exporter": "python",
   "pygments_lexer": "ipython3",
   "version": "3.12.0"
  }
 },
 "nbformat": 4,
 "nbformat_minor": 5
}
