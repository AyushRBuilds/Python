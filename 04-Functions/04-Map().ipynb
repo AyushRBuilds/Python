{
 "cells": [
  {
   "cell_type": "markdown",
   "id": "c90bd7f8",
   "metadata": {},
   "source": [
    "**The map() Function in Python**\n",
    "\n",
    "The map() function applies a given function to all items in an input list (or any other iterable) and returns a map object (an iterator). This is particularly useful for transforming data in a list comprehensively."
   ]
  },
  {
   "cell_type": "code",
   "execution_count": 2,
   "id": "8c918813",
   "metadata": {},
   "outputs": [
    {
     "data": {
      "text/plain": [
       "100"
      ]
     },
     "execution_count": 2,
     "metadata": {},
     "output_type": "execute_result"
    }
   ],
   "source": [
    "def square(x):\n",
    "    return x*x\n",
    "\n",
    "square(10)"
   ]
  },
  {
   "cell_type": "code",
   "execution_count": null,
   "id": "29da359a",
   "metadata": {},
   "outputs": [
    {
     "data": {
      "text/plain": [
       "[1, 4, 9, 16, 25, 36, 49, 64, 81, 100]"
      ]
     },
     "execution_count": 3,
     "metadata": {},
     "output_type": "execute_result"
    }
   ],
   "source": [
    "numbers = [1,2,3,4,5,6,7,8,9,10]\n",
    "\n",
    "list(map(square,numbers))  ## list(map(<function_name>, <iterable>))"
   ]
  },
  {
   "cell_type": "code",
   "execution_count": 5,
   "id": "6434d5e3",
   "metadata": {},
   "outputs": [
    {
     "name": "stdout",
     "output_type": "stream",
     "text": [
      "[5, 7, 9]\n"
     ]
    }
   ],
   "source": [
    "## Map Multiple iterables.\n",
    "\n",
    "numbers1=[1,2,3]\n",
    "numbers2 =[4,5,6]\n",
    "\n",
    "added_numbers = list(map(lambda x,y:x+y ,numbers1,numbers2))\n",
    "print(added_numbers)\n",
    "\n",
    "# result_list = list(map(lambda x, y: operation(x, y), list1, list2))\n",
    "#  Explanation of Components\n",
    "# - result_list → The final list after applying the operation.\n",
    "# - map() → Applies a function to elements from multiple iterables (like list1, list2).\n",
    "# - lambda x, y: operation(x, y) → Anonymous function that defines the operation (e.g., addition, subtraction).\n",
    "# - list1, list2 → Input lists of equal length.\n",
    "# - operation(x, y) → Any binary operation (e.g., x + y, x * y, x - y, max(x, y)).\n",
    "\n"
   ]
  },
  {
   "cell_type": "code",
   "execution_count": null,
   "id": "06d661b8",
   "metadata": {},
   "outputs": [
    {
     "name": "stdout",
     "output_type": "stream",
     "text": [
      "[1, 2, 3, 4, 5]\n"
     ]
    }
   ],
   "source": [
    "## map() to convert a list of strings to integers\n",
    "#Use map to convert string to integers\n",
    "str_numbers = ['1','2','3','4','5']\n",
    "int_numbers = list(map(int,str_numbers )) ## Here wejust used the python's inbuilt function called 'int'.\n",
    "\n",
    "print(int_numbers)# output => [1,2,3,4,5]"
   ]
  },
  {
   "cell_type": "code",
   "execution_count": 7,
   "id": "814b6c2b",
   "metadata": {},
   "outputs": [
    {
     "name": "stdout",
     "output_type": "stream",
     "text": [
      "['APPLE', 'BANANA', 'CHERRY']\n"
     ]
    }
   ],
   "source": [
    "words=['apple','banana','cherry']\n",
    "upper_word = list(map(str.upper , words))\n",
    "print(upper_word)"
   ]
  },
  {
   "cell_type": "code",
   "execution_count": 9,
   "id": "63844299",
   "metadata": {},
   "outputs": [
    {
     "data": {
      "text/plain": [
       "['Ayush', 'sunny']"
      ]
     },
     "execution_count": 9,
     "metadata": {},
     "output_type": "execute_result"
    }
   ],
   "source": [
    "def get_Name(person):\n",
    "    return person['name']\n",
    "\n",
    "\n",
    "people =[\n",
    "    {'name':'Ayush', 'age':23},\n",
    "    {'name':'sunny', 'age':43}\n",
    "]\n",
    "list(map(get_Name , people))"
   ]
  },
  {
   "cell_type": "markdown",
   "id": "08ebb2e2",
   "metadata": {},
   "source": [
    "\n",
    "**Conclusion**\n",
    "\n",
    "The map() function is a powerful tool for applying transformations to iterable data structures. It can be used with regular functions, lambda functions, and even multiple iterables, providing a versatile approach to data processing in Python. By understanding and utilizing map(), you can write more efficient and readable code."
   ]
  },
  {
   "cell_type": "markdown",
   "id": "98f34650",
   "metadata": {},
   "source": []
  }
 ],
 "metadata": {
  "kernelspec": {
   "display_name": "Python 3",
   "language": "python",
   "name": "python3"
  },
  "language_info": {
   "codemirror_mode": {
    "name": "ipython",
    "version": 3
   },
   "file_extension": ".py",
   "mimetype": "text/x-python",
   "name": "python",
   "nbconvert_exporter": "python",
   "pygments_lexer": "ipython3",
   "version": "3.12.0"
  }
 },
 "nbformat": 4,
 "nbformat_minor": 5
}
