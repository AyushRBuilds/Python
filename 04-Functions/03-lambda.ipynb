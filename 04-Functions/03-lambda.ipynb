{
 "cells": [
  {
   "cell_type": "markdown",
   "id": "76cb6f67",
   "metadata": {},
   "source": [
    "\n",
    "**Lambda Functions in Python**\n",
    "\n",
    "Lambda functions are small anonymous functions defined using the lambda keyword. They can have any number of arguments but only one expression. They are commonly used for short operations or as arguments to higher-order functions."
   ]
  },
  {
   "cell_type": "code",
   "execution_count": null,
   "id": "b9eb71c7",
   "metadata": {},
   "outputs": [],
   "source": [
    "# Syntax\n",
    "lambda arguments:expression"
   ]
  },
  {
   "cell_type": "code",
   "execution_count": 1,
   "id": "e3fb02cc",
   "metadata": {},
   "outputs": [
    {
     "data": {
      "text/plain": [
       "5"
      ]
     },
     "execution_count": 1,
     "metadata": {},
     "output_type": "execute_result"
    }
   ],
   "source": [
    "# this is how we normally define the function:\n",
    "def addn(a,b):\n",
    "    return a+b\n",
    "\n",
    "# Calling The function,\n",
    "addn(2,3)"
   ]
  },
  {
   "cell_type": "code",
   "execution_count": null,
   "id": "7f4262e0",
   "metadata": {},
   "outputs": [
    {
     "name": "stdout",
     "output_type": "stream",
     "text": [
      "<class 'function'>\n",
      "14\n"
     ]
    }
   ],
   "source": [
    "# This is How we define the function using Lambda function.\n",
    "addition = lambda a,b:a+b\n",
    "print(type(addition))\n",
    "print(addition(5,9))"
   ]
  },
  {
   "cell_type": "code",
   "execution_count": 5,
   "id": "7cc2c906",
   "metadata": {},
   "outputs": [
    {
     "data": {
      "text/plain": [
       "True"
      ]
     },
     "execution_count": 5,
     "metadata": {},
     "output_type": "execute_result"
    }
   ],
   "source": [
    "even1= lambda num: num%2 ==0\n",
    "even1(12)"
   ]
  },
  {
   "cell_type": "code",
   "execution_count": 6,
   "id": "3634f881",
   "metadata": {},
   "outputs": [
    {
     "data": {
      "text/plain": [
       "50"
      ]
     },
     "execution_count": 6,
     "metadata": {},
     "output_type": "execute_result"
    }
   ],
   "source": [
    "def addn1(x,y,z):\n",
    "    return x+y+z\n",
    "\n",
    "addn1(23,23,4)"
   ]
  },
  {
   "cell_type": "code",
   "execution_count": 7,
   "id": "20ce33e6",
   "metadata": {},
   "outputs": [
    {
     "data": {
      "text/plain": [
       "50"
      ]
     },
     "execution_count": 7,
     "metadata": {},
     "output_type": "execute_result"
    }
   ],
   "source": [
    "addition1 = lambda x,y,z:x+y+z\n",
    "addition1(23,23,4)"
   ]
  },
  {
   "cell_type": "code",
   "execution_count": 9,
   "id": "c72ea76f",
   "metadata": {},
   "outputs": [
    {
     "data": {
      "text/plain": [
       "9"
      ]
     },
     "execution_count": 9,
     "metadata": {},
     "output_type": "execute_result"
    }
   ],
   "source": [
    "## map()- applies a function to all items in a list.\n",
    "numbers = [1,2,3,4,5,6,7]\n",
    "def square(number):\n",
    "    return number**2\n",
    "\n",
    "\n",
    "square(3)"
   ]
  },
  {
   "cell_type": "code",
   "execution_count": null,
   "id": "2ad69135",
   "metadata": {},
   "outputs": [
    {
     "data": {
      "text/plain": [
       "[1, 4, 9, 16, 25, 36, 49]"
      ]
     },
     "execution_count": 10,
     "metadata": {},
     "output_type": "execute_result"
    }
   ],
   "source": [
    "list(map(lambda x:x**2,numbers))\n",
    "\n",
    "# list(map(lambda <parameters/arguements>: <expression>, <iterable>))\n",
    "\n",
    "# Explanation of Components\n",
    "# - lambda <parameter>: <expression>\n",
    "# Defines an anonymous function (i.e., a function without a name).\n",
    "# - <parameter> is the input variable (e.g., x)\n",
    "# - <expression> is what you want to do with that input (e.g., x**2)\n",
    "# - map(function, iterable)\n",
    "# Applies the given function to each item in the iterable (like a list).\n",
    "# - list(...)\n",
    "# Converts the result of map (which is a map object) into a list.\n"
   ]
  },
  {
   "cell_type": "code",
   "execution_count": null,
   "id": "213a50f9",
   "metadata": {},
   "outputs": [],
   "source": []
  }
 ],
 "metadata": {
  "kernelspec": {
   "display_name": "Python 3",
   "language": "python",
   "name": "python3"
  },
  "language_info": {
   "codemirror_mode": {
    "name": "ipython",
    "version": 3
   },
   "file_extension": ".py",
   "mimetype": "text/x-python",
   "name": "python",
   "nbconvert_exporter": "python",
   "pygments_lexer": "ipython3",
   "version": "3.12.0"
  }
 },
 "nbformat": 4,
 "nbformat_minor": 5
}
