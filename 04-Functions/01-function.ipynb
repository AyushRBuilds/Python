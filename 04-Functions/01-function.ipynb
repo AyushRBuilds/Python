{
 "cells": [
  {
   "cell_type": "markdown",
   "id": "462c9158",
   "metadata": {},
   "source": [
    "\n",
    "**Functions in Python**\n",
    "\n",
    "agenda:\n",
    "\n",
    "1. Introduction to Functions\n",
    "2. Defining Functions\n",
    "3. Calling Functions\n",
    "4. Function Parameters\n",
    "5. Default Parameters\n",
    "6. Variable-Length Arguments\n",
    "7. Return Statement\n",
    "\n",
    "**Introduction to Functions**\n",
    "\n",
    "Definition:\n",
    "\n",
    "A function is a block of code that performs a specific task. Functions help in organizing code, reusing code, and improving readability."
   ]
  },
  {
   "cell_type": "code",
   "execution_count": null,
   "id": "ebcd78da",
   "metadata": {},
   "outputs": [],
   "source": [
    "## Syntax of creating Functions.\n",
    "def function_name(parameter):                                  \n",
    "    \"\"\"Docstring\"\"\"\n",
    "    # Function Body\n",
    "    return expression \n",
    "\n",
    "\n",
    "\n",
    "#  1. def — Function Definition Keyword\n",
    "# - This tells Python you're defining a function.\n",
    "# - It must be followed by the function name and parentheses.\n",
    "\n",
    "\n",
    "#  2. function_name(parameter) — Naming and Parameters\n",
    "# - function_name: Choose a descriptive name (e.g., greet, calculate_total, get_user_data)\n",
    "# - parameter: Input(s) the function needs to work with. You can have:\n",
    "# - No parameters: def say_hello():\n",
    "# - One parameter: def greet(name):\n",
    "# - Multiple parameters: def add(a, b):\n",
    "\n",
    "#  3. \"\"\"Docstring\"\"\" — Optional Documentation\n",
    "# - A docstring explains what the function does.\n",
    "# - It’s enclosed in triple quotes (\"\"\") and placed right after the function header.\n",
    "\n",
    "# 4. # Function Body — The Logic\n",
    "# - This is where you write the code that performs the task.\n",
    "# - It can include calculations, conditionals, loops, etc.\n",
    "#     message = f\"Hello, {name}!\"\n",
    "\n",
    "# 5. return expression — Output\n",
    "# - return sends the result back to the caller.\n",
    "# - Without return, the function returns None by default."
   ]
  },
  {
   "cell_type": "code",
   "execution_count": 4,
   "id": "6f85f976",
   "metadata": {},
   "outputs": [
    {
     "name": "stdout",
     "output_type": "stream",
     "text": [
      "The Number is Even.\n"
     ]
    }
   ],
   "source": [
    "## Why Functions.?\n",
    "num=24\n",
    "if num%2==0:\n",
    "    print(\"The Number is Even.\")\n",
    "else:\n",
    "    print(\"The Number is Odd\")"
   ]
  },
  {
   "cell_type": "code",
   "execution_count": null,
   "id": "b24c741d",
   "metadata": {},
   "outputs": [
    {
     "name": "stdout",
     "output_type": "stream",
     "text": [
      "The Number is Even.\n"
     ]
    }
   ],
   "source": [
    "def even_Odd(num):\n",
    "    \"\"\" This Function finds Even or Odd\"\"\"\n",
    "    if num%2==0:\n",
    "        print(\"The Number is Even.\")\n",
    "    else:\n",
    "        print(\"The Number is Odd\")\n",
    "\n",
    "\n",
    "# Calling the function to get executeed.        \n",
    "even_Odd(34)\n"
   ]
  },
  {
   "cell_type": "code",
   "execution_count": 12,
   "id": "a4cfb081",
   "metadata": {},
   "outputs": [
    {
     "name": "stdout",
     "output_type": "stream",
     "text": [
      "6\n"
     ]
    }
   ],
   "source": [
    "## Functions with Multiple Parameters.\n",
    "\n",
    "def add(m,n):\n",
    "    return m+n\n",
    "\n",
    "\n",
    "result =add(2,4)\n",
    "print(result)"
   ]
  },
  {
   "cell_type": "code",
   "execution_count": null,
   "id": "c96b3a20",
   "metadata": {},
   "outputs": [
    {
     "name": "stdout",
     "output_type": "stream",
     "text": [
      "Hello Avi Welcome to Jantar Mantar.\n"
     ]
    }
   ],
   "source": [
    "## Default Parameters.In Python, default parameters allow you to assign a default value to a function argument. If the caller doesn't provide a value for that argument, Python uses the default.\n",
    "\n",
    "\n",
    "def greet(name):\n",
    "    print(f\"Hello {name} Welcome to Jantar Mantar.\")\n",
    "\n",
    "greet(\"Avi\") ## Here the caller has provided the argument."
   ]
  },
  {
   "cell_type": "code",
   "execution_count": null,
   "id": "03882891",
   "metadata": {},
   "outputs": [
    {
     "name": "stdout",
     "output_type": "stream",
     "text": [
      "Hello Guest Welcome to Jantar Mantar.\n"
     ]
    }
   ],
   "source": [
    "# incase if he/she doesn't provide the arg then .\n",
    "def greet(name=\"Guest\"):    # this is how we provide the default parameter .\n",
    "    print(f\"Hello {name} Welcome to Jantar Mantar.\");\n",
    "\n",
    "greet() ## Here The caller hasn't provider the arg thus default arg works "
   ]
  },
  {
   "cell_type": "code",
   "execution_count": null,
   "id": "854ee9c0",
   "metadata": {},
   "outputs": [
    {
     "name": "stdout",
     "output_type": "stream",
     "text": [
      "1\n",
      "2\n",
      "3\n",
      "4\n",
      "5\n",
      "6\n",
      "Avi\n",
      "\n",
      "1\n",
      "2\n",
      "3\n",
      "4\n",
      "5\n",
      "6\n",
      "Ayush\n"
     ]
    }
   ],
   "source": [
    "## Varaible Length Arguements\n",
    "\n",
    "\n",
    "def print_num(*Ayush):\n",
    "    for num in Ayush:\n",
    "        print(num)\n",
    "\n",
    "\n",
    "print_num(1,2,3,4,5,6,\"Avi\")\n",
    "\n",
    "# What’s Happening Here?\n",
    "# - *Ayush collects all the values into a tuple: (1, 2, 3, 4, 5, 6, \"Avi\")\n",
    "# - The function loops through each item and prints it.\n",
    "\n",
    "# Why Use *args?\n",
    "# - You don’t need to define a fixed number of parameters.\n",
    "# - Great for functions like log_event(*messages) or add_items(*values).\n",
    "\n",
    "\n",
    "print(\"\"\"\"\"\"\"\")\n",
    "\n",
    "# *args aloows function to collect unnamed arguments.\n",
    "## Positional arguments\n",
    "def print_numbers(*args): ## Writing *args is good practice in industry <But we can can write anything we want there since it doesn't matter for code implementation\n",
    "        for num in args:\n",
    "          print(num)\n",
    "\n",
    "print_num(1,2,3,4,5,6,\"Ayush\")\n",
    "\n"
   ]
  },
  {
   "cell_type": "code",
   "execution_count": null,
   "id": "1e67a497",
   "metadata": {},
   "outputs": [
    {
     "name": "stdout",
     "output_type": "stream",
     "text": [
      "name:Ayush\n",
      "age:19\n",
      "country:India\n"
     ]
    }
   ],
   "source": [
    "## Keywords arguments.\n",
    "\n",
    "def print_details(**kwargs):\n",
    "    for key,value in kwargs.items():\n",
    "        print(f\"{key}:{value}\");\n",
    "\n",
    "print_details(name=\"Ayush\",age=\"19\",country=\"India\")\n",
    "\n",
    "\n",
    "# - **kwargs stands for \"keyword arguments\".\n",
    "# - It allows a function to accept any number of named arguments.\n",
    "# - These arguments are collected into a dictionary.\n",
    "\n",
    "\n",
    "# Why Can We Write Anything Instead of *args?\n",
    "# Yes, you can write any name after the * — like *Ayush, *numbers, *data, etc. The same goes for **kwargs — you could write **info, **profile, etc.\n",
    "\n",
    "# Why Does the Name Not Matter?\n",
    "# Because the * and ** are the real operators doing the work:\n",
    "# - * tells Python: “Collect all extra positional arguments into a tuple.”\n",
    "# - ** tells Python: “Collect all extra keyword arguments into a dictionary.”\n",
    "\n"
   ]
  },
  {
   "cell_type": "code",
   "execution_count": null,
   "id": "6288db35",
   "metadata": {},
   "outputs": [
    {
     "ename": "SyntaxError",
     "evalue": "positional argument follows keyword argument (3881172650.py, line 10)",
     "output_type": "error",
     "traceback": [
      "  \u001b[36mCell\u001b[39m\u001b[36m \u001b[39m\u001b[32mIn[29]\u001b[39m\u001b[32m, line 10\u001b[39m\n\u001b[31m    \u001b[39m\u001b[31mprint_details(1,2,3,4,\"ayush\",name=\"Ayush\",5,age=\"19\",country=\"India\")\u001b[39m\n                                                                         ^\n\u001b[31mSyntaxError\u001b[39m\u001b[31m:\u001b[39m positional argument follows keyword argument\n"
     ]
    }
   ],
   "source": [
    "def print_details(*args,**kwargs):\n",
    "    for val in args:\n",
    "        print(f\"Positional arguments:{val}\")\n",
    "\n",
    "\n",
    "    for key,value in kwargs.items():\n",
    "        print(f\"{key}:{value}\")\n",
    "\n",
    "\n",
    "print_details(1,2,3,4,\"ayush\",name=\"Ayush\",5,age=\"19\",country=\"India\")\n"
   ]
  },
  {
   "cell_type": "markdown",
   "id": "c68b60cb",
   "metadata": {},
   "source": [
    "You're getting this SyntaxError because in Python, positional arguments must come before keyword arguments in a function call\n"
   ]
  },
  {
   "cell_type": "code",
   "execution_count": 30,
   "id": "efb5f068",
   "metadata": {},
   "outputs": [
    {
     "name": "stdout",
     "output_type": "stream",
     "text": [
      "Positional arguments:1\n",
      "Positional arguments:2\n",
      "Positional arguments:3\n",
      "Positional arguments:4\n",
      "Positional arguments:ayush\n",
      "name:Ayush\n",
      "age:19\n",
      "country:India\n"
     ]
    }
   ],
   "source": [
    "print_details(1,2,3,4,\"ayush\",name=\"Ayush\",age=\"19\",country=\"India\")\n"
   ]
  },
  {
   "cell_type": "code",
   "execution_count": null,
   "id": "9ef3ffbc",
   "metadata": {},
   "outputs": [
    {
     "data": {
      "text/plain": [
       "(18, 3, 6)"
      ]
     },
     "execution_count": 32,
     "metadata": {},
     "output_type": "execute_result"
    }
   ],
   "source": [
    "## return Multiple Parameters.\n",
    "def multiply(m,n):\n",
    "    return m*n, m, n\n",
    "\n",
    "multiply(3,6)\n",
    "\n",
    "# -  Python functions can return multiple values using a tuple.\n"
   ]
  }
 ],
 "metadata": {
  "kernelspec": {
   "display_name": "Python 3",
   "language": "python",
   "name": "python3"
  },
  "language_info": {
   "codemirror_mode": {
    "name": "ipython",
    "version": 3
   },
   "file_extension": ".py",
   "mimetype": "text/x-python",
   "name": "python",
   "nbconvert_exporter": "python",
   "pygments_lexer": "ipython3",
   "version": "3.12.0"
  }
 },
 "nbformat": 4,
 "nbformat_minor": 5
}
