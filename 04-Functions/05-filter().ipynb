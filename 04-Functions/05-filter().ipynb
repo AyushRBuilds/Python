{
 "cells": [
  {
   "cell_type": "markdown",
   "id": "403ea8a7",
   "metadata": {},
   "source": [
    "\n",
    "**The filter() Function in Python** \n",
    "\n",
    "The filter() function constructs an iterator from elements of an iterable for which a function returns true. It is used to filter out items from a list (or any other iterable) based on a condition."
   ]
  },
  {
   "cell_type": "code",
   "execution_count": null,
   "id": "e7d2fcde",
   "metadata": {},
   "outputs": [],
   "source": [
    "def even(num):\n",
    "    if num%2==0:\n",
    "        return True\n",
    "   "
   ]
  },
  {
   "cell_type": "code",
   "execution_count": 7,
   "id": "9e63ed1d",
   "metadata": {},
   "outputs": [
    {
     "data": {
      "text/plain": [
       "False"
      ]
     },
     "execution_count": 7,
     "metadata": {},
     "output_type": "execute_result"
    }
   ],
   "source": [
    "even(23)"
   ]
  },
  {
   "cell_type": "code",
   "execution_count": null,
   "id": "e783e895",
   "metadata": {},
   "outputs": [
    {
     "data": {
      "text/plain": [
       "[2, 4, 6, 8]"
      ]
     },
     "execution_count": 8,
     "metadata": {},
     "output_type": "execute_result"
    }
   ],
   "source": [
    "lst = [1,2,3,4,5,6,7,8,9]\n",
    "\n",
    "list(filter(even,lst))\n",
    "\n",
    "\n",
    "# What's happening in here ?\n",
    "# - lst = [1,2,3,4,5,6,7,8,9] creates a list of numbers from 1 to 9.\n",
    "# - filter(even, lst) applies the even function to each item in the list and keeps only those where even(x) returns True.\n",
    "# - list(...) converts the filtered result into a list.\n",
    "# - But: even must be defined beforehand (e.g., a function that checks if a number is divisible by 2), or the code will throw an error.\n"
   ]
  },
  {
   "cell_type": "code",
   "execution_count": 10,
   "id": "923fdf45",
   "metadata": {},
   "outputs": [
    {
     "name": "stdout",
     "output_type": "stream",
     "text": [
      "[6, 7, 8, 9]\n"
     ]
    }
   ],
   "source": [
    "## filter with Lambda function.\n",
    "numbers = [1,2,3,4,5,6,7,8,9]\n",
    "greater_than_five = list(filter(lambda x:x>5 ,numbers))\n",
    "print(greater_than_five)"
   ]
  },
  {
   "cell_type": "code",
   "execution_count": 12,
   "id": "5a983d27",
   "metadata": {},
   "outputs": [
    {
     "name": "stdout",
     "output_type": "stream",
     "text": [
      "[6, 8]\n"
     ]
    }
   ],
   "source": [
    "## Filter with multiple conditions\n",
    "numbers = [1,2,3,4,5,6,7,8,9]\n",
    "even_and_greater_than_five = list(filter(lambda x:x>5 and x%2==0 , numbers))\n",
    "print(even_and_greater_than_five)"
   ]
  },
  {
   "cell_type": "code",
   "execution_count": 14,
   "id": "58ac89ac",
   "metadata": {},
   "outputs": [
    {
     "data": {
      "text/plain": [
       "[{'name': 'Avi', 'age': 30}, {'name': 'Sunny', 'age': 51}]"
      ]
     },
     "execution_count": 14,
     "metadata": {},
     "output_type": "execute_result"
    }
   ],
   "source": [
    "## Filter( to check if the age is greater than 25 in dictionaries )\n",
    "\n",
    "people=[\n",
    "    {'name':'Ayush','age':20},\n",
    "    {'name':'Avi','age':30},\n",
    "    {'name':'Sunny','age':51},\n",
    "    {'name':'Joshua','age':24}\n",
    "]\n",
    "def greater_than_T(person):\n",
    "    return person['age']>25\n",
    "\n",
    "list(filter(greater_than_T ,people))\n"
   ]
  },
  {
   "cell_type": "markdown",
   "id": "994376be",
   "metadata": {},
   "source": [
    "\n",
    "**Conclusion**:\n",
    "\n",
    "The filter() function is a powerful tool for creating iterators that filter items out of an iterable based on a function. It is commonly used for data cleaning, filtering objects, and removing unwanted elements from lists. By mastering filter(), you can write more concise and efficient code for processing and manipulating collections in Python."
   ]
  }
 ],
 "metadata": {
  "kernelspec": {
   "display_name": "Python 3",
   "language": "python",
   "name": "python3"
  },
  "language_info": {
   "codemirror_mode": {
    "name": "ipython",
    "version": 3
   },
   "file_extension": ".py",
   "mimetype": "text/x-python",
   "name": "python",
   "nbconvert_exporter": "python",
   "pygments_lexer": "ipython3",
   "version": "3.12.0"
  }
 },
 "nbformat": 4,
 "nbformat_minor": 5
}
