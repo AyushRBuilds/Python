{
 "cells": [
  {
   "cell_type": "markdown",
   "id": "dd45491c",
   "metadata": {},
   "source": [
    "\n",
    "**Functions Examples**\n",
    "\n",
    "**Example 1: Temperature Conversion**"
   ]
  },
  {
   "cell_type": "code",
   "execution_count": 3,
   "id": "6fbb97c0",
   "metadata": {},
   "outputs": [
    {
     "name": "stdout",
     "output_type": "stream",
     "text": [
      "77.0\n",
      "25.0\n"
     ]
    }
   ],
   "source": [
    "def temp_conversion(temp,unit ):\n",
    "    \"\"\"this function help us for temperature conversion btwn celsius & fahrenheit.\"\"\"\n",
    "    if unit=='C':\n",
    "        return temp*(9/5)+32 ## Celsius to fahrenheit.\n",
    "    elif unit=='F':\n",
    "        return (temp-32)*(5/9) ## fahrenheit to Celsius.\n",
    "    else:\n",
    "        return None\n",
    "    \n",
    "print(temp_conversion(25 ,'C'))\n",
    "print(temp_conversion(77,'F'))\n"
   ]
  },
  {
   "cell_type": "markdown",
   "id": "7d1a5e49",
   "metadata": {},
   "source": [
    "**Example 2: Password Strength Checker**"
   ]
  },
  {
   "cell_type": "code",
   "execution_count": 20,
   "id": "df2f3455",
   "metadata": {},
   "outputs": [
    {
     "name": "stdout",
     "output_type": "stream",
     "text": [
      "False\n",
      "True\n"
     ]
    }
   ],
   "source": [
    "def is_Strong(password):\n",
    "    \"\"\"This Function helps us to check if the password is strong or Not.\"\"\"\n",
    "\n",
    "    if len(password)<8:\n",
    "        return False; \n",
    "    if not any(char.isdigit() for char in password):\n",
    "        return False;\n",
    "    if not any(char.islower() for char in password):\n",
    "        return False;\n",
    "    if not any (char.isupper() for char in password):\n",
    "        return False;\n",
    "    if not any(char in '!@#$%^&*()_+' for char in password):\n",
    "        return False;\n",
    "    return True;\n",
    "\n",
    "## Calling The function.\n",
    "print(is_Strong(\"WeakPwd\"))\n",
    "print(is_Strong(\"Str0ngPwd!\"))\n",
    "    "
   ]
  },
  {
   "cell_type": "markdown",
   "id": "5bc75a10",
   "metadata": {},
   "source": [
    "**Example 3: Calculate the Total Cost Of Items In a Shopping Cart**"
   ]
  },
  {
   "cell_type": "code",
   "execution_count": null,
   "id": "909ca9bd",
   "metadata": {},
   "outputs": [
    {
     "name": "stdout",
     "output_type": "stream",
     "text": [
      "74\n"
     ]
    }
   ],
   "source": [
    "def total_Cost(cart):\n",
    "    final_cost=0\n",
    "    for item in cart:\n",
    "        final_cost+=item['price']*item['quantity']\n",
    "\n",
    "    return final_cost\n",
    "\n",
    "## Example Cart;\n",
    "\n",
    "cart=[\n",
    "    {'name':'pencil','price':5,'quantity':4},\n",
    "    {'name':'pens','price':8,'quantity':6},\n",
    "    {'name':'ruler','price':3,'quantity':2}\n",
    "]\n",
    "\n",
    "\n",
    "## Calling The function;\n",
    "final_cost=total_Cost(cart)\n",
    "print(final_cost)\n",
    "\n",
    "\n",
    "\n",
    "#         final_cost+=item['price']*item['quantity']\n",
    "# How Ithis above expression Works:\n",
    "# - item['price']: This fetches the price of the current item.\n",
    "# - item['quantity']: This fetches how many units of that item are being purchased.\n",
    "# - item['price'] * item['quantity']: Multiplies the price by the quantity to get the total cost for that item.\n",
    "# - final_cost += ...: Adds that item’s cost to the cumulative total.\n"
   ]
  },
  {
   "cell_type": "markdown",
   "id": "cff9ce1a",
   "metadata": {},
   "source": [
    "\n",
    "**Example 4: Check IF a String Is Palindrome**"
   ]
  },
  {
   "cell_type": "code",
   "execution_count": null,
   "id": "a8c87e87",
   "metadata": {},
   "outputs": [
    {
     "name": "stdout",
     "output_type": "stream",
     "text": [
      "True\n",
      "False\n"
     ]
    }
   ],
   "source": [
    "def is_palindrome(a):\n",
    "    a=a.lower().replace(\" \",\"\")\n",
    "    return a==a[::-1]\n",
    "\n",
    "print(is_palindrome(\"A man a plan a canal Panama\"))\n",
    "print(is_palindrome('Hello'))\n",
    "\n",
    "\n",
    "# Decoding what's Happening ?\n",
    "#  Step 1: Normalize the Input:\n",
    "# The line a = a.lower().replace(\" \", \"\") does two things:\n",
    "# - a.lower() converts all characters to lowercase. This ensures that case differences don’t affect the comparison.\n",
    "# - .replace(\" \", \"\") removes all spaces from the string. This is crucial for checking phrases like “A man a plan a canal Panama” where spaces would otherwise break the symmetry.\n",
    "# So, \"A man a plan a canal Panama\" becomes \"amanaplanacanalpanama\".\n",
    "\n",
    "#  Step 2: Compare with Reverse\n",
    "# The line return a == a[::-1] checks if the normalized string is equal to its reverse:\n",
    "# - a[::-1] creates a reversed version of the string.\n",
    "# - If the original and reversed strings match, it returns True.\n",
    "# - Otherwise, it returns False.\n",
    "\n",
    "# Step 3: check examples.\n",
    "# Let’s look at the two examples:\n",
    "# - print(is_palindrome(\"A man a plan a canal Panama\"))\n",
    "# After normalization, the string becomes \"amanaplanacanalpanama\", which is the same forward and backward. So the function returns True.\n",
    "# - print(is_palindrome(\"Hello\"))\n",
    "# After normalization, it becomes \"hello\", and its reverse is \"olleh\", which doesn’t match. So the function returns False.\n"
   ]
  },
  {
   "cell_type": "markdown",
   "id": "7f6310e6",
   "metadata": {},
   "source": [
    " **Example 5: Calculate the factorials of a number using recursion**\n",
    " \n",
    "Recursion is when the function get called inside the function itself .\n"
   ]
  },
  {
   "cell_type": "code",
   "execution_count": null,
   "id": "e3ac3b39",
   "metadata": {},
   "outputs": [
    {
     "name": "stdout",
     "output_type": "stream",
     "text": [
      "120\n"
     ]
    }
   ],
   "source": [
    "\n",
    "def factorial(n):\n",
    "    if n==0:\n",
    "        return 1\n",
    "    else:\n",
    "        return n * factorial(n-1)\n",
    "    \n",
    "print(factorial(5))\n",
    "\n",
    "# let's Decode:\n",
    "# 🔹 def factorial(n): — This creates a function called factorial that takes a number n.\n",
    "# 🔹 if n==0: — If n is 0, we stop and return 1 (because 0! is 1).\n",
    "# 🔹 return 1 — Sends back 1 when n is 0.\n",
    "# 🔹 else: — If n isn’t 0, do the next step.\n",
    "# 🔹 return n * factorial(n-1) — Multiply n by the factorial of one less than n. This repeats until n is 0.\n",
    "# 🔹 print(factorial(5)) — Runs the function with 5 and prints the result (which is 120).\n",
    "\n"
   ]
  }
 ],
 "metadata": {
  "kernelspec": {
   "display_name": "Python 3",
   "language": "python",
   "name": "python3"
  },
  "language_info": {
   "codemirror_mode": {
    "name": "ipython",
    "version": 3
   },
   "file_extension": ".py",
   "mimetype": "text/x-python",
   "name": "python",
   "nbconvert_exporter": "python",
   "pygments_lexer": "ipython3",
   "version": "3.12.0"
  }
 },
 "nbformat": 4,
 "nbformat_minor": 5
}
